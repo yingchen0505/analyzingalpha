{
 "cells": [
  {
   "cell_type": "code",
   "execution_count": 4,
   "metadata": {},
   "outputs": [
    {
     "name": "stdout",
     "output_type": "stream",
     "text": [
      "Directory  announcements  already exists\n"
     ]
    }
   ],
   "source": [
    "import os\n",
    "import requests\n",
    "import re\n",
    "from googlesearch import search \n",
    "from tabula import read_pdf\n",
    "\n",
    "dirName = \"announcements\"\n",
    "dirPath = \".\\\\\" + dirName + \"\\\\\"\n",
    "\n",
    "try:\n",
    "    # Create target Directory\n",
    "    os.mkdir(dirName)\n",
    "    print(\"Directory \" , dirName ,  \" Created \") \n",
    "except FileExistsError:\n",
    "    print(\"Directory \" , dirName ,  \" already exists\")"
   ]
  },
  {
   "cell_type": "code",
   "execution_count": 72,
   "metadata": {},
   "outputs": [],
   "source": [
    "def download_file(url):\n",
    "    file = requests.get(url, stream=True)\n",
    "    headers = file.headers['content-disposition']\n",
    "    filename = re.findall(\"filename=\\\"(.+)\\\"\", headers)[0]\n",
    "    location = os.path.relpath(dirPath + filename)\n",
    "    open(location, 'wb').write(file.content)\n",
    "    del file"
   ]
  },
  {
   "cell_type": "code",
   "execution_count": 70,
   "metadata": {},
   "outputs": [],
   "source": [
    "query = \"\\\"S&P 500 INDEX –\\\" \\\"Set to Join\\\" site:spindices.com filetype:pdf\"\n",
    "results = search(query, tld='com', lang='en', num=10, start=0, stop=None, pause=2.0)"
   ]
  },
  {
   "cell_type": "code",
   "execution_count": 74,
   "metadata": {
    "collapsed": true
   },
   "outputs": [
    {
     "name": "stdout",
     "output_type": "stream",
     "text": [
      "https://us.spindices.com/documents/indexnews/announcements/20200122-1077359/1077359_5payc.pdf?force_download=true\n",
      "https://us.spindices.com/documents/indexnews/announcements/20190709-957359/957359_hat5mobile.pdf?force_download=true\n",
      "https://us.spindices.com/documents/indexnews/announcements/20200227-1098962/1098962_Final5Ingersol4Cimar.pdf?force_download=true\n",
      "https://www.spindices.com/documents/indexnews/announcements/20190314-892576/892576_21foxspindis100adbe.pdf\n",
      "https://www.spindices.com/documents/indexnews/announcements/20191127-1041559/1041559_BerkleyRJoe546.pdf\n",
      "https://www.spindices.com/documents/indexnews/announcements/20190801-969367/969367_1leidos546foot6fizz6.pdf\n",
      "https://us.spindices.com/documents/indexnews/announcements/20190624-948566/948566_mktxaaxnmlab546usna6xncr6.pdf?force_download=true\n",
      "https://www.spindices.com/documents/indexnews/announcements/20190326-898958/898958_1dowspin100trex400.pdf\n",
      "https://www.spindices.com/documents/indexnews/announcements/20190926-1004359/1004359_4sands6pennantnektar5.pdf\n",
      "https://www.spindices.com/documents/indexnews/announcements/20191202-1042569/1042569_14Dominion5Ready6Cabot4Logistics.pdf\n",
      "https://us.spindices.com/ids_spice_data/idsfiles/11700_3dmaccor546.pdf\n",
      "https://us.spindices.com/ids_spice_data/idsfiles/11854_whitewavekansasdeanspin.pdf\n",
      "https://www.spindices.com/documents/indexnews/announcements/20190603-938358/938358_5bemis4mattel-newboiler.pdf\n",
      "https://us.spindices.com/documents/indexnews/announcements/20190528-935564/935564_dwdpspin5blmn6.pdf?force_download=true\n",
      "https://www.spindices.com/documents/indexnews/announcements/20190920-1000559/1000559_4jefferies5vicallon6finisar4smart2nvr.pdf\n",
      "https://www.spindices.com/documents/indexnews/announcements/20181227-845559/845559_firstrepscan5.pdf\n",
      "https://www.spindices.com/documents/indexnews/announcements/20190221-878161/878161_ge5wabtec4goodyear.pdf\n",
      "https://www.spindices.com/documents/indexnews/announcements/20181004-794361/794361_pennchefftntasgnvbtx546vv.pdf\n",
      "http://www.spindices.com/documents/indexnews/announcements/20170731-560953/560953_spinmetnoganfcn546.pdf\n",
      "https://www.spindices.com/documents/indexnews/announcements/20191213-1051561/1051561_migradec34253624lopeleaUntFtr.pdf\n",
      "https://www.spindices.com/documents/indexnews/announcements/20180911-776955/776955_health54energy8.pdf\n",
      "https://www.spindices.com/documents/indexnews/announcements/20181107-813582/813582_eqtspinb46superiorflotek.pdf\n",
      "https://www.spindices.com/documents/indexnews/announcements/20190115-856358/856358_pcg456.pdf\n",
      "https://www.spindices.com/documents/indexnews/announcements/20190208-870958/870958_newfieldencana5.pdf\n",
      "https://www.spindices.com/documents/indexnews/announcements/20181219-839558/839558_celscript5.pdf\n",
      "https://www.spindices.com/documents/indexnews/announcements/20180625-731759/731759_june25drpepperclarifications.pdf\n",
      "https://au.spindices.com/documents/indexnews/announcements/20180604-719152/719152_nflx1twtr5rgnx6.pdf?force_download=true\n",
      "https://www.spindices.com/documents/indexnews/announcements/20180925-786958/786958_rollininvandamotion.pdf\n",
      "https://us.spindices.com/documents/index-news-and-announcements/20171228-spdji-bard-huntington-games-ultra-press-release.pdf\n",
      "http://www.spindices.com/documents/indexnews/announcements/20160216-305547/305547_conch5plum.pdf\n",
      "https://www.spindices.com/documents/indexnews/announcements/20181030-808381/808381_acammilgndkeys-5426.pdf\n",
      "https://www.spindices.com/documents/indexnews/announcements/20160518-348544/348544_lkqairgas465.pdf\n",
      "https://www.spindices.com/documents/indexnews/announcements/20180525-714752/714752_spinwyndxccmicro54.pdf\n",
      "https://www.spindices.com/documents/indexnews/announcements/20160825-393354/393354_mtdmpwrwcicnls5466.pdf\n",
      "http://www.spindices.com/documents/indexnews/announcements/20160419-333750/333750_globalpaykrispygame54622.pdf\n",
      "http://www.spindices.com/documents/indexnews/announcements/20160513-346753/346753_ntdigitalcable5.pdf\n",
      "https://www.spindices.com/documents/indexnews/announcements/20181126-822558/822558_5lambrockdiamondpebblecvs46.pdf\n",
      "https://www.spindices.com/documents/indexnews/announcements/20180615-727360/727360_time1fleet5nvid14.pdf\n",
      "http://www.spindices.com/documents/indexnews/announcements/20160113-290355/290355_chubbaceextraspacement5546epr.pdf\n",
      "https://www.spindices.com/documents/indexnews/announcements/20170908-580952/580952_spls5cadencewoofbrinkwebrebal64.pdf\n",
      "http://us.spindices.com/documents/indexnews/announcements/20160303-313547/313547_gmcrudrhr546prlb.pdf?force_download=true\n",
      "http://www.spindices.com/documents/indexnews/announcements/20151228-282746/282746_williswatglobaladept4256domfloat.pdf\n",
      "https://www.spindices.com/documents/indexnews/announcements/20180608-722756/722756_1hollybroadshuf252426finl.pdf\n",
      "https://us.spindices.com/documents/index-news-and-announcements/ichor5arista6micro.pdf?force_download=true\n",
      "http://www.spindices.com/documents/indexnews/announcements/20170524-530961/530961_info5tgnacars4jcptime6.pdf\n",
      "https://www.spindices.com/documents/indexnews/announcements/20160623-365754/365754_tecocolumbiaspindhr.pdf\n",
      "https://eu.spindices.com/documents/indexnews/announcements/20160122-293975/293975_soofrtbrcmcwcray5poolabg462ann.pdf?force_download=true\n",
      "http://us.spindices.com/documents/indexnews/announcements/20160621-364753/364753_cablehorse45mi.pdf?force_download=true\n",
      "http://www.spindices.com/documents/indexnews/announcements/20160629-369149/369149_1lntswxsstk546.pdf\n",
      "https://eu.spindices.com/documents/indexnews/announcements/20170103-465757/465757_idxx5cc4shak6.pdf?force_download=true\n",
      "https://www.spindices.com/documents/indexnews/announcements/20170612-539353/539353_everpinneast546.pdf\n",
      "http://www.spindices.com/documents/indexnews/announcements/20160510-345162/345162_alaskatotexascavs.pdf\n",
      "https://www.spindices.com/documents/indexnews/announcements/20160927-409359/409359_2coty5do4oth.pdf\n",
      "https://jp.spindices.com/documents/indexnews/announcements/20170609-538160/538160_yhoohlt5anssalgnrydertera.pdf?force_download=true\n",
      "http://www.spindices.com/documents/indexnews/announcements/20170306-493956/493956_lineardish5.pdf\n",
      "https://us.spindices.com/documents/index-news-and-announcements/AAshufspinsept2013vrtxamesaiamd.pdf\n",
      "https://www.spindices.com/documents/indexnews/announcements/20171004-593950/593950_cruise5century6pacific.pdf\n",
      "https://www.spindices.com/documents/indexnews/announcements/20160407-329544/329544_ulta5tenet24jah.pdf\n",
      "https://www.spindices.com/documents/indexnews/announcements/20170329-505361/505361_mentit5cebhskadnb46.pdf\n",
      "https://www.spindices.com/documents/indexnews/announcements/20170328-504361/504361_cscswn54.pdf\n",
      "https://au.spindices.com/documents/indexnews/announcements/20180302-671577/671577_ipgalenymtgnl5466.pdf?force_download=true\n",
      "http://www.spindices.com/documents/indexnews/announcements/20160328-323362/323362_footcam5dctindustrial4.pdf\n",
      "https://au.spindices.com/documents/indexnews/announcements/20160524-351348/351348_cceajgedraxl546.pdf?force_download=true\n",
      "https://eu.spindices.com/documents/indexnews/announcements/20170824-572951/572951_500dowdupont1chartsbacwfm.pdf?force_download=true\n",
      "http://www.spindices.com/documents/indexnews/announcements/20151109-259953/259953_split0ffsyf5ge4rovi4virginia.pdf\n",
      "http://www.spindices.com/documents/indexnews/announcements/20151112-261545/261545_illumin5sigma.pdf\n",
      "https://www.spindices.com/documents/indexnews/announcements/20150309-152351/152351_petskyjet546.pdf\n",
      "http://www.spindices.com/documents/indexnews/announcements/20160301-312347/312347_524slhcnxawk.pdf\n",
      "https://us.spindices.com/documents/indexnews/announcements/20131211/67155_fbshuf252426100.pdf\n",
      "http://www.spindices.com/documents/indexnews/announcements/20150930-242147/242147_4thorverisk5.pdf\n",
      "http://www.spindices.com/documents/indexnews/announcements/20160126-295550/295550_precisioncfg5mdaszltq66peprmaxsoo.pdf\n",
      "https://www.spindices.com/documents/indexnews/announcements/20180309-675150/675150_idesshuf18nktr.pdf\n",
      "https://us.spindices.com/documents/indexnews/announcements/20151027-253375/253375_bbz2hpspinzerohudsonexterranspin6451.pdf?force_download=true\n"
     ]
    },
    {
     "ename": "ConnectionError",
     "evalue": "HTTPConnectionPool(host='stg.spindices.com', port=80): Max retries exceeded with url: /documents/indexnews/announcements/20150706-204357/204357_dollarjackcontact546.pdf (Caused by NewConnectionError('<urllib3.connection.HTTPConnection object at 0x0000021D19A414C8>: Failed to establish a new connection: [WinError 10060] A connection attempt failed because the connected party did not properly respond after a period of time, or established connection failed because connected host has failed to respond'))",
     "output_type": "error",
     "traceback": [
      "\u001b[1;31m---------------------------------------------------------------------------\u001b[0m",
      "\u001b[1;31mTimeoutError\u001b[0m                              Traceback (most recent call last)",
      "\u001b[1;32m~\\Anaconda3\\envs\\finance\\lib\\site-packages\\urllib3\\connection.py\u001b[0m in \u001b[0;36m_new_conn\u001b[1;34m(self)\u001b[0m\n\u001b[0;32m    156\u001b[0m             conn = connection.create_connection(\n\u001b[1;32m--> 157\u001b[1;33m                 \u001b[1;33m(\u001b[0m\u001b[0mself\u001b[0m\u001b[1;33m.\u001b[0m\u001b[0m_dns_host\u001b[0m\u001b[1;33m,\u001b[0m \u001b[0mself\u001b[0m\u001b[1;33m.\u001b[0m\u001b[0mport\u001b[0m\u001b[1;33m)\u001b[0m\u001b[1;33m,\u001b[0m \u001b[0mself\u001b[0m\u001b[1;33m.\u001b[0m\u001b[0mtimeout\u001b[0m\u001b[1;33m,\u001b[0m \u001b[1;33m**\u001b[0m\u001b[0mextra_kw\u001b[0m\u001b[1;33m\u001b[0m\u001b[1;33m\u001b[0m\u001b[0m\n\u001b[0m\u001b[0;32m    158\u001b[0m             )\n",
      "\u001b[1;32m~\\Anaconda3\\envs\\finance\\lib\\site-packages\\urllib3\\util\\connection.py\u001b[0m in \u001b[0;36mcreate_connection\u001b[1;34m(address, timeout, source_address, socket_options)\u001b[0m\n\u001b[0;32m     83\u001b[0m     \u001b[1;32mif\u001b[0m \u001b[0merr\u001b[0m \u001b[1;32mis\u001b[0m \u001b[1;32mnot\u001b[0m \u001b[1;32mNone\u001b[0m\u001b[1;33m:\u001b[0m\u001b[1;33m\u001b[0m\u001b[1;33m\u001b[0m\u001b[0m\n\u001b[1;32m---> 84\u001b[1;33m         \u001b[1;32mraise\u001b[0m \u001b[0merr\u001b[0m\u001b[1;33m\u001b[0m\u001b[1;33m\u001b[0m\u001b[0m\n\u001b[0m\u001b[0;32m     85\u001b[0m \u001b[1;33m\u001b[0m\u001b[0m\n",
      "\u001b[1;32m~\\Anaconda3\\envs\\finance\\lib\\site-packages\\urllib3\\util\\connection.py\u001b[0m in \u001b[0;36mcreate_connection\u001b[1;34m(address, timeout, source_address, socket_options)\u001b[0m\n\u001b[0;32m     73\u001b[0m                 \u001b[0msock\u001b[0m\u001b[1;33m.\u001b[0m\u001b[0mbind\u001b[0m\u001b[1;33m(\u001b[0m\u001b[0msource_address\u001b[0m\u001b[1;33m)\u001b[0m\u001b[1;33m\u001b[0m\u001b[1;33m\u001b[0m\u001b[0m\n\u001b[1;32m---> 74\u001b[1;33m             \u001b[0msock\u001b[0m\u001b[1;33m.\u001b[0m\u001b[0mconnect\u001b[0m\u001b[1;33m(\u001b[0m\u001b[0msa\u001b[0m\u001b[1;33m)\u001b[0m\u001b[1;33m\u001b[0m\u001b[1;33m\u001b[0m\u001b[0m\n\u001b[0m\u001b[0;32m     75\u001b[0m             \u001b[1;32mreturn\u001b[0m \u001b[0msock\u001b[0m\u001b[1;33m\u001b[0m\u001b[1;33m\u001b[0m\u001b[0m\n",
      "\u001b[1;31mTimeoutError\u001b[0m: [WinError 10060] A connection attempt failed because the connected party did not properly respond after a period of time, or established connection failed because connected host has failed to respond",
      "\nDuring handling of the above exception, another exception occurred:\n",
      "\u001b[1;31mNewConnectionError\u001b[0m                        Traceback (most recent call last)",
      "\u001b[1;32m~\\Anaconda3\\envs\\finance\\lib\\site-packages\\urllib3\\connectionpool.py\u001b[0m in \u001b[0;36murlopen\u001b[1;34m(self, method, url, body, headers, retries, redirect, assert_same_host, timeout, pool_timeout, release_conn, chunked, body_pos, **response_kw)\u001b[0m\n\u001b[0;32m    671\u001b[0m                 \u001b[0mheaders\u001b[0m\u001b[1;33m=\u001b[0m\u001b[0mheaders\u001b[0m\u001b[1;33m,\u001b[0m\u001b[1;33m\u001b[0m\u001b[1;33m\u001b[0m\u001b[0m\n\u001b[1;32m--> 672\u001b[1;33m                 \u001b[0mchunked\u001b[0m\u001b[1;33m=\u001b[0m\u001b[0mchunked\u001b[0m\u001b[1;33m,\u001b[0m\u001b[1;33m\u001b[0m\u001b[1;33m\u001b[0m\u001b[0m\n\u001b[0m\u001b[0;32m    673\u001b[0m             )\n",
      "\u001b[1;32m~\\Anaconda3\\envs\\finance\\lib\\site-packages\\urllib3\\connectionpool.py\u001b[0m in \u001b[0;36m_make_request\u001b[1;34m(self, conn, method, url, timeout, chunked, **httplib_request_kw)\u001b[0m\n\u001b[0;32m    386\u001b[0m         \u001b[1;32melse\u001b[0m\u001b[1;33m:\u001b[0m\u001b[1;33m\u001b[0m\u001b[1;33m\u001b[0m\u001b[0m\n\u001b[1;32m--> 387\u001b[1;33m             \u001b[0mconn\u001b[0m\u001b[1;33m.\u001b[0m\u001b[0mrequest\u001b[0m\u001b[1;33m(\u001b[0m\u001b[0mmethod\u001b[0m\u001b[1;33m,\u001b[0m \u001b[0murl\u001b[0m\u001b[1;33m,\u001b[0m \u001b[1;33m**\u001b[0m\u001b[0mhttplib_request_kw\u001b[0m\u001b[1;33m)\u001b[0m\u001b[1;33m\u001b[0m\u001b[1;33m\u001b[0m\u001b[0m\n\u001b[0m\u001b[0;32m    388\u001b[0m \u001b[1;33m\u001b[0m\u001b[0m\n",
      "\u001b[1;32m~\\Anaconda3\\envs\\finance\\lib\\http\\client.py\u001b[0m in \u001b[0;36mrequest\u001b[1;34m(self, method, url, body, headers, encode_chunked)\u001b[0m\n\u001b[0;32m   1251\u001b[0m         \u001b[1;34m\"\"\"Send a complete request to the server.\"\"\"\u001b[0m\u001b[1;33m\u001b[0m\u001b[1;33m\u001b[0m\u001b[0m\n\u001b[1;32m-> 1252\u001b[1;33m         \u001b[0mself\u001b[0m\u001b[1;33m.\u001b[0m\u001b[0m_send_request\u001b[0m\u001b[1;33m(\u001b[0m\u001b[0mmethod\u001b[0m\u001b[1;33m,\u001b[0m \u001b[0murl\u001b[0m\u001b[1;33m,\u001b[0m \u001b[0mbody\u001b[0m\u001b[1;33m,\u001b[0m \u001b[0mheaders\u001b[0m\u001b[1;33m,\u001b[0m \u001b[0mencode_chunked\u001b[0m\u001b[1;33m)\u001b[0m\u001b[1;33m\u001b[0m\u001b[1;33m\u001b[0m\u001b[0m\n\u001b[0m\u001b[0;32m   1253\u001b[0m \u001b[1;33m\u001b[0m\u001b[0m\n",
      "\u001b[1;32m~\\Anaconda3\\envs\\finance\\lib\\http\\client.py\u001b[0m in \u001b[0;36m_send_request\u001b[1;34m(self, method, url, body, headers, encode_chunked)\u001b[0m\n\u001b[0;32m   1297\u001b[0m             \u001b[0mbody\u001b[0m \u001b[1;33m=\u001b[0m \u001b[0m_encode\u001b[0m\u001b[1;33m(\u001b[0m\u001b[0mbody\u001b[0m\u001b[1;33m,\u001b[0m \u001b[1;34m'body'\u001b[0m\u001b[1;33m)\u001b[0m\u001b[1;33m\u001b[0m\u001b[1;33m\u001b[0m\u001b[0m\n\u001b[1;32m-> 1298\u001b[1;33m         \u001b[0mself\u001b[0m\u001b[1;33m.\u001b[0m\u001b[0mendheaders\u001b[0m\u001b[1;33m(\u001b[0m\u001b[0mbody\u001b[0m\u001b[1;33m,\u001b[0m \u001b[0mencode_chunked\u001b[0m\u001b[1;33m=\u001b[0m\u001b[0mencode_chunked\u001b[0m\u001b[1;33m)\u001b[0m\u001b[1;33m\u001b[0m\u001b[1;33m\u001b[0m\u001b[0m\n\u001b[0m\u001b[0;32m   1299\u001b[0m \u001b[1;33m\u001b[0m\u001b[0m\n",
      "\u001b[1;32m~\\Anaconda3\\envs\\finance\\lib\\http\\client.py\u001b[0m in \u001b[0;36mendheaders\u001b[1;34m(self, message_body, encode_chunked)\u001b[0m\n\u001b[0;32m   1246\u001b[0m             \u001b[1;32mraise\u001b[0m \u001b[0mCannotSendHeader\u001b[0m\u001b[1;33m(\u001b[0m\u001b[1;33m)\u001b[0m\u001b[1;33m\u001b[0m\u001b[1;33m\u001b[0m\u001b[0m\n\u001b[1;32m-> 1247\u001b[1;33m         \u001b[0mself\u001b[0m\u001b[1;33m.\u001b[0m\u001b[0m_send_output\u001b[0m\u001b[1;33m(\u001b[0m\u001b[0mmessage_body\u001b[0m\u001b[1;33m,\u001b[0m \u001b[0mencode_chunked\u001b[0m\u001b[1;33m=\u001b[0m\u001b[0mencode_chunked\u001b[0m\u001b[1;33m)\u001b[0m\u001b[1;33m\u001b[0m\u001b[1;33m\u001b[0m\u001b[0m\n\u001b[0m\u001b[0;32m   1248\u001b[0m \u001b[1;33m\u001b[0m\u001b[0m\n",
      "\u001b[1;32m~\\Anaconda3\\envs\\finance\\lib\\http\\client.py\u001b[0m in \u001b[0;36m_send_output\u001b[1;34m(self, message_body, encode_chunked)\u001b[0m\n\u001b[0;32m   1025\u001b[0m         \u001b[1;32mdel\u001b[0m \u001b[0mself\u001b[0m\u001b[1;33m.\u001b[0m\u001b[0m_buffer\u001b[0m\u001b[1;33m[\u001b[0m\u001b[1;33m:\u001b[0m\u001b[1;33m]\u001b[0m\u001b[1;33m\u001b[0m\u001b[1;33m\u001b[0m\u001b[0m\n\u001b[1;32m-> 1026\u001b[1;33m         \u001b[0mself\u001b[0m\u001b[1;33m.\u001b[0m\u001b[0msend\u001b[0m\u001b[1;33m(\u001b[0m\u001b[0mmsg\u001b[0m\u001b[1;33m)\u001b[0m\u001b[1;33m\u001b[0m\u001b[1;33m\u001b[0m\u001b[0m\n\u001b[0m\u001b[0;32m   1027\u001b[0m \u001b[1;33m\u001b[0m\u001b[0m\n",
      "\u001b[1;32m~\\Anaconda3\\envs\\finance\\lib\\http\\client.py\u001b[0m in \u001b[0;36msend\u001b[1;34m(self, data)\u001b[0m\n\u001b[0;32m    965\u001b[0m             \u001b[1;32mif\u001b[0m \u001b[0mself\u001b[0m\u001b[1;33m.\u001b[0m\u001b[0mauto_open\u001b[0m\u001b[1;33m:\u001b[0m\u001b[1;33m\u001b[0m\u001b[1;33m\u001b[0m\u001b[0m\n\u001b[1;32m--> 966\u001b[1;33m                 \u001b[0mself\u001b[0m\u001b[1;33m.\u001b[0m\u001b[0mconnect\u001b[0m\u001b[1;33m(\u001b[0m\u001b[1;33m)\u001b[0m\u001b[1;33m\u001b[0m\u001b[1;33m\u001b[0m\u001b[0m\n\u001b[0m\u001b[0;32m    967\u001b[0m             \u001b[1;32melse\u001b[0m\u001b[1;33m:\u001b[0m\u001b[1;33m\u001b[0m\u001b[1;33m\u001b[0m\u001b[0m\n",
      "\u001b[1;32m~\\Anaconda3\\envs\\finance\\lib\\site-packages\\urllib3\\connection.py\u001b[0m in \u001b[0;36mconnect\u001b[1;34m(self)\u001b[0m\n\u001b[0;32m    183\u001b[0m     \u001b[1;32mdef\u001b[0m \u001b[0mconnect\u001b[0m\u001b[1;33m(\u001b[0m\u001b[0mself\u001b[0m\u001b[1;33m)\u001b[0m\u001b[1;33m:\u001b[0m\u001b[1;33m\u001b[0m\u001b[1;33m\u001b[0m\u001b[0m\n\u001b[1;32m--> 184\u001b[1;33m         \u001b[0mconn\u001b[0m \u001b[1;33m=\u001b[0m \u001b[0mself\u001b[0m\u001b[1;33m.\u001b[0m\u001b[0m_new_conn\u001b[0m\u001b[1;33m(\u001b[0m\u001b[1;33m)\u001b[0m\u001b[1;33m\u001b[0m\u001b[1;33m\u001b[0m\u001b[0m\n\u001b[0m\u001b[0;32m    185\u001b[0m         \u001b[0mself\u001b[0m\u001b[1;33m.\u001b[0m\u001b[0m_prepare_conn\u001b[0m\u001b[1;33m(\u001b[0m\u001b[0mconn\u001b[0m\u001b[1;33m)\u001b[0m\u001b[1;33m\u001b[0m\u001b[1;33m\u001b[0m\u001b[0m\n",
      "\u001b[1;32m~\\Anaconda3\\envs\\finance\\lib\\site-packages\\urllib3\\connection.py\u001b[0m in \u001b[0;36m_new_conn\u001b[1;34m(self)\u001b[0m\n\u001b[0;32m    168\u001b[0m             raise NewConnectionError(\n\u001b[1;32m--> 169\u001b[1;33m                 \u001b[0mself\u001b[0m\u001b[1;33m,\u001b[0m \u001b[1;34m\"Failed to establish a new connection: %s\"\u001b[0m \u001b[1;33m%\u001b[0m \u001b[0me\u001b[0m\u001b[1;33m\u001b[0m\u001b[1;33m\u001b[0m\u001b[0m\n\u001b[0m\u001b[0;32m    170\u001b[0m             )\n",
      "\u001b[1;31mNewConnectionError\u001b[0m: <urllib3.connection.HTTPConnection object at 0x0000021D19A414C8>: Failed to establish a new connection: [WinError 10060] A connection attempt failed because the connected party did not properly respond after a period of time, or established connection failed because connected host has failed to respond",
      "\nDuring handling of the above exception, another exception occurred:\n",
      "\u001b[1;31mMaxRetryError\u001b[0m                             Traceback (most recent call last)",
      "\u001b[1;32m~\\Anaconda3\\envs\\finance\\lib\\site-packages\\requests\\adapters.py\u001b[0m in \u001b[0;36msend\u001b[1;34m(self, request, stream, timeout, verify, cert, proxies)\u001b[0m\n\u001b[0;32m    448\u001b[0m                     \u001b[0mretries\u001b[0m\u001b[1;33m=\u001b[0m\u001b[0mself\u001b[0m\u001b[1;33m.\u001b[0m\u001b[0mmax_retries\u001b[0m\u001b[1;33m,\u001b[0m\u001b[1;33m\u001b[0m\u001b[1;33m\u001b[0m\u001b[0m\n\u001b[1;32m--> 449\u001b[1;33m                     \u001b[0mtimeout\u001b[0m\u001b[1;33m=\u001b[0m\u001b[0mtimeout\u001b[0m\u001b[1;33m\u001b[0m\u001b[1;33m\u001b[0m\u001b[0m\n\u001b[0m\u001b[0;32m    450\u001b[0m                 )\n",
      "\u001b[1;32m~\\Anaconda3\\envs\\finance\\lib\\site-packages\\urllib3\\connectionpool.py\u001b[0m in \u001b[0;36murlopen\u001b[1;34m(self, method, url, body, headers, retries, redirect, assert_same_host, timeout, pool_timeout, release_conn, chunked, body_pos, **response_kw)\u001b[0m\n\u001b[0;32m    719\u001b[0m             retries = retries.increment(\n\u001b[1;32m--> 720\u001b[1;33m                 \u001b[0mmethod\u001b[0m\u001b[1;33m,\u001b[0m \u001b[0murl\u001b[0m\u001b[1;33m,\u001b[0m \u001b[0merror\u001b[0m\u001b[1;33m=\u001b[0m\u001b[0me\u001b[0m\u001b[1;33m,\u001b[0m \u001b[0m_pool\u001b[0m\u001b[1;33m=\u001b[0m\u001b[0mself\u001b[0m\u001b[1;33m,\u001b[0m \u001b[0m_stacktrace\u001b[0m\u001b[1;33m=\u001b[0m\u001b[0msys\u001b[0m\u001b[1;33m.\u001b[0m\u001b[0mexc_info\u001b[0m\u001b[1;33m(\u001b[0m\u001b[1;33m)\u001b[0m\u001b[1;33m[\u001b[0m\u001b[1;36m2\u001b[0m\u001b[1;33m]\u001b[0m\u001b[1;33m\u001b[0m\u001b[1;33m\u001b[0m\u001b[0m\n\u001b[0m\u001b[0;32m    721\u001b[0m             )\n",
      "\u001b[1;32m~\\Anaconda3\\envs\\finance\\lib\\site-packages\\urllib3\\util\\retry.py\u001b[0m in \u001b[0;36mincrement\u001b[1;34m(self, method, url, response, error, _pool, _stacktrace)\u001b[0m\n\u001b[0;32m    435\u001b[0m         \u001b[1;32mif\u001b[0m \u001b[0mnew_retry\u001b[0m\u001b[1;33m.\u001b[0m\u001b[0mis_exhausted\u001b[0m\u001b[1;33m(\u001b[0m\u001b[1;33m)\u001b[0m\u001b[1;33m:\u001b[0m\u001b[1;33m\u001b[0m\u001b[1;33m\u001b[0m\u001b[0m\n\u001b[1;32m--> 436\u001b[1;33m             \u001b[1;32mraise\u001b[0m \u001b[0mMaxRetryError\u001b[0m\u001b[1;33m(\u001b[0m\u001b[0m_pool\u001b[0m\u001b[1;33m,\u001b[0m \u001b[0murl\u001b[0m\u001b[1;33m,\u001b[0m \u001b[0merror\u001b[0m \u001b[1;32mor\u001b[0m \u001b[0mResponseError\u001b[0m\u001b[1;33m(\u001b[0m\u001b[0mcause\u001b[0m\u001b[1;33m)\u001b[0m\u001b[1;33m)\u001b[0m\u001b[1;33m\u001b[0m\u001b[1;33m\u001b[0m\u001b[0m\n\u001b[0m\u001b[0;32m    437\u001b[0m \u001b[1;33m\u001b[0m\u001b[0m\n",
      "\u001b[1;31mMaxRetryError\u001b[0m: HTTPConnectionPool(host='stg.spindices.com', port=80): Max retries exceeded with url: /documents/indexnews/announcements/20150706-204357/204357_dollarjackcontact546.pdf (Caused by NewConnectionError('<urllib3.connection.HTTPConnection object at 0x0000021D19A414C8>: Failed to establish a new connection: [WinError 10060] A connection attempt failed because the connected party did not properly respond after a period of time, or established connection failed because connected host has failed to respond'))",
      "\nDuring handling of the above exception, another exception occurred:\n",
      "\u001b[1;31mConnectionError\u001b[0m                           Traceback (most recent call last)",
      "\u001b[1;32m<ipython-input-74-a952165c03a5>\u001b[0m in \u001b[0;36m<module>\u001b[1;34m\u001b[0m\n\u001b[0;32m      1\u001b[0m \u001b[1;32mfor\u001b[0m \u001b[0mresult\u001b[0m \u001b[1;32min\u001b[0m \u001b[0mresults\u001b[0m\u001b[1;33m:\u001b[0m\u001b[1;33m\u001b[0m\u001b[1;33m\u001b[0m\u001b[0m\n\u001b[1;32m----> 2\u001b[1;33m     \u001b[0mdownload_file\u001b[0m\u001b[1;33m(\u001b[0m\u001b[0mresult\u001b[0m\u001b[1;33m)\u001b[0m\u001b[1;33m\u001b[0m\u001b[1;33m\u001b[0m\u001b[0m\n\u001b[0m\u001b[0;32m      3\u001b[0m     \u001b[0mprint\u001b[0m\u001b[1;33m(\u001b[0m\u001b[0mresult\u001b[0m\u001b[1;33m)\u001b[0m\u001b[1;33m\u001b[0m\u001b[1;33m\u001b[0m\u001b[0m\n",
      "\u001b[1;32m<ipython-input-72-91a2cb0d225b>\u001b[0m in \u001b[0;36mdownload_file\u001b[1;34m(url)\u001b[0m\n\u001b[0;32m      1\u001b[0m \u001b[1;32mdef\u001b[0m \u001b[0mdownload_file\u001b[0m\u001b[1;33m(\u001b[0m\u001b[0murl\u001b[0m\u001b[1;33m)\u001b[0m\u001b[1;33m:\u001b[0m\u001b[1;33m\u001b[0m\u001b[1;33m\u001b[0m\u001b[0m\n\u001b[1;32m----> 2\u001b[1;33m     \u001b[0mfile\u001b[0m \u001b[1;33m=\u001b[0m \u001b[0mrequests\u001b[0m\u001b[1;33m.\u001b[0m\u001b[0mget\u001b[0m\u001b[1;33m(\u001b[0m\u001b[0murl\u001b[0m\u001b[1;33m,\u001b[0m \u001b[0mstream\u001b[0m\u001b[1;33m=\u001b[0m\u001b[1;32mTrue\u001b[0m\u001b[1;33m)\u001b[0m\u001b[1;33m\u001b[0m\u001b[1;33m\u001b[0m\u001b[0m\n\u001b[0m\u001b[0;32m      3\u001b[0m     \u001b[0mheaders\u001b[0m \u001b[1;33m=\u001b[0m \u001b[0mfile\u001b[0m\u001b[1;33m.\u001b[0m\u001b[0mheaders\u001b[0m\u001b[1;33m[\u001b[0m\u001b[1;34m'content-disposition'\u001b[0m\u001b[1;33m]\u001b[0m\u001b[1;33m\u001b[0m\u001b[1;33m\u001b[0m\u001b[0m\n\u001b[0;32m      4\u001b[0m     \u001b[0mfilename\u001b[0m \u001b[1;33m=\u001b[0m \u001b[0mre\u001b[0m\u001b[1;33m.\u001b[0m\u001b[0mfindall\u001b[0m\u001b[1;33m(\u001b[0m\u001b[1;34m\"filename=\\\"(.+)\\\"\"\u001b[0m\u001b[1;33m,\u001b[0m \u001b[0mheaders\u001b[0m\u001b[1;33m)\u001b[0m\u001b[1;33m[\u001b[0m\u001b[1;36m0\u001b[0m\u001b[1;33m]\u001b[0m\u001b[1;33m\u001b[0m\u001b[1;33m\u001b[0m\u001b[0m\n\u001b[0;32m      5\u001b[0m     \u001b[0mlocation\u001b[0m \u001b[1;33m=\u001b[0m \u001b[0mos\u001b[0m\u001b[1;33m.\u001b[0m\u001b[0mpath\u001b[0m\u001b[1;33m.\u001b[0m\u001b[0mrelpath\u001b[0m\u001b[1;33m(\u001b[0m\u001b[0mdirPath\u001b[0m \u001b[1;33m+\u001b[0m \u001b[0mfilename\u001b[0m\u001b[1;33m)\u001b[0m\u001b[1;33m\u001b[0m\u001b[1;33m\u001b[0m\u001b[0m\n",
      "\u001b[1;32m~\\Anaconda3\\envs\\finance\\lib\\site-packages\\requests\\api.py\u001b[0m in \u001b[0;36mget\u001b[1;34m(url, params, **kwargs)\u001b[0m\n\u001b[0;32m     73\u001b[0m \u001b[1;33m\u001b[0m\u001b[0m\n\u001b[0;32m     74\u001b[0m     \u001b[0mkwargs\u001b[0m\u001b[1;33m.\u001b[0m\u001b[0msetdefault\u001b[0m\u001b[1;33m(\u001b[0m\u001b[1;34m'allow_redirects'\u001b[0m\u001b[1;33m,\u001b[0m \u001b[1;32mTrue\u001b[0m\u001b[1;33m)\u001b[0m\u001b[1;33m\u001b[0m\u001b[1;33m\u001b[0m\u001b[0m\n\u001b[1;32m---> 75\u001b[1;33m     \u001b[1;32mreturn\u001b[0m \u001b[0mrequest\u001b[0m\u001b[1;33m(\u001b[0m\u001b[1;34m'get'\u001b[0m\u001b[1;33m,\u001b[0m \u001b[0murl\u001b[0m\u001b[1;33m,\u001b[0m \u001b[0mparams\u001b[0m\u001b[1;33m=\u001b[0m\u001b[0mparams\u001b[0m\u001b[1;33m,\u001b[0m \u001b[1;33m**\u001b[0m\u001b[0mkwargs\u001b[0m\u001b[1;33m)\u001b[0m\u001b[1;33m\u001b[0m\u001b[1;33m\u001b[0m\u001b[0m\n\u001b[0m\u001b[0;32m     76\u001b[0m \u001b[1;33m\u001b[0m\u001b[0m\n\u001b[0;32m     77\u001b[0m \u001b[1;33m\u001b[0m\u001b[0m\n",
      "\u001b[1;32m~\\Anaconda3\\envs\\finance\\lib\\site-packages\\requests\\api.py\u001b[0m in \u001b[0;36mrequest\u001b[1;34m(method, url, **kwargs)\u001b[0m\n\u001b[0;32m     58\u001b[0m     \u001b[1;31m# cases, and look like a memory leak in others.\u001b[0m\u001b[1;33m\u001b[0m\u001b[1;33m\u001b[0m\u001b[1;33m\u001b[0m\u001b[0m\n\u001b[0;32m     59\u001b[0m     \u001b[1;32mwith\u001b[0m \u001b[0msessions\u001b[0m\u001b[1;33m.\u001b[0m\u001b[0mSession\u001b[0m\u001b[1;33m(\u001b[0m\u001b[1;33m)\u001b[0m \u001b[1;32mas\u001b[0m \u001b[0msession\u001b[0m\u001b[1;33m:\u001b[0m\u001b[1;33m\u001b[0m\u001b[1;33m\u001b[0m\u001b[0m\n\u001b[1;32m---> 60\u001b[1;33m         \u001b[1;32mreturn\u001b[0m \u001b[0msession\u001b[0m\u001b[1;33m.\u001b[0m\u001b[0mrequest\u001b[0m\u001b[1;33m(\u001b[0m\u001b[0mmethod\u001b[0m\u001b[1;33m=\u001b[0m\u001b[0mmethod\u001b[0m\u001b[1;33m,\u001b[0m \u001b[0murl\u001b[0m\u001b[1;33m=\u001b[0m\u001b[0murl\u001b[0m\u001b[1;33m,\u001b[0m \u001b[1;33m**\u001b[0m\u001b[0mkwargs\u001b[0m\u001b[1;33m)\u001b[0m\u001b[1;33m\u001b[0m\u001b[1;33m\u001b[0m\u001b[0m\n\u001b[0m\u001b[0;32m     61\u001b[0m \u001b[1;33m\u001b[0m\u001b[0m\n\u001b[0;32m     62\u001b[0m \u001b[1;33m\u001b[0m\u001b[0m\n",
      "\u001b[1;32m~\\Anaconda3\\envs\\finance\\lib\\site-packages\\requests\\sessions.py\u001b[0m in \u001b[0;36mrequest\u001b[1;34m(self, method, url, params, data, headers, cookies, files, auth, timeout, allow_redirects, proxies, hooks, stream, verify, cert, json)\u001b[0m\n\u001b[0;32m    531\u001b[0m         }\n\u001b[0;32m    532\u001b[0m         \u001b[0msend_kwargs\u001b[0m\u001b[1;33m.\u001b[0m\u001b[0mupdate\u001b[0m\u001b[1;33m(\u001b[0m\u001b[0msettings\u001b[0m\u001b[1;33m)\u001b[0m\u001b[1;33m\u001b[0m\u001b[1;33m\u001b[0m\u001b[0m\n\u001b[1;32m--> 533\u001b[1;33m         \u001b[0mresp\u001b[0m \u001b[1;33m=\u001b[0m \u001b[0mself\u001b[0m\u001b[1;33m.\u001b[0m\u001b[0msend\u001b[0m\u001b[1;33m(\u001b[0m\u001b[0mprep\u001b[0m\u001b[1;33m,\u001b[0m \u001b[1;33m**\u001b[0m\u001b[0msend_kwargs\u001b[0m\u001b[1;33m)\u001b[0m\u001b[1;33m\u001b[0m\u001b[1;33m\u001b[0m\u001b[0m\n\u001b[0m\u001b[0;32m    534\u001b[0m \u001b[1;33m\u001b[0m\u001b[0m\n\u001b[0;32m    535\u001b[0m         \u001b[1;32mreturn\u001b[0m \u001b[0mresp\u001b[0m\u001b[1;33m\u001b[0m\u001b[1;33m\u001b[0m\u001b[0m\n",
      "\u001b[1;32m~\\Anaconda3\\envs\\finance\\lib\\site-packages\\requests\\sessions.py\u001b[0m in \u001b[0;36msend\u001b[1;34m(self, request, **kwargs)\u001b[0m\n\u001b[0;32m    644\u001b[0m \u001b[1;33m\u001b[0m\u001b[0m\n\u001b[0;32m    645\u001b[0m         \u001b[1;31m# Send the request\u001b[0m\u001b[1;33m\u001b[0m\u001b[1;33m\u001b[0m\u001b[1;33m\u001b[0m\u001b[0m\n\u001b[1;32m--> 646\u001b[1;33m         \u001b[0mr\u001b[0m \u001b[1;33m=\u001b[0m \u001b[0madapter\u001b[0m\u001b[1;33m.\u001b[0m\u001b[0msend\u001b[0m\u001b[1;33m(\u001b[0m\u001b[0mrequest\u001b[0m\u001b[1;33m,\u001b[0m \u001b[1;33m**\u001b[0m\u001b[0mkwargs\u001b[0m\u001b[1;33m)\u001b[0m\u001b[1;33m\u001b[0m\u001b[1;33m\u001b[0m\u001b[0m\n\u001b[0m\u001b[0;32m    647\u001b[0m \u001b[1;33m\u001b[0m\u001b[0m\n\u001b[0;32m    648\u001b[0m         \u001b[1;31m# Total elapsed time of the request (approximately)\u001b[0m\u001b[1;33m\u001b[0m\u001b[1;33m\u001b[0m\u001b[1;33m\u001b[0m\u001b[0m\n",
      "\u001b[1;32m~\\Anaconda3\\envs\\finance\\lib\\site-packages\\requests\\adapters.py\u001b[0m in \u001b[0;36msend\u001b[1;34m(self, request, stream, timeout, verify, cert, proxies)\u001b[0m\n\u001b[0;32m    514\u001b[0m                 \u001b[1;32mraise\u001b[0m \u001b[0mSSLError\u001b[0m\u001b[1;33m(\u001b[0m\u001b[0me\u001b[0m\u001b[1;33m,\u001b[0m \u001b[0mrequest\u001b[0m\u001b[1;33m=\u001b[0m\u001b[0mrequest\u001b[0m\u001b[1;33m)\u001b[0m\u001b[1;33m\u001b[0m\u001b[1;33m\u001b[0m\u001b[0m\n\u001b[0;32m    515\u001b[0m \u001b[1;33m\u001b[0m\u001b[0m\n\u001b[1;32m--> 516\u001b[1;33m             \u001b[1;32mraise\u001b[0m \u001b[0mConnectionError\u001b[0m\u001b[1;33m(\u001b[0m\u001b[0me\u001b[0m\u001b[1;33m,\u001b[0m \u001b[0mrequest\u001b[0m\u001b[1;33m=\u001b[0m\u001b[0mrequest\u001b[0m\u001b[1;33m)\u001b[0m\u001b[1;33m\u001b[0m\u001b[1;33m\u001b[0m\u001b[0m\n\u001b[0m\u001b[0;32m    517\u001b[0m \u001b[1;33m\u001b[0m\u001b[0m\n\u001b[0;32m    518\u001b[0m         \u001b[1;32mexcept\u001b[0m \u001b[0mClosedPoolError\u001b[0m \u001b[1;32mas\u001b[0m \u001b[0me\u001b[0m\u001b[1;33m:\u001b[0m\u001b[1;33m\u001b[0m\u001b[1;33m\u001b[0m\u001b[0m\n",
      "\u001b[1;31mConnectionError\u001b[0m: HTTPConnectionPool(host='stg.spindices.com', port=80): Max retries exceeded with url: /documents/indexnews/announcements/20150706-204357/204357_dollarjackcontact546.pdf (Caused by NewConnectionError('<urllib3.connection.HTTPConnection object at 0x0000021D19A414C8>: Failed to establish a new connection: [WinError 10060] A connection attempt failed because the connected party did not properly respond after a period of time, or established connection failed because connected host has failed to respond'))"
     ]
    }
   ],
   "source": [
    "for result in results:\n",
    "    download_file(result)\n",
    "    print(result)"
   ]
  },
  {
   "cell_type": "code",
   "execution_count": 75,
   "metadata": {
    "scrolled": false
   },
   "outputs": [
    {
     "name": "stdout",
     "output_type": "stream",
     "text": [
      "[['S&P 500 INDEX – September 26, 2019', None, None, None], ['', 'COMPANY', 'GICS ECONOMIC SECTOR', 'GICS SUB-INDUSTRY'], ['ADDED', 'NVR', 'Consumer Discretionary', 'Homebuilding'], ['DELETED', 'Jefferies \\nFinancial Group', 'Financials', 'Multi-Sector Holdings']]\n",
      "[['S&P 500 INDEX – October 3, 2019', None, None, None], ['', 'COMPANY', 'GICS ECONOMIC SECTOR', 'GICS SUB-INDUSTRY'], ['ADDED', 'Las Vegas \\nSands', 'Consumer Discretionary', 'Casinos & Gaming'], ['DELETED', 'Nektar \\nTherapeutics', 'Health Care', 'Pharmaceuticals']]\n",
      "[['S&P 500 INDEX – December 5, 2019', None, None, None], ['', 'COMPANY', 'GICS ECONOMIC SECTOR', 'GICS SUB-INDUSTRY'], ['ADDED', 'W.R. Berkley', 'Financials', 'Property & Casualty \\nInsurance'], ['DELETED', 'Viacom', 'Communication Services', 'Movies & Entertainment']]\n",
      "[['S&P 500 INDEX – December 9, 2019', None, None, None], ['', 'COMPANY', 'GICS ECONOMIC SECTOR', 'GICS SUB-INDUSTRY'], ['ADDED', 'Old Dominion \\nFreight Line', 'Industrials', 'Trucking'], ['DELETED', 'SunTrust Banks', 'Financials', 'Regional Banks']]\n",
      "[['S&P 500 INDEX – December 23, 2019', None, None, None], ['', 'COMPANY', 'GICS ECONOMIC SECTOR', 'GICS SUB-INDUSTRY'], ['ADDED', 'Live Nation \\nEntertainment', 'Communication Services', 'Movies & Entertainment'], ['', 'Zebra \\nTechnologies', 'Information Technologies', 'Electronic Equipment & \\nInstruments'], ['', 'STERIS', 'Health Care', 'Health Care Equipment'], ['DELETED', 'Affiliated \\nManagers Group', 'Financials', 'Asset Management & \\nCustody Banks'], ['', 'TripAdvisor', 'Communication Services', 'Interactive Media & \\nServices'], ['', 'Macerich', 'Real Estate', 'Retail REITs']]\n",
      "[['S&P 500 INDEX – January 28, 2020', None, None, None], ['', 'COMPANY', 'GICS ECONOMIC \\nSECTOR', 'GICS SUB-INDUSTRY'], ['ADDED', 'Paycom Software', 'Information Technology', 'Application Software'], ['DELETED', 'WellCare Health \\nPlans', 'Health Care', 'Managed Health Care']]\n",
      "[['S&P 500 INDEX – March 3, 2020', None, None, None], ['', 'COMPANY', 'GICS ECONOMIC SECTOR', 'GICS SUB-INDUSTRY'], ['ADDED', 'Gardner Denver', 'Industrials', 'Industrial Machinery'], ['DELETED', 'Cimarex Energy', 'Energy', 'Oil & Gas Exploration & \\nProduction']]\n",
      "[['S&P 500 INDEX – April 3, 2020', None, None, None], ['', 'COMPANY', 'GICS ECONOMIC SECTOR', 'GICS SUB-INDUSTRY'], ['ADDED', 'Otis Worldwide', 'Industrials', 'Industrial Equipment'], ['', 'Carrier Global', 'Industrials', 'Building Products']]\n",
      "[['S&P 500 INDEX – April 6, 2020', None, None, None], ['', 'COMPANY', 'GICS ECONOMIC SECTOR', 'GICS SUB-INDUSTRY'], ['DELETED', 'Raytheon', 'Industrials', 'Aerospace & Defense'], ['', 'Macy’s', 'Consumer Discretionary', 'Department Stores']]\n",
      "[['S&P 500 INDEX – May 8, 2013', None, None, None], ['', 'COMPANY', 'GICS ECONOMIC SECTOR', 'GICS SUB-INDUSTRY'], ['ADDED', 'The Macerich \\nCompany', 'Financials', 'Retail REITs'], ['DELETED', 'Coventry Health \\nCare', 'Health Care', 'Managed Health Care']]\n",
      "[['S&P 500 INDEX – May 23, 2013', None, None, None], ['', 'COMPANY', 'GICS ECONOMIC SECTOR', 'GICS SUB-INDUSTRY'], ['ADDED', 'Kansas City \\nSouthern', 'Industrials', 'Railroads'], ['DELETED', 'Dean Foods', 'Consumer Staples', 'Packaged Foods & Meats']]\n",
      "[['S&P 500 INDEX – March 11, 2015', None, None, None], ['', 'COMPANY', 'GICS ECONOMIC SECTOR', 'GICS SUB-INDUSTRY'], ['ADDED', 'Skyworks \\nSolutions', 'Information Technology', 'Semiconductors'], ['DELETED', 'PetSmart', 'Consumer Discretionary', 'Specialty Stores']]\n",
      "[['S&P 500 INDEX – June 11, 2015', None, None, None], ['', 'COMPANY', 'GICS ECONOMIC SECTOR', 'GICS SUB-INDUSTRY'], ['ADDED', 'Qorvo', 'Information Technology', 'Semiconductors'], ['DELETED', 'Lorillard', 'Consumer Staples', 'Tobacco']]\n",
      "[['S&P 500 INDEX – JANUARY 3, 2018', None, None, None], ['', 'COMPANY', 'GICS ECONOMIC SECTOR', 'GICS SUB-INDUSTRY'], ['ADDED', 'Huntington \\nIngalls Industries', 'Industrials', 'Aerospace & Defense'], ['DELETED', 'C.R. Bard', 'Health Care', 'Health Care Equipment']]\n",
      "[['S&P 500 INDEX – October 7, 2015', None, None, None], ['', 'COMPANY', 'GICS ECONOMIC SECTOR', 'GICS SUB-INDUSTRY'], ['ADDED', 'Verisk Analytics', 'Industrials', 'Research & Consulting \\nServices'], ['DELETED', 'Joy Global', 'Industrials', 'Construction Machinery & \\nHeavy Trucks']]\n",
      "[['S&P 500 INDEX – October 30, 2015', None, None, None], ['', 'COMPANY', 'GICS ECONOMIC SECTOR', 'GICS SUB-INDUSTRY'], ['ADDED', 'Hewlett Packard \\nEnterprise', 'Information Technology', 'Technology Hardware, Storage \\n& Peripherals']]\n",
      "[['S&P 500 INDEX – November 2, 2015', None, None, None], ['', 'COMPANY', 'GICS ECONOMIC SECTOR', 'GICS SUB-INDUSTRY'], ['DELETED', 'Hudson  City \\nBancorp', 'Financials', 'Thrifts & Mortgage Finance']]\n",
      "[['S&P 500 INDEX – November 9, 2015', None, None, None], ['', 'COMPANY', 'GICS ECONOMIC SECTOR', 'GICS SUB-INDUSTRY'], ['ADDED', 'Four Corners \\nProperty Trust', 'Consumer Discretionary', 'Restaurants']]\n",
      "[['S&P 500 INDEX – November 10, 2015', None, None, None], ['', 'COMPANY', 'GICS ECONOMIC SECTOR', 'GICS SUB-INDUSTRY'], ['DELETED', 'Four Corners \\nProperty Trust', 'Consumer Discretionary', 'Restaurants']]\n",
      "[['S&P 500 INDEX – November 17, 2015', None, None, None], ['', 'COMPANY', 'GICS ECONOMIC SECTOR', 'GICS SUB-INDUSTRY'], ['ADDED', 'Synchrony Financial', 'Financials', 'Consumer Finance'], ['DELETED', 'Genworth Financial', 'Financials', 'Multi-line Insurance']]\n",
      "[['S&P 500 INDEX – November 18, 2015', None, None, None], ['', 'COMPANY', 'GICS ECONOMIC SECTOR', 'GICS SUB-INDUSTRY'], ['ADDED', 'Illumina', 'Health Care', 'Life Sciences Tools & Services'], ['DELETED', 'Sigma-Aldrich', 'Materials', 'Specialty Chemicals']]\n",
      "[['S&P 500 INDEX – January 4, 2016', None, None, None], ['', 'COMPANY', 'GICS ECONOMIC SECTOR', 'GICS SUB-INDUSTRY'], ['ADDED', 'Willis Towers \\nWatson', 'Financials', 'Insurance Brokers'], ['DELETED', 'Fossil Group', 'Consumer Discretionary', 'Apparel Accessories & Luxury \\nGoods']]\n",
      "[['S&P 500 INDEX – January 15, 2016', None, None, None], ['', 'COMPANY', 'GICS ECONOMIC SECTOR', 'GICS SUB-INDUSTRY'], ['ADDED', 'Extra Space Storage', 'Financials', 'Specialized REITs'], ['DELETED', 'Chubb', 'Financials', 'Property & Casualty Insurance']]\n",
      "[['S&P 500 INDEX – January 29, 2016', None, None, None], ['', 'COMPANY', 'GICS ECONOMIC SECTOR', 'GICS SUB-INDUSTRY'], ['ADDED', 'Federal Realty Trust', 'Financials', 'Retail REITs'], ['DELETED', 'Broadcom', 'Information Technology', 'Semiconductors']]\n",
      "[['S&P 500 INDEX – January 29, 2016', None, None, None], ['', 'COMPANY', 'GICS ECONOMIC SECTOR', 'GICS SUB-INDUSTRY'], ['ADDED', 'Citizens Financial \\nGroup', 'Financials', 'Regional Banks'], ['DELETED', 'Precision Castparts', 'Industrials', 'Aerospace & Defense']]\n",
      "[['S&P 500 INDEX – February 19, 2016', None, None, None], ['', 'COMPANY', 'GICS ECONOMIC SECTOR', 'GICS SUB-INDUSTRY'], ['ADDED', 'Concho Resources', 'Energy', 'Oil & Gas Exploration & \\nProduction'], ['DELETED', 'Plum Creek Timber', 'Financials', 'Specialized REITs']]\n",
      "[['S&P 500 INDEX –  March 3, 2016', None, None, None], ['', 'COMPANY', 'GICS ECONOMIC SECTOR', 'GICS SUB-INDUSTRY'], ['ADDED', 'American Water \\nWorks', 'Utilities', 'Water Utilities'], ['DELETED', 'CONSOL Energy', 'Energy', 'Coal & Consumable Fuels']]\n",
      "[['S&P 500 INDEX – March 4, 2016', None, None, None], ['', 'COMPANY', 'GICS ECONOMIC SECTOR', 'GICS SUB-INDUSTRY'], ['ADDED', 'UDR', 'Financials', 'Residential REITs'], ['DELETED', 'Keurig Green \\nMountain', 'Consumer Staples', 'Packaged Foods & Meats']]\n",
      "[['S&P 500 INDEX –  April 1, 2016', None, None, None], ['', 'COMPANY', 'GICS ECONOMIC SECTOR', 'GICS SUB-INDUSTRY'], ['ADDED', 'Foot Locker', 'Consumer Discretionary', 'Apparel Retail'], ['DELETED', 'Cameron \\nInternational', 'Energy', 'Oil & Gas Equipment & \\nServices']]\n",
      "[['S&P 500 INDEX –  April 15, 2016', None, None, None], ['', 'COMPANY', 'GICS ECONOMIC SECTOR', 'GICS SUB-INDUSTRY'], ['ADDED', 'Ulta Salon, \\nCosmetics & \\nFragrances', 'Consumer Discretionary', 'Specialty Stores'], ['DELETED', 'Tenet Healthcare', 'Health Care', 'Health Care Facilities']]\n",
      "[['S&P 500 INDEX – April 22, 2016', None, None, None], ['', 'COMPANY', 'GICS ECONOMIC SECTOR', 'GICS SUB-INDUSTRY'], ['ADDED', 'Global Payments', 'Information Technology', 'Data Processing & Outsourced \\nServices'], ['DELETED', 'GameStop', 'Consumer Discretionary', 'Computer & Electronic Retail']]\n"
     ]
    },
    {
     "name": "stdout",
     "output_type": "stream",
     "text": [
      "[['S&P 500 INDEX – MAY 12, 2016', None, None, None], ['', 'COMPANY', 'GICS ECONOMIC SECTOR', 'GICS SUB-INDUSTRY'], ['ADDED', 'Alaska Air', 'Industrials', 'Airlines'], ['DELETED', 'SanDisk', 'Information Technology', 'Technology Hardware, \\nStorage & Peripherals']]\n",
      "[['S&P 500 INDEX – MAY 17, 2016', None, None, None], ['', 'COMPANY', 'GICS ECONOMIC SECTOR', 'GICS SUB-INDUSTRY'], ['ADDED', 'Digital Realty \\nTrust', 'Financials', 'Specialized REITs'], ['DELETED', 'Time Warner \\nCable', 'Consumer Discretionary', 'Cable & Satellite']]\n",
      "[['S&P 500 INDEX – MAY 20, 2016', None, None, None], ['', 'COMPANY', 'GICS ECONOMIC SECTOR', 'GICS SUB-INDUSTRY'], ['ADDED', 'LKQ', 'Consumer Discretionary', 'Distributors'], ['DELETED', 'Airgas', 'Materials', 'Industrial Gases']]\n",
      "[['S&P 500 INDEX – MAY 27, 2016', None, None, None], ['', 'COMPANY', 'GICS ECONOMIC SECTOR', 'GICS SUB-INDUSTRY'], ['ADDED', 'Arthur J \\nGallagher & Co.', 'Financials', 'Insurance Brokers'], ['DELETED', 'Coca-Cola \\nEnterprises', 'Consumer Staples', 'Soft Drinks']]\n",
      "[['S&P 500 INDEX – JUNE 23, 2016', None, None, None], ['', 'COMPANY', 'GICS ECONOMIC SECTOR', 'GICS SUB-INDUSTRY'], ['ADDED', 'Fortune Brands \\nHome & Security', 'Industrials', 'Building Products'], ['DELETED', 'Cablevision \\nSystems', 'Consumer Discretionary', 'Cable & Satellite']]\n",
      "[['S&P 500 INDEX – JUNE 30, 2016', None, None, None], ['', 'COMPANY', 'GICS ECONOMIC SECTOR', 'GICS SUB-INDUSTRY'], ['ADDED', 'Albemarle', 'Materials', 'Specialty Chemicals'], ['DELETED', 'TECO Energy', 'Utilities', 'Multi-Utilities']]\n",
      "[['S&P 500 INDEX – July 1, 2016', None, None, None], ['', 'COMPANY', 'GICS ECONOMIC SECTOR', 'GICS SUB-INDUSTRY'], ['ADDED', 'Fortive', 'Industrials', 'Industrial Machinery']]\n",
      "[['S&P 500 INDEX – July 5, 2016', None, None, None], ['', 'COMPANY', 'GICS ECONOMIC SECTOR', 'GICS SUB-INDUSTRY'], ['DELETED', 'Columbia \\nPipeline Group', 'Energy', 'Oil & Gas Storage & \\nTransportation']]\n",
      "[['S&P 500 INDEX – June 30, 2016', None, None, None], ['', 'COMPANY', 'GICS ECONOMIC SECTOR', 'GICS SUB-INDUSTRY'], ['ADDED', 'Alliant Energy', 'Utilities', 'Electric Utilities'], ['DELETED', 'AGL Resources', 'Utilities', 'Gas Utilities']]\n",
      "[['S&P 500 INDEX – September 2, 2016', None, None, None], ['', 'COMPANY', 'GICS ECONOMIC SECTOR', 'GICS SUB-INDUSTRY'], ['ADDED', 'Mettler-Toledo', 'Healthcare', 'Life Sciences Tool & \\nEquipment'], ['DELETED', 'Johnson \\nControls', 'Consumer Discretionary', 'Auto Parts & Equipment']]\n",
      "[['S&P 500 INDEX – September 30, 2016', None, None, None], ['', 'COMPANY', 'GICS ECONOMIC SECTOR', 'GICS SUB-INDUSTRY'], ['ADDED', 'Coty', 'Consumer Staples', 'Personal Products'], ['DELETED', 'Diamond \\nOffshore Drilling', 'Energy', 'Oil & Gas Drilling']]\n",
      "[['S&P 500 INDEX – January 4, 2017', None, None, None], ['', 'COMPANY', 'GICS ECONOMIC SECTOR', 'GICS SUB-INDUSTRY'], ['ADDED', 'IDEXX', 'Health Care', 'Health Care Equipment'], ['DELETED', 'St. Jude', 'Health Care', 'Health Care Equipment']]\n",
      "[['S&P 500 INDEX – March 13, 2017', None, None, None], ['', 'COMPANY', 'GICS ECONOMIC SECTOR', 'GICS SUB-INDUSTRY'], ['ADDED', 'DISH Network', 'Consumer Discretionary', 'Cable & Satellite'], ['DELETED', 'Linear \\nTechnology', 'Information Technology', 'Semiconductors']]\n",
      "[['S&P 500 INDEX – April 4, 2017', None, None, None], ['', 'COMPANY', 'GICS ECONOMIC SECTOR', 'GICS SUB-INDUSTRY'], ['ADDED', 'Computer \\nSciences', 'Information Technology', 'IT Consulting & Other \\nServices'], ['DELETED', 'Southwestern \\nEnergy', 'Energy', 'Oil & Gas Exploration & \\nProduction']]\n",
      "[['S&P 500 INDEX – APRIL 5, 2017', None, None, None], ['', 'COMPANY', 'GICS ECONOMIC SECTOR', 'GICS SUB-INDUSTRY'], ['ADDED', 'Gartner', 'Information Technology', 'IT Consulting & Other \\nServices'], ['DELETED', 'Dun & \\nBradstreet', 'Industrials', 'Research & Consulting \\nServices']]\n",
      "[['S&P 500 INDEX – June 2, 2017', None, None, None], ['', 'COMPANY', 'GICS ECONOMIC SECTOR', 'GICS SUB-INDUSTRY'], ['ADDED', 'IHS Markit', 'Industrials', 'Research & Consulting \\nServices'], ['DELETED', 'TEGNA', 'Consumer Discretionary', 'Broadcasting']]\n",
      "[['S&P 500 INDEX – June 19, 2017', None, None, None], ['', 'COMPANY', 'GICS ECONOMIC SECTOR', 'GICS SUB-INDUSTRY'], ['ADDED', 'Hilton Worldwide', 'Consumer Discretionary', 'Hotels, Resorts & Cruise \\nLines'], ['', 'Align \\nTechnology', 'Health Care', 'Health Care Supplies'], ['', 'ANSYS', 'Information Technologies', 'Application Software'], ['DELETED', 'Yahoo!', 'Information Technology', 'Internet Software & \\nServices'], ['', 'Teradata', 'Information Technology', 'IT Consulting & Other \\nServices'], ['', 'Ryder Systems', 'Industrials', 'Trucking']]\n",
      "[['S&P 500 INDEX – June 19, 2017', None, None, None], ['', 'COMPANY', 'GICS ECONOMIC SECTOR', 'GICS SUB-INDUSTRY'], ['ADDED', 'Everest Re', 'Financials', 'Reinsurance'], ['DELETED', 'Mead Johnson', 'Consumer Staples', 'Packaged Foods & Meats']]\n",
      "[['S&P 500 INDEX – August 7, 2017', None, None, None], ['', 'COMPANY', 'GICS ECONOMIC SECTOR', 'GICS SUB-INDUSTRY'], ['ADDED', 'Brighthouse \\nFinancial', 'Financials', 'Life & Health Insurance']]\n",
      "[['S&P 500 INDEX – August 8, 2017', None, None, None], ['', 'COMPANY', 'GICS ECONOMIC SECTOR', 'GICS SUB-INDUSTRY'], ['DELETED', 'AutoNation', 'Consumer Discretionary', 'Automotive Retail']]\n",
      "[['S&P 500 INDEX – August 29, 2017', None, None, None], ['', 'COMPANY', 'GICS ECONOMIC SECTOR', 'GICS SUB-INDUSTRY'], ['ADDED', 'Quintiles IMS \\nHoldings', 'Health Care', 'Life Sciences Tools & \\nServices'], ['DELETED', 'Whole Foods \\nMarket', 'Consumer Staples', 'Food Retail']]\n",
      "[['S&P 500 INDEX – September 1, 2017', None, None, None], ['', 'COMPANY', 'GICS ECONOMIC SECTOR', 'GICS SUB-INDUSTRY'], ['ADDED', 'SBA \\nCommunications', 'Real Estate', 'Specialized REITs'], ['DELETED', 'DuPont', 'Materials', 'Diversified Chemicals']]\n",
      "[['S&P 500 INDEX – September 18, 2017', None, None, None], ['', 'COMPANY', 'GICS ECONOMIC SECTOR', 'GICS SUB-INDUSTRY'], ['ADDED', 'Cadence Design \\nSystems', 'Information Technology', 'Application Software'], ['DELETED', 'Staples', 'Consumer Discretionary', 'Specialty Stores']]\n",
      "[['S&P 500 INDEX – OCTOBER 13, 2017', None, None, None], ['', 'COMPANY', 'GICS ECONOMIC SECTOR', 'GICS SUB-INDUSTRY'], ['ADDED', 'Norwegian \\nCruise Line', 'Consumer Discretionary', 'Hotels, Resorts & Cruise \\nLines'], ['DELETED', 'Level 3 \\nCommunications', 'Telecommunication Services', 'Alternative Carriers']]\n",
      "[['S&P 500 INDEX – November 29, 2013', None, None, None], ['', 'COMPANY', 'GICS ECONOMIC SECTOR', 'GICS SUB-INDUSTRY'], ['ADDED', 'Allegion', 'Industrials', 'Building Products'], ['DELETED', 'J.C. Penney', 'Consumer Discretionary', 'Department Stores']]\n",
      "[['S&P 500 INDEX – December 20, 2013', None, None, None], ['', 'COMPANY', 'GICS ECONOMIC SECTOR', 'GICS SUB-INDUSTRY'], ['ADDED', 'Facebook', 'Information Technology', 'Internet Software & \\nServices'], ['', 'Alliance Data \\nSystems', 'Information Technology', 'Data Processing & \\nOutsourced Services'], ['', 'Mohawk \\nIndustries', 'Consumer Discretionary', 'Home Furnishings'], ['DELETED', 'Teradyne', 'Information Technology', 'Semiconductor Equipment'], ['', 'Abercrombie & \\nFitch', 'Consumer Discretionary', 'Apparel Retail'], ['', 'JDS Uniphase', 'Information Technology', 'Communications Equipment']]\n",
      "[['S&P 500 INDEX – March 7, 2018', None, None, None], ['', 'COMPANY', 'GICS ECONOMIC SECTOR', 'GICS SUB-INDUSTRY'], ['ADDED', 'IPG Photonics', 'Information Technology', 'Electronic \\nManufacturing Services'], ['DELETED', 'Scripps \\nNetworks \\nInteractive', 'Consumer Discretionary', 'Broadcasting']]\n",
      "[['S&P 500 INDEX – March 19, 2018', None, None, None], ['', 'COMPANY', 'GICS ECONOMIC SECTOR', 'GICS SUB-INDUSTRY'], ['ADDED', 'Take-Two \\nInteractive \\nSoftware', 'Information Technology', 'Home Entertainment \\nSoftware'], ['', 'SVB Financial \\nGroup', 'Financials', 'Regional Banks'], ['', 'Nektar \\nTherapeutics', 'Health Care', 'Pharmaceuticals'], ['DELETED', 'Signet \\nJewelers', 'Consumer Discretionary', 'Specialty Stores'], ['', 'Patterson \\nCompanies', 'Health Care', 'Health Care \\nDistributors'], ['', 'Chesapeake \\nEnergy', 'Energy', 'Oil & Gas Exploration & \\nProduction']]\n",
      "[['S&P 500 INDEX – MAY 31, 2018', None, None, None], ['', 'COMPANY', 'GICS ECONOMIC SECTOR', 'GICS SUB-INDUSTRY'], ['ADDED', 'ABIOMED', 'Health Care', 'Health Care Equipment'], ['DELETED', 'Wyndham \\nWorldwide', 'Consumer Discretionary', 'Hotels, Resorts & Cruise \\nLines']]\n"
     ]
    },
    {
     "name": "stdout",
     "output_type": "stream",
     "text": [
      "[['S&P 500 INDEX – JUNE 7, 2018', None, None, None], ['', 'COMPANY', 'GICS ECONOMIC \\nSECTOR', 'GICS SUB-INDUSTRY'], ['ADDED', 'Twitter', 'Information Technology', 'Internet Software & Services'], ['DELETED', 'Monsanto', 'Materials', 'Fertilizers & Agricultural \\nChemicals']]\n",
      "[['S&P 500 INDEX – June 18, 2018', None, None, None], ['', 'COMPANY', 'GICS ECONOMIC SECTOR', 'GICS SUB-INDUSTRY'], ['ADDED', 'HollyFrontier', 'Energy', 'Oil & Gas Refining & \\nMarketing'], ['', 'Broadridge \\nFinancial \\nSolutions', 'Information Technology', 'Data Processing & \\nOutsourced Services'], ['DELETED', 'Acuity Brands', 'Industrials', 'Electrical Components \\n& Equipment'], ['', 'Range \\nResources', 'Energy', 'Oil & Gas Exploration & \\nProduction']]\n",
      "[['S&P 500 INDEX – JUNE 20, 2018', None, None, None], ['', 'COMPANY', 'GICS ECONOMIC \\nSECTOR', 'GICS SUB-INDUSTRY'], ['ADDED', 'FleetCor \\nTechnologies', 'Information Technology', 'Data Processing & Outsources \\nServices'], ['DELETED', 'Time Warner', 'Consumer Discretionary', 'Movies & Entertainment']]\n",
      "[['S&P 500 INDEX – JULY 2, 2018', None, None, None], ['', 'COMPANY', 'GICS ECONOMIC \\nSECTOR', 'GICS SUB-INDUSTRY'], ['ADDED', 'Copart', 'Industrials', 'Diversified Support Services'], ['DELETED', 'Dr Pepper Snapple', 'Consumer Staples', 'Soft Drinks']]\n",
      "[['S&P 500 INDEX – AUGUST 28, 2018', None, None, None], ['', 'COMPANY', 'GICS ECONOMIC SECTOR', 'GICS SUB-INDUSTRY'], ['ADDED', 'Arista Networks', 'Information Technology', 'Communications \\nEquipment'], ['DELETED', 'GGP', 'Real Estate', 'Retail REIT’s']]\n",
      "[['S&P 500 INDEX – September 17, 2018', None, None, None], ['', 'COMPANY', 'GICS ECONOMIC SECTOR', 'GICS SUB-INDUSTRY'], ['ADDED', 'WellCare \\nHealth Plans', 'Health Care', 'Managed Health Care'], ['DELETED', 'XL Group', 'Financials', 'Property & Casualty \\nInsurance']]\n",
      "[['S&P 500 INDEX – OCTOBER 1, 2018', None, None, None], ['', 'COMPANY', 'GICS ECONOMIC SECTOR', 'GICS SUB-INDUSTRY'], ['ADDED', 'Rollins', 'Industrials', 'Environmental & \\nFacilities Services'], ['DELETED', 'Andeavor', 'Energy', 'Oil & Gas Refining & \\nMarketing']]\n",
      "[['S&P 500 INDEX – OCTOBER 11, 2018', None, None, None], ['', 'COMPANY', 'GICS ECONOMIC SECTOR', 'GICS SUB-INDUSTRY'], ['ADDED', 'Fortinet', 'Information Technology', 'Systems Software'], ['DELETED', 'Envision \\nHealthcare', 'Health Care', 'Health Care Services']]\n",
      "[['S&P 500 INDEX – NOVEMBER 6, 2018', None, None, None], ['', 'COMPANY', 'GICS ECONOMIC SECTOR', 'GICS SUB-INDUSTRY'], ['ADDED', 'Keysight \\nTechnologies', 'Information Technology', 'Electronic Equipment & \\nInstruments'], ['DELETED', 'CA', 'Information Technology', 'Systems Software']]\n",
      "[['S&P 500 INDEX – NOVEMBER 13, 2018', None, None, None], ['', 'COMPANY', 'GICS ECONOMIC SECTOR', 'GICS SUB-INDUSTRY'], ['ADDED', 'Jack Henry', 'Information Technology', 'Data Processing & \\nOutsourced Services'], ['DELETED', 'EQT', 'Energy', 'Oil & Gas Exploration & \\nProduction']]\n",
      "[['S&P 500 INDEX – DECEMBER 3, 2018', None, None, None], ['', 'COMPANY', 'GICS ECONOMIC SECTOR', 'GICS SUB-INDUSTRY'], ['ADDED', 'Lamb Weston \\nHoldings', 'Consumer Staples', 'Packaged Foods & Meats'], ['', 'Maxim \\nIntegrated \\nProducts', 'Information Technology', 'Semiconductors'], ['', 'Diamondback \\nEnergy', 'Energy', 'Oil & Gas Exploration & \\nProduction'], ['DELETED', 'Rockwell Collins', 'Industrials', 'Aerospace & Defense'], ['', 'Aetna', 'Health Care', 'Managed Health Care'], ['', 'Stericycle', 'Industrials', 'Environmental & \\nFacilities Services']]\n",
      "[['S&P 500 INDEX – DECEMBER 24, 2018', None, None, None], ['', 'COMPANY', 'GICS ECONOMIC SECTOR', 'GICS SUB-INDUSTRY'], ['ADDED', 'Celanese', 'Materials', 'Specialty Chemicals'], ['DELETED', 'Express Scripts \\nHolding', 'Health Care', 'Health Care Services']]\n",
      "[['S&P 500 INDEX – JANUARY 2, 2019', None, None, None], ['', 'COMPANY', 'GICS ECONOMIC SECTOR', 'GICS SUB-INDUSTRY'], ['ADDED', 'First Republic', 'Financials', 'Regional Banks'], ['DELETED', 'SCANA', 'Utilities', 'Multi-Utilities']]\n",
      "[['S&P 500 INDEX – January 18, 2019', None, None, None], ['', 'COMPANY', 'GICS ECONOMIC SECTOR', 'GICS SUB-INDUSTRY'], ['ADDED', 'Teleflex', 'Health Care', 'Health Care Equipment'], ['DELETED', 'PG&E', 'Utilities', 'Electric Utilities']]\n",
      "[['S&P 500 INDEX – February 15, 2019', None, None, None], ['', 'COMPANY', 'GICS ECONOMIC SECTOR', 'GICS SUB-INDUSTRY'], ['ADDED', 'Atmos Energy', 'Utilities', 'Gas Utilities'], ['DELETED', 'Newfield \\nExploration', 'Energy', 'Oil & Gas Exploration & \\nProduction']]\n",
      "[['S&P 500 INDEX – February 27, 2019', None, None, None], ['', 'COMPANY', 'GICS ECONOMIC SECTOR', 'GICS SUB-INDUSTRY'], ['ADDED', 'Wabtec', 'Industrials', 'Construction Machinery & \\nHeavy Trucks'], ['DELETED', 'Goodyear Tire & \\nRubber', 'Consumer Discretionary', 'Tires & Rubber']]\n",
      "[['S&P 500 INDEX – MARCH 19, 2019', None, None, None], ['', 'COMPANY', 'GICS ECONOMIC SECTOR', 'GICS SUB-INDUSTRY'], ['ADDED', 'Fox', 'Communication Services', 'Broadcasting*']]\n",
      "[['S&P 500 INDEX – MARCH 20, 2019', None, None, None], ['', 'COMPANY', 'GICS ECONOMIC SECTOR', 'GICS SUB-INDUSTRY'], ['DELETED', 'Twenty-First \\nCentury Fox', 'Communication Services', 'Movies & Entertainment']]\n",
      "[['S&P 500 INDEX – APRIL 2 , 2019', None, None, None], ['', 'COMPANY', 'GICS ECONOMIC SECTOR', 'GICS SUB-INDUSTRY'], ['ADDED', 'Dow', 'Materials', 'Commodity Chemical*']]\n",
      "[['S&P 500 INDEX – APRIL 3 , 2019', None, None, None], ['', 'COMPANY', 'GICS ECONOMIC SECTOR', 'GICS SUB-INDUSTRY'], ['DELETED', 'Brighthouse \\nFinancial', 'Financials', 'Life & Health Insurance']]\n",
      "[['S&P 500 INDEX – June 3, 2019', None, None, None], ['', 'COMPANY', 'GICS ECONOMIC SECTOR', 'GICS SUB-INDUSTRY'], ['ADDED', 'Corteva', 'Materials', 'Agricultural Products']]\n",
      "[['S&P 500 INDEX – June 4, 2019', None, None, None], ['', 'COMPANY', 'GICS ECONOMIC SECTOR', 'GICS SUB-INDUSTRY'], ['DELETED', 'Fluor', 'Industrials', 'Construction & \\nEngineering']]\n",
      "[['S&P 500 INDEX – June 7, 2019', None, None, None], ['', 'COMPANY', 'GICS ECONOMIC SECTOR', 'GICS SUB-INDUSTRY'], ['ADDED', 'Bemis', 'Materials', 'Paper Packaging'], ['DELETED', 'Mattel', 'Consumer Discretionary', 'Leisure Products']]\n",
      "[['S&P 500 INDEX – July 1, 2019', None, None, None], ['', 'COMPANY', 'GICS ECONOMIC SECTOR', 'GICS SUB-INDUSTRY'], ['ADDED', 'MarketAxess \\nHoldings', 'Financials', 'Financial Exchanges & \\nData'], ['DELETED', 'L3 Technologies', 'Industrials', 'Aerospace & Defense']]\n",
      "[['S&P 500 INDEX – July 15, 2019', None, None, None], ['', 'COMPANY', 'GICS ECONOMIC SECTOR', 'GICS SUB-INDUSTRY'], ['ADDED', 'T-Mobile US', 'Communication Services', 'Wireless \\nTelecommunication \\nServices'], ['DELETED', 'Red Hat', 'Information Technology', 'Systems Software']]\n",
      "[['S&P 500 INDEX – August 9, 2019', None, None, None], ['', 'COMPANY', 'GICS ECONOMIC SECTOR', 'GICS SUB-INDUSTRY'], ['ADDED', 'Leidos Holdings', 'Information Technology', 'IT Consulting & Other \\nServices'], ['', 'IDEX', 'Industrials', 'Industrial Machinery'], ['DELETED', 'Anadarko \\nPetroleum', 'Energy', 'Oil & Gas Exploration & \\nProduction'], ['', 'Foot Locker', 'Consumer Discretionary', 'Apparel Retail']]\n",
      "[['S&P 500 INDEX – September 20, 2013', None, None, None], ['', 'COMPANY', 'GICS ECONOMIC SECTOR', 'GICS SUB-INDUSTRY'], ['ADDED', 'Vertex \\nPharmaceuticals', 'Health Care', 'Biotechnology'], ['', 'Ametek', 'Industrials', 'Electrical Components & \\nEquipment'], ['DELETED', 'Advanced Micro \\nDevices', 'Information Technology', 'Semiconductors'], ['', 'SAIC', 'Information Technology', 'IT Consulting & Other \\nServices']]\n",
      "[['S&P 500 INDEX – AUGUST 28, 2018', None, None, None], ['', 'COMPANY', 'GICS ECONOMIC SECTOR', 'GICS SUB-INDUSTRY'], ['ADDED', 'Arista Networks', 'Information Technology', 'Communications \\nEquipment'], ['DELETED', 'GGP', 'Real Estate', 'Retail REIT’s']]\n",
      "[['S&P 500 INDEX – December 31, 2012', None, None, None], ['', 'COMPANY', 'GICS ECONOMIC SECTOR', 'GICS SUB-INDUSTRY'], ['ADDED', 'AbbVie', 'Health Care', 'Pharmaceuticals'], ['DELETED', 'Federated Investors', 'Financials', 'Asset Management & \\nCustody Banks']]\n"
     ]
    }
   ],
   "source": [
    "# import camelot\n",
    "# import ghostscript\n",
    "# from tika import parser\n",
    "# import textract\n",
    "# from tika import unpack\n",
    "import pdfplumber\n",
    "\n",
    "for filename in os.listdir(dirPath):\n",
    "#     print(filename)\n",
    "#     file = open(dirPath + filename, 'rb')\n",
    "#     data = file.read()\n",
    "#     print(data)\n",
    "#     text = textract.process(dirPath + filename, method='tesseract', language='eng')\n",
    "#     print(text)\n",
    "#     raw = parser.from_file(dirPath + filename)\n",
    "#     print(raw['metadata'])\n",
    "#     data = unpack.from_file(dirPath + filename)\n",
    "#     print(data)\n",
    "    pdf = pdfplumber.open(dirPath + filename)\n",
    "    for page in pdf.pages:\n",
    "        tables = page.extract_tables()\n",
    "        for table in tables:\n",
    "            if any(\"S&P 500 INDEX\" in str(item) for item in table[0]):\n",
    "                print(table)\n",
    "\n",
    "    #     announcement_date = re.findall(\"New York, NY, () –\", raw['content'])[0]\n",
    "#     print(announcement_date)\n",
    "#     break\n",
    "#     tables = camelot.read_pdf(dirPath + filename, pages = \"1-end\")\n",
    "#     for table in tables:\n",
    "#         print(table.df)\n",
    "#     dfs = read_pdf(dirPath + filename, pages = \"all\", multiple_tables = True, guess=False)\n",
    "#     for df in dfs:\n",
    "# #         if \"S&P 500 INDEX\" in df.values:\n",
    "# #         if \"S&P 500 INDEX\" in df[1][0]:\n",
    "#         print(df)\n",
    "#     break"
   ]
  },
  {
   "cell_type": "code",
   "execution_count": 134,
   "metadata": {},
   "outputs": [],
   "source": [
    "# from pandas_datareader import data as pdr\n",
    "\n",
    "# import yfinance as yf\n",
    "# yf.pdr_override() # <== that's all it takes :-)\n",
    "\n",
    "# # download dataframe\n",
    "# data = pdr.get_data_yahoo(\"Arista Networks\", start=\"2017-01-01\", end=\"2017-04-30\")\n",
    "import urllib.parse\n",
    "stock_name = \"Arista Networks\"\n",
    "encoded_stock_name = urllib.parse.quote(stock_name)\n",
    "# url = \"https://s.yimg.com/aq/autoc?query=\" + encoded_stock_name + \"&region=CA&lang=en-CA&callback=YAHOO.util.ScriptNodeDataSource.callbacks\"\n",
    "url = \"https://s.yimg.com/aq/autoc?query=\" + encoded_stock_name + \"&lang=en-US\"\n",
    "response = requests.get(url)"
   ]
  },
  {
   "cell_type": "code",
   "execution_count": 136,
   "metadata": {
    "scrolled": true
   },
   "outputs": [],
   "source": [
    "json_response = response.json()"
   ]
  },
  {
   "cell_type": "code",
   "execution_count": 137,
   "metadata": {},
   "outputs": [
    {
     "data": {
      "text/plain": [
       "{'ResultSet': {'Query': 'ANET',\n",
       "  'Result': [{'symbol': 'ANET',\n",
       "    'name': 'Arista Networks, Inc.',\n",
       "    'exch': 'NYQ',\n",
       "    'type': 'S',\n",
       "    'exchDisp': 'NYSE',\n",
       "    'typeDisp': 'Equity'},\n",
       "   {'symbol': 'ANET.MX',\n",
       "    'name': 'Arista Networks, Inc.',\n",
       "    'exch': 'MEX',\n",
       "    'type': 'S',\n",
       "    'exchDisp': 'Mexico',\n",
       "    'typeDisp': 'Equity'},\n",
       "   {'symbol': 'S0184.MC',\n",
       "    'name': 'ACCIONES ANETO GLOBAL INVESTMEN',\n",
       "    'exch': 'MCE',\n",
       "    'type': 'M',\n",
       "    'exchDisp': 'Madrid Stock Exchange CATS',\n",
       "    'typeDisp': 'Fund'},\n",
       "   {'symbol': 'ANET.VI',\n",
       "    'name': 'Arista Networks, Inc.',\n",
       "    'exch': 'VIE',\n",
       "    'type': 'S',\n",
       "    'exchDisp': 'Vienna',\n",
       "    'typeDisp': 'Equity'},\n",
       "   {'symbol': 'ANET210115P00170000',\n",
       "    'name': 'ANET Jan 2021 put 170.000',\n",
       "    'exch': 'OPR',\n",
       "    'type': 'O',\n",
       "    'exchDisp': 'OPR',\n",
       "    'typeDisp': 'Option'},\n",
       "   {'symbol': 'ANET200619C00150000',\n",
       "    'name': 'ANET Jun 2020 call 150.000',\n",
       "    'exch': 'OPR',\n",
       "    'type': 'O',\n",
       "    'exchDisp': 'OPR',\n",
       "    'typeDisp': 'Option'},\n",
       "   {'symbol': 'ANET200918C00260000',\n",
       "    'name': 'ANET Sep 2020 call 260.000',\n",
       "    'exch': 'OPR',\n",
       "    'type': 'O',\n",
       "    'exchDisp': 'OPR',\n",
       "    'typeDisp': 'Option'},\n",
       "   {'symbol': 'ANET200918C00250000',\n",
       "    'name': 'ANET Sep 2020 call 250.000',\n",
       "    'exch': 'OPR',\n",
       "    'type': 'O',\n",
       "    'exchDisp': 'OPR',\n",
       "    'typeDisp': 'Option'},\n",
       "   {'symbol': 'ANET200918C00180000',\n",
       "    'name': 'ANET Sep 2020 call 180.000',\n",
       "    'exch': 'OPR',\n",
       "    'type': 'O',\n",
       "    'exchDisp': 'OPR',\n",
       "    'typeDisp': 'Option'}]}}"
      ]
     },
     "execution_count": 137,
     "metadata": {},
     "output_type": "execute_result"
    }
   ],
   "source": [
    "json_response"
   ]
  },
  {
   "cell_type": "code",
   "execution_count": 142,
   "metadata": {},
   "outputs": [
    {
     "data": {
      "text/plain": [
       "'ANET'"
      ]
     },
     "execution_count": 142,
     "metadata": {},
     "output_type": "execute_result"
    }
   ],
   "source": [
    "json_response['ResultSet']['Result'][0]['symbol']"
   ]
  },
  {
   "cell_type": "code",
   "execution_count": 128,
   "metadata": {},
   "outputs": [],
   "source": [
    "# ticker = re.findall(\"\\\"Result\\\":\\[\\{\\\"symbol\\\":\\\"(.+)\\\",\\\"name\\\":\\\"\", response.text)\n",
    "ticker = re.findall(\"symbol(.+),\", response.text)\n",
    "# ticker = re.findall(\"\\\"symbol\\\":(.+),\\\"name\\\":\\\"\", response.text)[0]\n",
    "# pattern = re.compile(\"\\\"symbol\\\":(.+),\")\n",
    "# ticker = pattern.search(response.text)\n",
    "# ticker = re.match(\"\\\"symbol\\\":(.+),\\\"name\\\":\\\"\", response.text)"
   ]
  },
  {
   "cell_type": "code",
   "execution_count": 129,
   "metadata": {},
   "outputs": [
    {
     "data": {
      "text/plain": [
       "['\":\"ANET\",\"name\":\"Arista Networks, Inc.\",\"exch\":\"NYQ\",\"type\":\"S\",\"exchDisp\":\"NYSE\",\"typeDisp\":\"Equity\"},{\"symbol\":\"117.SG\",\"name\":\"Arista Networks Inc. Registered\",\"exch\":\"STU\",\"type\":\"S\",\"exchDisp\":\"Stuttgart\",\"typeDisp\":\"Equity\"},{\"symbol\":\"117.F\",\"name\":\"Arista Networks, Inc.\",\"exch\":\"FRA\",\"type\":\"S\",\"exchDisp\":\"Frankfurt\",\"typeDisp\":\"Equity\"},{\"symbol\":\"117.BE\",\"name\":\"ARISTA NETWORKS  DL-,0001\",\"exch\":\"BER\",\"type\":\"S\",\"exchDisp\":\"Berlin\",\"typeDisp\":\"Equity\"},{\"symbol\":\"ANET.MX\",\"name\":\"Arista Networks, Inc.\",\"exch\":\"MEX\",\"type\":\"S\",\"exchDisp\":\"Mexico\",\"typeDisp\":\"Equity\"},{\"symbol\":\"ANET.VI\",\"name\":\"Arista Networks, Inc.\",\"exch\":\"VIE\",\"type\":\"S\",\"exchDisp\":\"Vienna\",\"typeDisp\":\"Equity\"},{\"symbol\":\"117.DU\",\"name\":\"ARISTA NETWORKS  DL-,0001\",\"exch\":\"DUS\",\"type\":\"S\",\"exchDisp\":\"Dusseldorf Stock Exchange\",\"typeDisp\":\"Equity\"},{\"symbol\":\"117.MU\",\"name\":\"ARISTA NETWORKS  DL-,0001\",\"exch\":\"MUN\",\"type\":\"S\",\"exchDisp\":\"Munich\",\"typeDisp\":\"Equity\"},{\"symbol\":\"0HHR.L\",\"name\":\"Arista Networks, Inc.\",\"exch\":\"YHD\",\"type\":\"S\",\"exchDisp\":\"Industry\"']"
      ]
     },
     "execution_count": 129,
     "metadata": {},
     "output_type": "execute_result"
    }
   ],
   "source": [
    "ticker"
   ]
  },
  {
   "cell_type": "code",
   "execution_count": 130,
   "metadata": {},
   "outputs": [
    {
     "data": {
      "text/plain": [
       "1"
      ]
     },
     "execution_count": 130,
     "metadata": {},
     "output_type": "execute_result"
    }
   ],
   "source": [
    "len(ticker)"
   ]
  },
  {
   "cell_type": "code",
   "execution_count": 92,
   "metadata": {},
   "outputs": [
    {
     "data": {
      "text/plain": [
       "'YAHOO.util.ScriptNodeDataSource.callbacks({\"ResultSet\":{\"Query\":\"Arista Networks\",\"Result\":[{\"symbol\":\"ANET\",\"name\":\"Arista Networks, Inc.\",\"exch\":\"NYQ\",\"type\":\"S\",\"exchDisp\":\"NYSE\",\"typeDisp\":\"Equity\"},{\"symbol\":\"117.SG\",\"name\":\"Arista Networks Inc. Registered\",\"exch\":\"STU\",\"type\":\"S\",\"exchDisp\":\"Stuttgart\",\"typeDisp\":\"Equity\"},{\"symbol\":\"117.F\",\"name\":\"Arista Networks, Inc.\",\"exch\":\"FRA\",\"type\":\"S\",\"exchDisp\":\"Frankfurt\",\"typeDisp\":\"Equity\"},{\"symbol\":\"117.BE\",\"name\":\"ARISTA NETWORKS  DL-,0001\",\"exch\":\"BER\",\"type\":\"S\",\"exchDisp\":\"Berlin\",\"typeDisp\":\"Equity\"},{\"symbol\":\"ANET.MX\",\"name\":\"Arista Networks, Inc.\",\"exch\":\"MEX\",\"type\":\"S\",\"exchDisp\":\"Mexico\",\"typeDisp\":\"Equity\"},{\"symbol\":\"ANET.VI\",\"name\":\"Arista Networks, Inc.\",\"exch\":\"VIE\",\"type\":\"S\",\"exchDisp\":\"Vienna\",\"typeDisp\":\"Equity\"},{\"symbol\":\"117.DU\",\"name\":\"ARISTA NETWORKS  DL-,0001\",\"exch\":\"DUS\",\"type\":\"S\",\"exchDisp\":\"Dusseldorf Stock Exchange\",\"typeDisp\":\"Equity\"},{\"symbol\":\"117.MU\",\"name\":\"ARISTA NETWORKS  DL-,0001\",\"exch\":\"MUN\",\"type\":\"S\",\"exchDisp\":\"Munich\",\"typeDisp\":\"Equity\"},{\"symbol\":\"0HHR.L\",\"name\":\"Arista Networks, Inc.\",\"exch\":\"YHD\",\"type\":\"S\",\"exchDisp\":\"Industry\",\"typeDisp\":\"Equity\"}]}});'"
      ]
     },
     "execution_count": 92,
     "metadata": {},
     "output_type": "execute_result"
    }
   ],
   "source": [
    "response.text"
   ]
  },
  {
   "cell_type": "code",
   "execution_count": 62,
   "metadata": {},
   "outputs": [
    {
     "data": {
      "text/plain": [
       "'https://s.yimg.com/aq/autoc?query=Arista%20Networks&region=CA&lang=en-CA&callback=YAHOO.util.ScriptNodeDataSource.callbacks'"
      ]
     },
     "execution_count": 62,
     "metadata": {},
     "output_type": "execute_result"
    }
   ],
   "source": [
    "response.url"
   ]
  },
  {
   "cell_type": "code",
   "execution_count": 39,
   "metadata": {},
   "outputs": [],
   "source": [
    "import json"
   ]
  },
  {
   "cell_type": "code",
   "execution_count": 51,
   "metadata": {},
   "outputs": [
    {
     "data": {
      "text/plain": [
       "{'X-Yahoo-Request-Id': '3d0eb0df9ab7c', 'Cache-Control': 'public, max-age=300, stale-while-revalidate=30, stale-if-error=3600', 'Content-Encoding': 'gzip', 'Content-Type': 'application/javascript', 'Content-Length': '360', 'Date': 'Tue, 14 Apr 2020 03:24:28 GMT', 'Age': '0', 'Strict-Transport-Security': 'max-age=15552000', 'Server': 'ATS', 'Public-Key-Pins-Report-Only': 'max-age=2592000; pin-sha256=\"2fRAUXyxl4A1/XHrKNBmc8bTkzA7y4FB/GLJuNAzCqY=\"; pin-sha256=\"I/Lt/z7ekCWanjD0Cvj5EqXls2lOaThEA0H2Bg4BT/o=\"; pin-sha256=\"K87oWBWM9UZfyddvDfoxL+8lpNyoUB2ptGtn0fv6G2Q=\"; pin-sha256=\"Wd8xe/qfTwq3ylFNd3IpaqLHZbh2ZNCLluVzmeNkcpw=\"; pin-sha256=\"WoiWRyIOVNa9ihaBciRSC7XHjliYS9VwUGOIud4PB18=\"; pin-sha256=\"cGuxAXyFXFkWm61cF4HPWX8S0srS9j0aSqN0k4AP+4A=\"; pin-sha256=\"dolnbtzEBnELx/9lOEQ22e6OZO/QNb6VSSX2XHA3E7A=\"; pin-sha256=\"i7WTqTvh0OioIruIfFR4kMPnBqrS2rdiVPl/s2uC/CY=\"; pin-sha256=\"r/mIkG3eEpVdm+u/ko/cwxzOMo1bk4TyHIlByibiA5E=\"; pin-sha256=\"uUwZgwDOxcBXrQcntwu+kYFpkiVkOaezL0WYEZ3anJc=\"; includeSubdomains; report-uri=\"http://csp.yahoo.com/beacon/csp?src=yahoocom-hpkp-report-only\"', 'X-Frame-Options': 'SAMEORIGIN', 'Referrer-Policy': 'no-referrer-when-downgrade', 'Connection': 'keep-alive', 'Expect-CT': 'max-age=31536000, report-uri=\"http://csp.yahoo.com/beacon/csp?src=yahoocom-expect-ct-report-only\"', 'X-XSS-Protection': '1; mode=block', 'X-Content-Type-Options': 'nosniff'}"
      ]
     },
     "execution_count": 51,
     "metadata": {},
     "output_type": "execute_result"
    }
   ],
   "source": [
    "response.headers\n"
   ]
  },
  {
   "cell_type": "code",
   "execution_count": 64,
   "metadata": {},
   "outputs": [
    {
     "ename": "JSONDecodeError",
     "evalue": "Expecting value: line 1 column 1 (char 0)",
     "output_type": "error",
     "traceback": [
      "\u001b[1;31m---------------------------------------------------------------------------\u001b[0m",
      "\u001b[1;31mJSONDecodeError\u001b[0m                           Traceback (most recent call last)",
      "\u001b[1;32m<ipython-input-64-6529aa42dee4>\u001b[0m in \u001b[0;36m<module>\u001b[1;34m\u001b[0m\n\u001b[1;32m----> 1\u001b[1;33m \u001b[0mjson\u001b[0m\u001b[1;33m.\u001b[0m\u001b[0mloads\u001b[0m\u001b[1;33m(\u001b[0m\u001b[0mresponse\u001b[0m\u001b[1;33m.\u001b[0m\u001b[0mheaders\u001b[0m\u001b[1;33m[\u001b[0m\u001b[1;34m'Content-Encoding'\u001b[0m\u001b[1;33m]\u001b[0m\u001b[1;33m)\u001b[0m\u001b[1;33m\u001b[0m\u001b[1;33m\u001b[0m\u001b[0m\n\u001b[0m",
      "\u001b[1;32m~\\Anaconda3\\envs\\finance\\lib\\json\\__init__.py\u001b[0m in \u001b[0;36mloads\u001b[1;34m(s, encoding, cls, object_hook, parse_float, parse_int, parse_constant, object_pairs_hook, **kw)\u001b[0m\n\u001b[0;32m    346\u001b[0m             \u001b[0mparse_int\u001b[0m \u001b[1;32mis\u001b[0m \u001b[1;32mNone\u001b[0m \u001b[1;32mand\u001b[0m \u001b[0mparse_float\u001b[0m \u001b[1;32mis\u001b[0m \u001b[1;32mNone\u001b[0m \u001b[1;32mand\u001b[0m\u001b[1;33m\u001b[0m\u001b[1;33m\u001b[0m\u001b[0m\n\u001b[0;32m    347\u001b[0m             parse_constant is None and object_pairs_hook is None and not kw):\n\u001b[1;32m--> 348\u001b[1;33m         \u001b[1;32mreturn\u001b[0m \u001b[0m_default_decoder\u001b[0m\u001b[1;33m.\u001b[0m\u001b[0mdecode\u001b[0m\u001b[1;33m(\u001b[0m\u001b[0ms\u001b[0m\u001b[1;33m)\u001b[0m\u001b[1;33m\u001b[0m\u001b[1;33m\u001b[0m\u001b[0m\n\u001b[0m\u001b[0;32m    349\u001b[0m     \u001b[1;32mif\u001b[0m \u001b[0mcls\u001b[0m \u001b[1;32mis\u001b[0m \u001b[1;32mNone\u001b[0m\u001b[1;33m:\u001b[0m\u001b[1;33m\u001b[0m\u001b[1;33m\u001b[0m\u001b[0m\n\u001b[0;32m    350\u001b[0m         \u001b[0mcls\u001b[0m \u001b[1;33m=\u001b[0m \u001b[0mJSONDecoder\u001b[0m\u001b[1;33m\u001b[0m\u001b[1;33m\u001b[0m\u001b[0m\n",
      "\u001b[1;32m~\\Anaconda3\\envs\\finance\\lib\\json\\decoder.py\u001b[0m in \u001b[0;36mdecode\u001b[1;34m(self, s, _w)\u001b[0m\n\u001b[0;32m    335\u001b[0m \u001b[1;33m\u001b[0m\u001b[0m\n\u001b[0;32m    336\u001b[0m         \"\"\"\n\u001b[1;32m--> 337\u001b[1;33m         \u001b[0mobj\u001b[0m\u001b[1;33m,\u001b[0m \u001b[0mend\u001b[0m \u001b[1;33m=\u001b[0m \u001b[0mself\u001b[0m\u001b[1;33m.\u001b[0m\u001b[0mraw_decode\u001b[0m\u001b[1;33m(\u001b[0m\u001b[0ms\u001b[0m\u001b[1;33m,\u001b[0m \u001b[0midx\u001b[0m\u001b[1;33m=\u001b[0m\u001b[0m_w\u001b[0m\u001b[1;33m(\u001b[0m\u001b[0ms\u001b[0m\u001b[1;33m,\u001b[0m \u001b[1;36m0\u001b[0m\u001b[1;33m)\u001b[0m\u001b[1;33m.\u001b[0m\u001b[0mend\u001b[0m\u001b[1;33m(\u001b[0m\u001b[1;33m)\u001b[0m\u001b[1;33m)\u001b[0m\u001b[1;33m\u001b[0m\u001b[1;33m\u001b[0m\u001b[0m\n\u001b[0m\u001b[0;32m    338\u001b[0m         \u001b[0mend\u001b[0m \u001b[1;33m=\u001b[0m \u001b[0m_w\u001b[0m\u001b[1;33m(\u001b[0m\u001b[0ms\u001b[0m\u001b[1;33m,\u001b[0m \u001b[0mend\u001b[0m\u001b[1;33m)\u001b[0m\u001b[1;33m.\u001b[0m\u001b[0mend\u001b[0m\u001b[1;33m(\u001b[0m\u001b[1;33m)\u001b[0m\u001b[1;33m\u001b[0m\u001b[1;33m\u001b[0m\u001b[0m\n\u001b[0;32m    339\u001b[0m         \u001b[1;32mif\u001b[0m \u001b[0mend\u001b[0m \u001b[1;33m!=\u001b[0m \u001b[0mlen\u001b[0m\u001b[1;33m(\u001b[0m\u001b[0ms\u001b[0m\u001b[1;33m)\u001b[0m\u001b[1;33m:\u001b[0m\u001b[1;33m\u001b[0m\u001b[1;33m\u001b[0m\u001b[0m\n",
      "\u001b[1;32m~\\Anaconda3\\envs\\finance\\lib\\json\\decoder.py\u001b[0m in \u001b[0;36mraw_decode\u001b[1;34m(self, s, idx)\u001b[0m\n\u001b[0;32m    353\u001b[0m             \u001b[0mobj\u001b[0m\u001b[1;33m,\u001b[0m \u001b[0mend\u001b[0m \u001b[1;33m=\u001b[0m \u001b[0mself\u001b[0m\u001b[1;33m.\u001b[0m\u001b[0mscan_once\u001b[0m\u001b[1;33m(\u001b[0m\u001b[0ms\u001b[0m\u001b[1;33m,\u001b[0m \u001b[0midx\u001b[0m\u001b[1;33m)\u001b[0m\u001b[1;33m\u001b[0m\u001b[1;33m\u001b[0m\u001b[0m\n\u001b[0;32m    354\u001b[0m         \u001b[1;32mexcept\u001b[0m \u001b[0mStopIteration\u001b[0m \u001b[1;32mas\u001b[0m \u001b[0merr\u001b[0m\u001b[1;33m:\u001b[0m\u001b[1;33m\u001b[0m\u001b[1;33m\u001b[0m\u001b[0m\n\u001b[1;32m--> 355\u001b[1;33m             \u001b[1;32mraise\u001b[0m \u001b[0mJSONDecodeError\u001b[0m\u001b[1;33m(\u001b[0m\u001b[1;34m\"Expecting value\"\u001b[0m\u001b[1;33m,\u001b[0m \u001b[0ms\u001b[0m\u001b[1;33m,\u001b[0m \u001b[0merr\u001b[0m\u001b[1;33m.\u001b[0m\u001b[0mvalue\u001b[0m\u001b[1;33m)\u001b[0m \u001b[1;32mfrom\u001b[0m \u001b[1;32mNone\u001b[0m\u001b[1;33m\u001b[0m\u001b[1;33m\u001b[0m\u001b[0m\n\u001b[0m\u001b[0;32m    356\u001b[0m         \u001b[1;32mreturn\u001b[0m \u001b[0mobj\u001b[0m\u001b[1;33m,\u001b[0m \u001b[0mend\u001b[0m\u001b[1;33m\u001b[0m\u001b[1;33m\u001b[0m\u001b[0m\n",
      "\u001b[1;31mJSONDecodeError\u001b[0m: Expecting value: line 1 column 1 (char 0)"
     ]
    }
   ],
   "source": [
    "json.loads(response.headers['Content-Encoding'])"
   ]
  },
  {
   "cell_type": "code",
   "execution_count": 65,
   "metadata": {},
   "outputs": [
    {
     "data": {
      "text/plain": [
       "'gzip'"
      ]
     },
     "execution_count": 65,
     "metadata": {},
     "output_type": "execute_result"
    }
   ],
   "source": [
    "response.headers['Content-Encoding']"
   ]
  },
  {
   "cell_type": "code",
   "execution_count": 82,
   "metadata": {},
   "outputs": [],
   "source": [
    "# f = urllib.urlopen(request)\n",
    "# data = f.read()\n",
    "try:\n",
    "    from cStringIO import StringIO\n",
    "    from gzip import GzipFile\n",
    "    data2 = GzipFile('', 'r', 0, StringIO(response.text)).read()\n",
    "#     data2 = GzipFile(mode='r', file_object=response.content).read()\n",
    "    data = data2\n",
    "except:\n",
    "    #print \"decompress error %s\" % err\n",
    "    pass"
   ]
  },
  {
   "cell_type": "code",
   "execution_count": 83,
   "metadata": {},
   "outputs": [
    {
     "data": {
      "text/html": [
       "<div>\n",
       "<style scoped>\n",
       "    .dataframe tbody tr th:only-of-type {\n",
       "        vertical-align: middle;\n",
       "    }\n",
       "\n",
       "    .dataframe tbody tr th {\n",
       "        vertical-align: top;\n",
       "    }\n",
       "\n",
       "    .dataframe thead tr th {\n",
       "        text-align: left;\n",
       "    }\n",
       "\n",
       "    .dataframe thead tr:last-of-type th {\n",
       "        text-align: right;\n",
       "    }\n",
       "</style>\n",
       "<table border=\"1\" class=\"dataframe\">\n",
       "  <thead>\n",
       "    <tr>\n",
       "      <th></th>\n",
       "      <th colspan=\"2\" halign=\"left\">Adj Close</th>\n",
       "      <th colspan=\"2\" halign=\"left\">Close</th>\n",
       "      <th colspan=\"2\" halign=\"left\">High</th>\n",
       "      <th colspan=\"2\" halign=\"left\">Low</th>\n",
       "      <th colspan=\"2\" halign=\"left\">Open</th>\n",
       "      <th colspan=\"2\" halign=\"left\">Volume</th>\n",
       "    </tr>\n",
       "    <tr>\n",
       "      <th></th>\n",
       "      <th>ARISTA</th>\n",
       "      <th>NETWORKS</th>\n",
       "      <th>ARISTA</th>\n",
       "      <th>NETWORKS</th>\n",
       "      <th>ARISTA</th>\n",
       "      <th>NETWORKS</th>\n",
       "      <th>ARISTA</th>\n",
       "      <th>NETWORKS</th>\n",
       "      <th>ARISTA</th>\n",
       "      <th>NETWORKS</th>\n",
       "      <th>ARISTA</th>\n",
       "      <th>NETWORKS</th>\n",
       "    </tr>\n",
       "    <tr>\n",
       "      <th>Date</th>\n",
       "      <th></th>\n",
       "      <th></th>\n",
       "      <th></th>\n",
       "      <th></th>\n",
       "      <th></th>\n",
       "      <th></th>\n",
       "      <th></th>\n",
       "      <th></th>\n",
       "      <th></th>\n",
       "      <th></th>\n",
       "      <th></th>\n",
       "      <th></th>\n",
       "    </tr>\n",
       "  </thead>\n",
       "  <tbody>\n",
       "  </tbody>\n",
       "</table>\n",
       "</div>"
      ],
      "text/plain": [
       "Empty DataFrame\n",
       "Columns: [(Adj Close, ARISTA), (Adj Close, NETWORKS), (Close, ARISTA), (Close, NETWORKS), (High, ARISTA), (High, NETWORKS), (Low, ARISTA), (Low, NETWORKS), (Open, ARISTA), (Open, NETWORKS), (Volume, ARISTA), (Volume, NETWORKS)]\n",
       "Index: []"
      ]
     },
     "execution_count": 83,
     "metadata": {},
     "output_type": "execute_result"
    }
   ],
   "source": [
    "data"
   ]
  },
  {
   "cell_type": "code",
   "execution_count": 43,
   "metadata": {},
   "outputs": [
    {
     "data": {
      "text/plain": [
       "b'YAHOO.util.ScriptNodeDataSource.callbacks({\"ResultSet\":{\"Query\":\"Arista Networks\",\"Result\":[{\"symbol\":\"ANET\",\"name\":\"Arista Networks, Inc.\",\"exch\":\"NYQ\",\"type\":\"S\",\"exchDisp\":\"NYSE\",\"typeDisp\":\"Equity\"},{\"symbol\":\"117.SG\",\"name\":\"Arista Networks Inc. Registered\",\"exch\":\"STU\",\"type\":\"S\",\"exchDisp\":\"Stuttgart\",\"typeDisp\":\"Equity\"},{\"symbol\":\"117.F\",\"name\":\"Arista Networks, Inc.\",\"exch\":\"FRA\",\"type\":\"S\",\"exchDisp\":\"Frankfurt\",\"typeDisp\":\"Equity\"},{\"symbol\":\"117.BE\",\"name\":\"ARISTA NETWORKS  DL-,0001\",\"exch\":\"BER\",\"type\":\"S\",\"exchDisp\":\"Berlin\",\"typeDisp\":\"Equity\"},{\"symbol\":\"ANET.MX\",\"name\":\"Arista Networks, Inc.\",\"exch\":\"MEX\",\"type\":\"S\",\"exchDisp\":\"Mexico\",\"typeDisp\":\"Equity\"},{\"symbol\":\"ANET.VI\",\"name\":\"Arista Networks, Inc.\",\"exch\":\"VIE\",\"type\":\"S\",\"exchDisp\":\"Vienna\",\"typeDisp\":\"Equity\"},{\"symbol\":\"117.DU\",\"name\":\"ARISTA NETWORKS  DL-,0001\",\"exch\":\"DUS\",\"type\":\"S\",\"exchDisp\":\"Dusseldorf Stock Exchange\",\"typeDisp\":\"Equity\"},{\"symbol\":\"117.MU\",\"name\":\"ARISTA NETWORKS  DL-,0001\",\"exch\":\"MUN\",\"type\":\"S\",\"exchDisp\":\"Munich\",\"typeDisp\":\"Equity\"},{\"symbol\":\"0HHR.L\",\"name\":\"Arista Networks, Inc.\",\"exch\":\"YHD\",\"type\":\"S\",\"exchDisp\":\"Industry\",\"typeDisp\":\"Equity\"}]}});'"
      ]
     },
     "execution_count": 43,
     "metadata": {},
     "output_type": "execute_result"
    }
   ],
   "source": [
    "response.content"
   ]
  },
  {
   "cell_type": "code",
   "execution_count": 38,
   "metadata": {},
   "outputs": [
    {
     "data": {
      "text/plain": [
       "'ANET\",\"name\":\"Arista Networks, Inc.\",\"exch\":\"NYQ\",\"type\":\"S\",\"exchDisp\":\"NYSE\",\"typeDisp\":\"Equity\"},{\"symbol\":\"117.SG\",\"name\":\"Arista Networks Inc. Registered\",\"exch\":\"STU\",\"type\":\"S\",\"exchDisp\":\"Stuttgart\",\"typeDisp\":\"Equity\"},{\"symbol\":\"117.F\",\"name\":\"Arista Networks, Inc.\",\"exch\":\"FRA\",\"type\":\"S\",\"exchDisp\":\"Frankfurt\",\"typeDisp\":\"Equity\"},{\"symbol\":\"117.BE\",\"name\":\"ARISTA NETWORKS  DL-,0001\",\"exch\":\"BER\",\"type\":\"S\",\"exchDisp\":\"Berlin\",\"typeDisp\":\"Equity\"},{\"symbol\":\"ANET.MX\",\"name\":\"Arista Networks, Inc.\",\"exch\":\"MEX\",\"type\":\"S\",\"exchDisp\":\"Mexico\",\"typeDisp\":\"Equity\"},{\"symbol\":\"ANET.VI\",\"name\":\"Arista Networks, Inc.\",\"exch\":\"VIE\",\"type\":\"S\",\"exchDisp\":\"Vienna\",\"typeDisp\":\"Equity\"},{\"symbol\":\"117.DU\",\"name\":\"ARISTA NETWORKS  DL-,0001\",\"exch\":\"DUS\",\"type\":\"S\",\"exchDisp\":\"Dusseldorf Stock Exchange\",\"typeDisp\":\"Equity\"},{\"symbol\":\"117.MU\",\"name\":\"ARISTA NETWORKS  DL-,0001\",\"exch\":\"MUN\",\"type\":\"S\",\"exchDisp\":\"Munich\",\"typeDisp\":\"Equity\"},{\"symbol\":\"0HHR.L\"'"
      ]
     },
     "execution_count": 38,
     "metadata": {},
     "output_type": "execute_result"
    }
   ],
   "source": [
    "ticker"
   ]
  },
  {
   "cell_type": "code",
   "execution_count": 32,
   "metadata": {},
   "outputs": [
    {
     "data": {
      "text/plain": [
       "34"
      ]
     },
     "execution_count": 32,
     "metadata": {},
     "output_type": "execute_result"
    }
   ],
   "source": [
    "ord(ticker[4])"
   ]
  },
  {
   "cell_type": "code",
   "execution_count": 33,
   "metadata": {},
   "outputs": [
    {
     "data": {
      "text/plain": [
       "34"
      ]
     },
     "execution_count": 33,
     "metadata": {},
     "output_type": "execute_result"
    }
   ],
   "source": [
    "ord('\"')"
   ]
  },
  {
   "cell_type": "code",
   "execution_count": 67,
   "metadata": {},
   "outputs": [
    {
     "name": "stdout",
     "output_type": "stream",
     "text": [
      "True\n",
      "False\n",
      "False\n",
      "False\n"
     ]
    }
   ],
   "source": [
    "for item in table[0]:\n",
    "    print(\"S&P\" in str(item))"
   ]
  },
  {
   "cell_type": "code",
   "execution_count": 64,
   "metadata": {},
   "outputs": [
    {
     "ename": "NameError",
     "evalue": "name 'item' is not defined",
     "output_type": "error",
     "traceback": [
      "\u001b[1;31m---------------------------------------------------------------------------\u001b[0m",
      "\u001b[1;31mNameError\u001b[0m                                 Traceback (most recent call last)",
      "\u001b[1;32m<ipython-input-64-2d50c3117fbd>\u001b[0m in \u001b[0;36m<module>\u001b[1;34m\u001b[0m\n\u001b[1;32m----> 1\u001b[1;33m \u001b[0mitem\u001b[0m\u001b[1;33m\u001b[0m\u001b[1;33m\u001b[0m\u001b[0m\n\u001b[0m",
      "\u001b[1;31mNameError\u001b[0m: name 'item' is not defined"
     ]
    }
   ],
   "source": [
    "item"
   ]
  },
  {
   "cell_type": "code",
   "execution_count": 68,
   "metadata": {},
   "outputs": [
    {
     "data": {
      "text/plain": [
       "True"
      ]
     },
     "execution_count": 68,
     "metadata": {},
     "output_type": "execute_result"
    }
   ],
   "source": [
    "any(\"S&P\" in str(item) for item in table[0])"
   ]
  },
  {
   "cell_type": "code",
   "execution_count": 54,
   "metadata": {
    "collapsed": true
   },
   "outputs": [
    {
     "data": {
      "text/plain": [
       "[[['S&P 500 INDEX – March 3, 2020', None, None, None],\n",
       "  ['', 'COMPANY', 'GICS ECONOMIC SECTOR', 'GICS SUB-INDUSTRY'],\n",
       "  ['ADDED', 'Gardner Denver', 'Industrials', 'Industrial Machinery'],\n",
       "  ['DELETED',\n",
       "   'Cimarex Energy',\n",
       "   'Energy',\n",
       "   'Oil & Gas Exploration & \\nProduction']],\n",
       " [['S&P MIDCAP 400 INDEX – March 3, 2020', None, None, None],\n",
       "  ['', 'COMPANY', 'GICS ECONOMIC SECTOR', 'GICS SUB-INDUSTRY'],\n",
       "  ['ADDED',\n",
       "   'Cimarex Energy',\n",
       "   'Energy',\n",
       "   'Oil & Gas Exploration & \\nProduction'],\n",
       "  ['DELETED',\n",
       "   'Chesapeake \\nEnergy',\n",
       "   'Energy',\n",
       "   'Oil & Gas Exploration & \\nProduction']]]"
      ]
     },
     "execution_count": 54,
     "metadata": {},
     "output_type": "execute_result"
    }
   ],
   "source": [
    "tables"
   ]
  },
  {
   "cell_type": "code",
   "execution_count": 53,
   "metadata": {},
   "outputs": [
    {
     "data": {
      "text/plain": [
       "'1098962_Final5Ingersol4Cimar.pdf'"
      ]
     },
     "execution_count": 53,
     "metadata": {},
     "output_type": "execute_result"
    }
   ],
   "source": [
    "filename"
   ]
  },
  {
   "cell_type": "code",
   "execution_count": 66,
   "metadata": {},
   "outputs": [
    {
     "data": {
      "text/plain": [
       "False"
      ]
     },
     "execution_count": 66,
     "metadata": {},
     "output_type": "execute_result"
    }
   ],
   "source": [
    "\"S&P 500 INDEX\" in dfs[0].values"
   ]
  },
  {
   "cell_type": "code",
   "execution_count": 27,
   "metadata": {},
   "outputs": [],
   "source": [
    "tables = page.extract_table()"
   ]
  },
  {
   "cell_type": "code",
   "execution_count": 41,
   "metadata": {},
   "outputs": [
    {
     "data": {
      "text/plain": [
       "True"
      ]
     },
     "execution_count": 41,
     "metadata": {},
     "output_type": "execute_result"
    }
   ],
   "source": [
    "any(\"S&P 500 INDEX\" in string for string in tables[0])"
   ]
  },
  {
   "cell_type": "code",
   "execution_count": 39,
   "metadata": {},
   "outputs": [
    {
     "ename": "AttributeError",
     "evalue": "'list' object has no attribute 'flatten'",
     "output_type": "error",
     "traceback": [
      "\u001b[1;31m---------------------------------------------------------------------------\u001b[0m",
      "\u001b[1;31mAttributeError\u001b[0m                            Traceback (most recent call last)",
      "\u001b[1;32m<ipython-input-39-0425a23c36cd>\u001b[0m in \u001b[0;36m<module>\u001b[1;34m\u001b[0m\n\u001b[1;32m----> 1\u001b[1;33m \u001b[0mtables\u001b[0m\u001b[1;33m.\u001b[0m\u001b[0mflatten\u001b[0m\u001b[1;33m(\u001b[0m\u001b[1;33m)\u001b[0m\u001b[1;33m\u001b[0m\u001b[1;33m\u001b[0m\u001b[0m\n\u001b[0m",
      "\u001b[1;31mAttributeError\u001b[0m: 'list' object has no attribute 'flatten'"
     ]
    }
   ],
   "source": [
    "tables.flatten()"
   ]
  }
 ],
 "metadata": {
  "kernelspec": {
   "display_name": "Python 3",
   "language": "python",
   "name": "python3"
  },
  "language_info": {
   "codemirror_mode": {
    "name": "ipython",
    "version": 3
   },
   "file_extension": ".py",
   "mimetype": "text/x-python",
   "name": "python",
   "nbconvert_exporter": "python",
   "pygments_lexer": "ipython3",
   "version": "3.7.6"
  }
 },
 "nbformat": 4,
 "nbformat_minor": 4
}
