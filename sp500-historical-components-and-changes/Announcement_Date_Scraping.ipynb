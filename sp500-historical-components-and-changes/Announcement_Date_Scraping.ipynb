{
 "cells": [
  {
   "cell_type": "code",
   "execution_count": 2,
   "metadata": {},
   "outputs": [
    {
     "name": "stdout",
     "output_type": "stream",
     "text": [
      "Directory  announcements  already exists\n"
     ]
    }
   ],
   "source": [
    "import os\n",
    "import requests\n",
    "import re\n",
    "from googlesearch import search \n",
    "from tabula import read_pdf\n",
    "\n",
    "dirName = \"announcements\"\n",
    "dirPath = \".\\\\\" + dirName + \"\\\\\"\n",
    "\n",
    "try:\n",
    "    # Create target Directory\n",
    "    os.mkdir(dirName)\n",
    "    print(\"Directory \" , dirName ,  \" Created \") \n",
    "except FileExistsError:\n",
    "    print(\"Directory \" , dirName ,  \" already exists\")"
   ]
  },
  {
   "cell_type": "code",
   "execution_count": 26,
   "metadata": {},
   "outputs": [],
   "source": [
    "def download_file(url):\n",
    "    file = requests.get(url, stream=True)\n",
    "    headers = file.headers['content-disposition']\n",
    "    filename = re.findall(\"filename=\\\"(.+)\\\"\", headers)[0]\n",
    "    location = os.path.relpath(dirPath + filename)\n",
    "    open(location, 'wb').write(file.content)\n",
    "    del file"
   ]
  },
  {
   "cell_type": "code",
   "execution_count": 27,
   "metadata": {},
   "outputs": [],
   "source": [
    "query = \"\\\"S&P 500 INDEX –\\\" \\\"Set to Join\\\" site:us.spindices.com filetype:pdf\"\n",
    "results = search(query, tld='com', lang='en', num=10, start=0, stop=None, pause=2.0)"
   ]
  },
  {
   "cell_type": "code",
   "execution_count": 28,
   "metadata": {
    "collapsed": true
   },
   "outputs": [
    {
     "name": "stdout",
     "output_type": "stream",
     "text": [
      "https://us.spindices.com/documents/indexnews/announcements/20200331-1119193/1119193_1utxspinrtn15otiscarrier.pdf?force_download=true\n",
      "https://us.spindices.com/documents/indexnews/announcements/20190709-957359/957359_hat5mobile.pdf?force_download=true\n",
      "https://us.spindices.com/documents/indexnews/announcements/20200122-1077359/1077359_5payc.pdf?force_download=true\n",
      "https://us.spindices.com/documents/indexnews/announcements/20190624-948566/948566_mktxaaxnmlab546usna6xncr6.pdf?force_download=true\n",
      "https://us.spindices.com/documents/indexnews/announcements/20200227-1098962/1098962_Final5Ingersol4Cimar.pdf?force_download=true\n",
      "https://us.spindices.com/documents/indexnews/announcements/20190528-935564/935564_dwdpspin5blmn6.pdf?force_download=true\n",
      "https://us.spindices.com/ids_spice_data/idsfiles/11700_3dmaccor546.pdf\n",
      "https://us.spindices.com/ids_spice_data/idsfiles/11854_whitewavekansasdeanspin.pdf\n",
      "https://us.spindices.com/documents/index-news-and-announcements/20171228-spdji-bard-huntington-games-ultra-press-release.pdf\n",
      "https://us.spindices.com/documents/indexnews/announcements/20180925-786958/786958_rollininvandamotion.pdf?force_download=true\n",
      "http://us.spindices.com/documents/indexnews/announcements/20160303-313547/313547_gmcrudrhr546prlb.pdf?force_download=true\n",
      "http://us.spindices.com/documents/indexnews/announcements/20160621-364753/364753_cablehorse45mi.pdf?force_download=true\n",
      "https://us.spindices.com/documents/indexnews/announcements/20180823-764552/764552_ichor5arista6micro.pdf?force_download=true\n",
      "https://us.spindices.com/documents/indexnews/announcements/20180608-722756/722756_1hollybroadshuf252426finl.pdf?force_download=true\n",
      "https://us.spindices.com/documents/indexnews/announcements/20180615-727360/727360_time1fleet5nvid14.pdf?force_download=true\n",
      "http://us.spindices.com/documents/index-news-and-announcements/sp100abbspinpresidentlife65.pdf\n",
      "https://us.spindices.com/documents/index-news-and-announcements/AAshufspinsept2013vrtxamesaiamd.pdf\n",
      "https://us.spindices.com/documents/indexnews/announcements/20131211/67155_fbshuf252426100.pdf\n",
      "https://us.spindices.com/documents/indexnews/announcements/20151027-253375/253375_bbz2hpspinzerohudsonexterranspin6451.pdf?force_download=true\n",
      "https://us.spindices.com/documents/indexnews/announcements/20151102-256349/256349_zerospindarden4corners6arex.pdf?force_download=true\n",
      "https://us.spindices.com/documents/indexnews/announcements/20131122/64568_irspinpenney1.pdf?force_download=true\n",
      "http://us.spindices.com/documents/indexnews/announcements/20150609-193151/193151_qorvo5lowisdom4.pdf\n"
     ]
    }
   ],
   "source": [
    "for result in results:\n",
    "    download_file(result)\n",
    "    print(result)"
   ]
  },
  {
   "cell_type": "code",
   "execution_count": 69,
   "metadata": {},
   "outputs": [
    {
     "name": "stdout",
     "output_type": "stream",
     "text": [
      "[['S&P 500 INDEX – January 28, 2020', None, None, None], ['', 'COMPANY', 'GICS ECONOMIC \\nSECTOR', 'GICS SUB-INDUSTRY'], ['ADDED', 'Paycom Software', 'Information Technology', 'Application Software'], ['DELETED', 'WellCare Health \\nPlans', 'Health Care', 'Managed Health Care']]\n",
      "[['S&P 500 INDEX – March 3, 2020', None, None, None], ['', 'COMPANY', 'GICS ECONOMIC SECTOR', 'GICS SUB-INDUSTRY'], ['ADDED', 'Gardner Denver', 'Industrials', 'Industrial Machinery'], ['DELETED', 'Cimarex Energy', 'Energy', 'Oil & Gas Exploration & \\nProduction']]\n",
      "[['S&P 500 INDEX – April 3, 2020', None, None, None], ['', 'COMPANY', 'GICS ECONOMIC SECTOR', 'GICS SUB-INDUSTRY'], ['ADDED', 'Otis Worldwide', 'Industrials', 'Industrial Equipment'], ['', 'Carrier Global', 'Industrials', 'Building Products']]\n",
      "[['S&P 500 INDEX – April 6, 2020', None, None, None], ['', 'COMPANY', 'GICS ECONOMIC SECTOR', 'GICS SUB-INDUSTRY'], ['DELETED', 'Raytheon', 'Industrials', 'Aerospace & Defense'], ['', 'Macy’s', 'Consumer Discretionary', 'Department Stores']]\n",
      "[['S&P 500 INDEX – May 8, 2013', None, None, None], ['', 'COMPANY', 'GICS ECONOMIC SECTOR', 'GICS SUB-INDUSTRY'], ['ADDED', 'The Macerich \\nCompany', 'Financials', 'Retail REITs'], ['DELETED', 'Coventry Health \\nCare', 'Health Care', 'Managed Health Care']]\n",
      "[['S&P 500 INDEX – May 23, 2013', None, None, None], ['', 'COMPANY', 'GICS ECONOMIC SECTOR', 'GICS SUB-INDUSTRY'], ['ADDED', 'Kansas City \\nSouthern', 'Industrials', 'Railroads'], ['DELETED', 'Dean Foods', 'Consumer Staples', 'Packaged Foods & Meats']]\n",
      "[['S&P 500 INDEX – June 11, 2015', None, None, None], ['', 'COMPANY', 'GICS ECONOMIC SECTOR', 'GICS SUB-INDUSTRY'], ['ADDED', 'Qorvo', 'Information Technology', 'Semiconductors'], ['DELETED', 'Lorillard', 'Consumer Staples', 'Tobacco']]\n",
      "[['S&P 500 INDEX – JANUARY 3, 2018', None, None, None], ['', 'COMPANY', 'GICS ECONOMIC SECTOR', 'GICS SUB-INDUSTRY'], ['ADDED', 'Huntington \\nIngalls Industries', 'Industrials', 'Aerospace & Defense'], ['DELETED', 'C.R. Bard', 'Health Care', 'Health Care Equipment']]\n",
      "[['S&P 500 INDEX – October 30, 2015', None, None, None], ['', 'COMPANY', 'GICS ECONOMIC SECTOR', 'GICS SUB-INDUSTRY'], ['ADDED', 'Hewlett Packard \\nEnterprise', 'Information Technology', 'Technology Hardware, Storage \\n& Peripherals']]\n",
      "[['S&P 500 INDEX – November 2, 2015', None, None, None], ['', 'COMPANY', 'GICS ECONOMIC SECTOR', 'GICS SUB-INDUSTRY'], ['DELETED', 'Hudson  City \\nBancorp', 'Financials', 'Thrifts & Mortgage Finance']]\n",
      "[['S&P 500 INDEX – November 9, 2015', None, None, None], ['', 'COMPANY', 'GICS ECONOMIC SECTOR', 'GICS SUB-INDUSTRY'], ['ADDED', 'Four Corners \\nProperty Trust', 'Consumer Discretionary', 'Restaurants']]\n",
      "[['S&P 500 INDEX – November 10, 2015', None, None, None], ['', 'COMPANY', 'GICS ECONOMIC SECTOR', 'GICS SUB-INDUSTRY'], ['DELETED', 'Four Corners \\nProperty Trust', 'Consumer Discretionary', 'Restaurants']]\n",
      "[['S&P 500 INDEX – March 4, 2016', None, None, None], ['', 'COMPANY', 'GICS ECONOMIC SECTOR', 'GICS SUB-INDUSTRY'], ['ADDED', 'UDR', 'Financials', 'Residential REITs'], ['DELETED', 'Keurig Green \\nMountain', 'Consumer Staples', 'Packaged Foods & Meats']]\n",
      "[['S&P 500 INDEX – JUNE 23, 2016', None, None, None], ['', 'COMPANY', 'GICS ECONOMIC SECTOR', 'GICS SUB-INDUSTRY'], ['ADDED', 'Fortune Brands \\nHome & Security', 'Industrials', 'Building Products'], ['DELETED', 'Cablevision \\nSystems', 'Consumer Discretionary', 'Cable & Satellite']]\n",
      "[['S&P 500 INDEX – November 29, 2013', None, None, None], ['', 'COMPANY', 'GICS ECONOMIC SECTOR', 'GICS SUB-INDUSTRY'], ['ADDED', 'Allegion', 'Industrials', 'Building Products'], ['DELETED', 'J.C. Penney', 'Consumer Discretionary', 'Department Stores']]\n",
      "[['S&P 500 INDEX – December 20, 2013', None, None, None], ['', 'COMPANY', 'GICS ECONOMIC SECTOR', 'GICS SUB-INDUSTRY'], ['ADDED', 'Facebook', 'Information Technology', 'Internet Software & \\nServices'], ['', 'Alliance Data \\nSystems', 'Information Technology', 'Data Processing & \\nOutsourced Services'], ['', 'Mohawk \\nIndustries', 'Consumer Discretionary', 'Home Furnishings'], ['DELETED', 'Teradyne', 'Information Technology', 'Semiconductor Equipment'], ['', 'Abercrombie & \\nFitch', 'Consumer Discretionary', 'Apparel Retail'], ['', 'JDS Uniphase', 'Information Technology', 'Communications Equipment']]\n",
      "[['S&P 500 INDEX – June 18, 2018', None, None, None], ['', 'COMPANY', 'GICS ECONOMIC SECTOR', 'GICS SUB-INDUSTRY'], ['ADDED', 'HollyFrontier', 'Energy', 'Oil & Gas Refining & \\nMarketing'], ['', 'Broadridge \\nFinancial \\nSolutions', 'Information Technology', 'Data Processing & \\nOutsourced Services'], ['DELETED', 'Acuity Brands', 'Industrials', 'Electrical Components \\n& Equipment'], ['', 'Range \\nResources', 'Energy', 'Oil & Gas Exploration & \\nProduction']]\n",
      "[['S&P 500 INDEX – JUNE 20, 2018', None, None, None], ['', 'COMPANY', 'GICS ECONOMIC \\nSECTOR', 'GICS SUB-INDUSTRY'], ['ADDED', 'FleetCor \\nTechnologies', 'Information Technology', 'Data Processing & Outsources \\nServices'], ['DELETED', 'Time Warner', 'Consumer Discretionary', 'Movies & Entertainment']]\n",
      "[['S&P 500 INDEX – AUGUST 28, 2018', None, None, None], ['', 'COMPANY', 'GICS ECONOMIC SECTOR', 'GICS SUB-INDUSTRY'], ['ADDED', 'Arista Networks', 'Information Technology', 'Communications \\nEquipment'], ['DELETED', 'GGP', 'Real Estate', 'Retail REIT’s']]\n",
      "[['S&P 500 INDEX – OCTOBER 1, 2018', None, None, None], ['', 'COMPANY', 'GICS ECONOMIC SECTOR', 'GICS SUB-INDUSTRY'], ['ADDED', 'Rollins', 'Industrials', 'Environmental & \\nFacilities Services'], ['DELETED', 'Andeavor', 'Energy', 'Oil & Gas Refining & \\nMarketing']]\n",
      "[['S&P 500 INDEX – June 3, 2019', None, None, None], ['', 'COMPANY', 'GICS ECONOMIC SECTOR', 'GICS SUB-INDUSTRY'], ['ADDED', 'Corteva', 'Materials', 'Agricultural Products']]\n",
      "[['S&P 500 INDEX – June 4, 2019', None, None, None], ['', 'COMPANY', 'GICS ECONOMIC SECTOR', 'GICS SUB-INDUSTRY'], ['DELETED', 'Fluor', 'Industrials', 'Construction & \\nEngineering']]\n",
      "[['S&P 500 INDEX – July 1, 2019', None, None, None], ['', 'COMPANY', 'GICS ECONOMIC SECTOR', 'GICS SUB-INDUSTRY'], ['ADDED', 'MarketAxess \\nHoldings', 'Financials', 'Financial Exchanges & \\nData'], ['DELETED', 'L3 Technologies', 'Industrials', 'Aerospace & Defense']]\n",
      "[['S&P 500 INDEX – July 15, 2019', None, None, None], ['', 'COMPANY', 'GICS ECONOMIC SECTOR', 'GICS SUB-INDUSTRY'], ['ADDED', 'T-Mobile US', 'Communication Services', 'Wireless \\nTelecommunication \\nServices'], ['DELETED', 'Red Hat', 'Information Technology', 'Systems Software']]\n",
      "[['S&P 500 INDEX – September 20, 2013', None, None, None], ['', 'COMPANY', 'GICS ECONOMIC SECTOR', 'GICS SUB-INDUSTRY'], ['ADDED', 'Vertex \\nPharmaceuticals', 'Health Care', 'Biotechnology'], ['', 'Ametek', 'Industrials', 'Electrical Components & \\nEquipment'], ['DELETED', 'Advanced Micro \\nDevices', 'Information Technology', 'Semiconductors'], ['', 'SAIC', 'Information Technology', 'IT Consulting & Other \\nServices']]\n",
      "[['S&P 500 INDEX – December 31, 2012', None, None, None], ['', 'COMPANY', 'GICS ECONOMIC SECTOR', 'GICS SUB-INDUSTRY'], ['ADDED', 'AbbVie', 'Health Care', 'Pharmaceuticals'], ['DELETED', 'Federated Investors', 'Financials', 'Asset Management & \\nCustody Banks']]\n"
     ]
    }
   ],
   "source": [
    "# import camelot\n",
    "# import ghostscript\n",
    "# from tika import parser\n",
    "# import textract\n",
    "# from tika import unpack\n",
    "import pdfplumber\n",
    "\n",
    "for filename in os.listdir(dirPath):\n",
    "#     print(filename)\n",
    "#     file = open(dirPath + filename, 'rb')\n",
    "#     data = file.read()\n",
    "#     print(data)\n",
    "#     text = textract.process(dirPath + filename, method='tesseract', language='eng')\n",
    "#     print(text)\n",
    "#     raw = parser.from_file(dirPath + filename)\n",
    "#     print(raw['metadata'])\n",
    "#     data = unpack.from_file(dirPath + filename)\n",
    "#     print(data)\n",
    "    pdf = pdfplumber.open(dirPath + filename)\n",
    "    for page in pdf.pages:\n",
    "        tables = page.extract_tables()\n",
    "        for table in tables:\n",
    "            if any(\"S&P 500 INDEX\" in str(item) for item in table[0]):\n",
    "                print(table)\n",
    "\n",
    "    #     announcement_date = re.findall(\"New York, NY, () –\", raw['content'])[0]\n",
    "#     print(announcement_date)\n",
    "#     break\n",
    "#     tables = camelot.read_pdf(dirPath + filename, pages = \"1-end\")\n",
    "#     for table in tables:\n",
    "#         print(table.df)\n",
    "#     dfs = read_pdf(dirPath + filename, pages = \"all\", multiple_tables = True, guess=False)\n",
    "#     for df in dfs:\n",
    "# #         if \"S&P 500 INDEX\" in df.values:\n",
    "# #         if \"S&P 500 INDEX\" in df[1][0]:\n",
    "#         print(df)\n",
    "#     break"
   ]
  },
  {
   "cell_type": "code",
   "execution_count": 67,
   "metadata": {},
   "outputs": [
    {
     "name": "stdout",
     "output_type": "stream",
     "text": [
      "True\n",
      "False\n",
      "False\n",
      "False\n"
     ]
    }
   ],
   "source": [
    "for item in table[0]:\n",
    "    print(\"S&P\" in str(item))"
   ]
  },
  {
   "cell_type": "code",
   "execution_count": 64,
   "metadata": {},
   "outputs": [
    {
     "ename": "NameError",
     "evalue": "name 'item' is not defined",
     "output_type": "error",
     "traceback": [
      "\u001b[1;31m---------------------------------------------------------------------------\u001b[0m",
      "\u001b[1;31mNameError\u001b[0m                                 Traceback (most recent call last)",
      "\u001b[1;32m<ipython-input-64-2d50c3117fbd>\u001b[0m in \u001b[0;36m<module>\u001b[1;34m\u001b[0m\n\u001b[1;32m----> 1\u001b[1;33m \u001b[0mitem\u001b[0m\u001b[1;33m\u001b[0m\u001b[1;33m\u001b[0m\u001b[0m\n\u001b[0m",
      "\u001b[1;31mNameError\u001b[0m: name 'item' is not defined"
     ]
    }
   ],
   "source": [
    "item"
   ]
  },
  {
   "cell_type": "code",
   "execution_count": 68,
   "metadata": {},
   "outputs": [
    {
     "data": {
      "text/plain": [
       "True"
      ]
     },
     "execution_count": 68,
     "metadata": {},
     "output_type": "execute_result"
    }
   ],
   "source": [
    "any(\"S&P\" in str(item) for item in table[0])"
   ]
  },
  {
   "cell_type": "code",
   "execution_count": 54,
   "metadata": {},
   "outputs": [
    {
     "data": {
      "text/plain": [
       "[[['S&P 500 INDEX – March 3, 2020', None, None, None],\n",
       "  ['', 'COMPANY', 'GICS ECONOMIC SECTOR', 'GICS SUB-INDUSTRY'],\n",
       "  ['ADDED', 'Gardner Denver', 'Industrials', 'Industrial Machinery'],\n",
       "  ['DELETED',\n",
       "   'Cimarex Energy',\n",
       "   'Energy',\n",
       "   'Oil & Gas Exploration & \\nProduction']],\n",
       " [['S&P MIDCAP 400 INDEX – March 3, 2020', None, None, None],\n",
       "  ['', 'COMPANY', 'GICS ECONOMIC SECTOR', 'GICS SUB-INDUSTRY'],\n",
       "  ['ADDED',\n",
       "   'Cimarex Energy',\n",
       "   'Energy',\n",
       "   'Oil & Gas Exploration & \\nProduction'],\n",
       "  ['DELETED',\n",
       "   'Chesapeake \\nEnergy',\n",
       "   'Energy',\n",
       "   'Oil & Gas Exploration & \\nProduction']]]"
      ]
     },
     "execution_count": 54,
     "metadata": {},
     "output_type": "execute_result"
    }
   ],
   "source": [
    "tables"
   ]
  },
  {
   "cell_type": "code",
   "execution_count": 53,
   "metadata": {},
   "outputs": [
    {
     "data": {
      "text/plain": [
       "'1098962_Final5Ingersol4Cimar.pdf'"
      ]
     },
     "execution_count": 53,
     "metadata": {},
     "output_type": "execute_result"
    }
   ],
   "source": [
    "filename"
   ]
  },
  {
   "cell_type": "code",
   "execution_count": 66,
   "metadata": {},
   "outputs": [
    {
     "data": {
      "text/plain": [
       "False"
      ]
     },
     "execution_count": 66,
     "metadata": {},
     "output_type": "execute_result"
    }
   ],
   "source": [
    "\"S&P 500 INDEX\" in dfs[0].values"
   ]
  },
  {
   "cell_type": "code",
   "execution_count": 27,
   "metadata": {},
   "outputs": [],
   "source": [
    "tables = page.extract_table()"
   ]
  },
  {
   "cell_type": "code",
   "execution_count": 41,
   "metadata": {},
   "outputs": [
    {
     "data": {
      "text/plain": [
       "True"
      ]
     },
     "execution_count": 41,
     "metadata": {},
     "output_type": "execute_result"
    }
   ],
   "source": [
    "any(\"S&P 500 INDEX\" in string for string in tables[0])"
   ]
  },
  {
   "cell_type": "code",
   "execution_count": 39,
   "metadata": {},
   "outputs": [
    {
     "ename": "AttributeError",
     "evalue": "'list' object has no attribute 'flatten'",
     "output_type": "error",
     "traceback": [
      "\u001b[1;31m---------------------------------------------------------------------------\u001b[0m",
      "\u001b[1;31mAttributeError\u001b[0m                            Traceback (most recent call last)",
      "\u001b[1;32m<ipython-input-39-0425a23c36cd>\u001b[0m in \u001b[0;36m<module>\u001b[1;34m\u001b[0m\n\u001b[1;32m----> 1\u001b[1;33m \u001b[0mtables\u001b[0m\u001b[1;33m.\u001b[0m\u001b[0mflatten\u001b[0m\u001b[1;33m(\u001b[0m\u001b[1;33m)\u001b[0m\u001b[1;33m\u001b[0m\u001b[1;33m\u001b[0m\u001b[0m\n\u001b[0m",
      "\u001b[1;31mAttributeError\u001b[0m: 'list' object has no attribute 'flatten'"
     ]
    }
   ],
   "source": [
    "tables.flatten()"
   ]
  }
 ],
 "metadata": {
  "kernelspec": {
   "display_name": "Python 3",
   "language": "python",
   "name": "python3"
  },
  "language_info": {
   "codemirror_mode": {
    "name": "ipython",
    "version": 3
   },
   "file_extension": ".py",
   "mimetype": "text/x-python",
   "name": "python",
   "nbconvert_exporter": "python",
   "pygments_lexer": "ipython3",
   "version": "3.7.6"
  }
 },
 "nbformat": 4,
 "nbformat_minor": 4
}
