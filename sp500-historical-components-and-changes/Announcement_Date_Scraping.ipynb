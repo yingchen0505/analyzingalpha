{
 "cells": [
  {
   "cell_type": "code",
   "execution_count": 4,
   "metadata": {},
   "outputs": [
    {
     "name": "stdout",
     "output_type": "stream",
     "text": [
      "Directory  announcements  already exists\n"
     ]
    }
   ],
   "source": [
    "import os\n",
    "import requests\n",
    "import re\n",
    "from googlesearch import search \n",
    "from tabula import read_pdf\n",
    "import urllib.parse\n",
    "import pandas as pd\n",
    "from datetime import datetime\n",
    "import pdfplumber\n",
    "\n",
    "dirName = \"announcements\"\n",
    "dirPath = \".\\\\\" + dirName + \"\\\\\"\n",
    "\n",
    "try:\n",
    "    # Create target Directory\n",
    "    os.mkdir(dirName)\n",
    "    print(\"Directory \" , dirName ,  \" Created \") \n",
    "except FileExistsError:\n",
    "    print(\"Directory \" , dirName ,  \" already exists\")"
   ]
  },
  {
   "cell_type": "code",
   "execution_count": 72,
   "metadata": {},
   "outputs": [],
   "source": [
    "def download_file(url):\n",
    "    file = requests.get(url, stream=True)\n",
    "    headers = file.headers['content-disposition']\n",
    "    filename = re.findall(\"filename=\\\"(.+)\\\"\", headers)[0]\n",
    "    location = os.path.relpath(dirPath + filename)\n",
    "    open(location, 'wb').write(file.content)\n",
    "    del file"
   ]
  },
  {
   "cell_type": "code",
   "execution_count": 70,
   "metadata": {},
   "outputs": [],
   "source": [
    "query = \"\\\"S&P 500 INDEX –\\\" \\\"Set to Join\\\" site:spindices.com filetype:pdf\"\n",
    "results = search(query, tld='com', lang='en', num=10, start=0, stop=None, pause=2.0)"
   ]
  },
  {
   "cell_type": "code",
   "execution_count": 74,
   "metadata": {
    "collapsed": true
   },
   "outputs": [
    {
     "name": "stdout",
     "output_type": "stream",
     "text": [
      "https://us.spindices.com/documents/indexnews/announcements/20200122-1077359/1077359_5payc.pdf?force_download=true\n",
      "https://us.spindices.com/documents/indexnews/announcements/20190709-957359/957359_hat5mobile.pdf?force_download=true\n",
      "https://us.spindices.com/documents/indexnews/announcements/20200227-1098962/1098962_Final5Ingersol4Cimar.pdf?force_download=true\n",
      "https://www.spindices.com/documents/indexnews/announcements/20190314-892576/892576_21foxspindis100adbe.pdf\n",
      "https://www.spindices.com/documents/indexnews/announcements/20191127-1041559/1041559_BerkleyRJoe546.pdf\n",
      "https://www.spindices.com/documents/indexnews/announcements/20190801-969367/969367_1leidos546foot6fizz6.pdf\n",
      "https://us.spindices.com/documents/indexnews/announcements/20190624-948566/948566_mktxaaxnmlab546usna6xncr6.pdf?force_download=true\n",
      "https://www.spindices.com/documents/indexnews/announcements/20190326-898958/898958_1dowspin100trex400.pdf\n",
      "https://www.spindices.com/documents/indexnews/announcements/20190926-1004359/1004359_4sands6pennantnektar5.pdf\n",
      "https://www.spindices.com/documents/indexnews/announcements/20191202-1042569/1042569_14Dominion5Ready6Cabot4Logistics.pdf\n",
      "https://us.spindices.com/ids_spice_data/idsfiles/11700_3dmaccor546.pdf\n",
      "https://us.spindices.com/ids_spice_data/idsfiles/11854_whitewavekansasdeanspin.pdf\n",
      "https://www.spindices.com/documents/indexnews/announcements/20190603-938358/938358_5bemis4mattel-newboiler.pdf\n",
      "https://us.spindices.com/documents/indexnews/announcements/20190528-935564/935564_dwdpspin5blmn6.pdf?force_download=true\n",
      "https://www.spindices.com/documents/indexnews/announcements/20190920-1000559/1000559_4jefferies5vicallon6finisar4smart2nvr.pdf\n",
      "https://www.spindices.com/documents/indexnews/announcements/20181227-845559/845559_firstrepscan5.pdf\n",
      "https://www.spindices.com/documents/indexnews/announcements/20190221-878161/878161_ge5wabtec4goodyear.pdf\n",
      "https://www.spindices.com/documents/indexnews/announcements/20181004-794361/794361_pennchefftntasgnvbtx546vv.pdf\n",
      "http://www.spindices.com/documents/indexnews/announcements/20170731-560953/560953_spinmetnoganfcn546.pdf\n",
      "https://www.spindices.com/documents/indexnews/announcements/20191213-1051561/1051561_migradec34253624lopeleaUntFtr.pdf\n",
      "https://www.spindices.com/documents/indexnews/announcements/20180911-776955/776955_health54energy8.pdf\n",
      "https://www.spindices.com/documents/indexnews/announcements/20181107-813582/813582_eqtspinb46superiorflotek.pdf\n",
      "https://www.spindices.com/documents/indexnews/announcements/20190115-856358/856358_pcg456.pdf\n",
      "https://www.spindices.com/documents/indexnews/announcements/20190208-870958/870958_newfieldencana5.pdf\n",
      "https://www.spindices.com/documents/indexnews/announcements/20181219-839558/839558_celscript5.pdf\n",
      "https://www.spindices.com/documents/indexnews/announcements/20180625-731759/731759_june25drpepperclarifications.pdf\n",
      "https://au.spindices.com/documents/indexnews/announcements/20180604-719152/719152_nflx1twtr5rgnx6.pdf?force_download=true\n",
      "https://www.spindices.com/documents/indexnews/announcements/20180925-786958/786958_rollininvandamotion.pdf\n",
      "https://us.spindices.com/documents/index-news-and-announcements/20171228-spdji-bard-huntington-games-ultra-press-release.pdf\n",
      "http://www.spindices.com/documents/indexnews/announcements/20160216-305547/305547_conch5plum.pdf\n",
      "https://www.spindices.com/documents/indexnews/announcements/20181030-808381/808381_acammilgndkeys-5426.pdf\n",
      "https://www.spindices.com/documents/indexnews/announcements/20160518-348544/348544_lkqairgas465.pdf\n",
      "https://www.spindices.com/documents/indexnews/announcements/20180525-714752/714752_spinwyndxccmicro54.pdf\n",
      "https://www.spindices.com/documents/indexnews/announcements/20160825-393354/393354_mtdmpwrwcicnls5466.pdf\n",
      "http://www.spindices.com/documents/indexnews/announcements/20160419-333750/333750_globalpaykrispygame54622.pdf\n",
      "http://www.spindices.com/documents/indexnews/announcements/20160513-346753/346753_ntdigitalcable5.pdf\n",
      "https://www.spindices.com/documents/indexnews/announcements/20181126-822558/822558_5lambrockdiamondpebblecvs46.pdf\n",
      "https://www.spindices.com/documents/indexnews/announcements/20180615-727360/727360_time1fleet5nvid14.pdf\n",
      "http://www.spindices.com/documents/indexnews/announcements/20160113-290355/290355_chubbaceextraspacement5546epr.pdf\n",
      "https://www.spindices.com/documents/indexnews/announcements/20170908-580952/580952_spls5cadencewoofbrinkwebrebal64.pdf\n",
      "http://us.spindices.com/documents/indexnews/announcements/20160303-313547/313547_gmcrudrhr546prlb.pdf?force_download=true\n",
      "http://www.spindices.com/documents/indexnews/announcements/20151228-282746/282746_williswatglobaladept4256domfloat.pdf\n",
      "https://www.spindices.com/documents/indexnews/announcements/20180608-722756/722756_1hollybroadshuf252426finl.pdf\n",
      "https://us.spindices.com/documents/index-news-and-announcements/ichor5arista6micro.pdf?force_download=true\n",
      "http://www.spindices.com/documents/indexnews/announcements/20170524-530961/530961_info5tgnacars4jcptime6.pdf\n",
      "https://www.spindices.com/documents/indexnews/announcements/20160623-365754/365754_tecocolumbiaspindhr.pdf\n",
      "https://eu.spindices.com/documents/indexnews/announcements/20160122-293975/293975_soofrtbrcmcwcray5poolabg462ann.pdf?force_download=true\n",
      "http://us.spindices.com/documents/indexnews/announcements/20160621-364753/364753_cablehorse45mi.pdf?force_download=true\n",
      "http://www.spindices.com/documents/indexnews/announcements/20160629-369149/369149_1lntswxsstk546.pdf\n",
      "https://eu.spindices.com/documents/indexnews/announcements/20170103-465757/465757_idxx5cc4shak6.pdf?force_download=true\n",
      "https://www.spindices.com/documents/indexnews/announcements/20170612-539353/539353_everpinneast546.pdf\n",
      "http://www.spindices.com/documents/indexnews/announcements/20160510-345162/345162_alaskatotexascavs.pdf\n",
      "https://www.spindices.com/documents/indexnews/announcements/20160927-409359/409359_2coty5do4oth.pdf\n",
      "https://jp.spindices.com/documents/indexnews/announcements/20170609-538160/538160_yhoohlt5anssalgnrydertera.pdf?force_download=true\n",
      "http://www.spindices.com/documents/indexnews/announcements/20170306-493956/493956_lineardish5.pdf\n",
      "https://us.spindices.com/documents/index-news-and-announcements/AAshufspinsept2013vrtxamesaiamd.pdf\n",
      "https://www.spindices.com/documents/indexnews/announcements/20171004-593950/593950_cruise5century6pacific.pdf\n",
      "https://www.spindices.com/documents/indexnews/announcements/20160407-329544/329544_ulta5tenet24jah.pdf\n",
      "https://www.spindices.com/documents/indexnews/announcements/20170329-505361/505361_mentit5cebhskadnb46.pdf\n",
      "https://www.spindices.com/documents/indexnews/announcements/20170328-504361/504361_cscswn54.pdf\n",
      "https://au.spindices.com/documents/indexnews/announcements/20180302-671577/671577_ipgalenymtgnl5466.pdf?force_download=true\n",
      "http://www.spindices.com/documents/indexnews/announcements/20160328-323362/323362_footcam5dctindustrial4.pdf\n",
      "https://au.spindices.com/documents/indexnews/announcements/20160524-351348/351348_cceajgedraxl546.pdf?force_download=true\n",
      "https://eu.spindices.com/documents/indexnews/announcements/20170824-572951/572951_500dowdupont1chartsbacwfm.pdf?force_download=true\n",
      "http://www.spindices.com/documents/indexnews/announcements/20151109-259953/259953_split0ffsyf5ge4rovi4virginia.pdf\n",
      "http://www.spindices.com/documents/indexnews/announcements/20151112-261545/261545_illumin5sigma.pdf\n",
      "https://www.spindices.com/documents/indexnews/announcements/20150309-152351/152351_petskyjet546.pdf\n",
      "http://www.spindices.com/documents/indexnews/announcements/20160301-312347/312347_524slhcnxawk.pdf\n",
      "https://us.spindices.com/documents/indexnews/announcements/20131211/67155_fbshuf252426100.pdf\n",
      "http://www.spindices.com/documents/indexnews/announcements/20150930-242147/242147_4thorverisk5.pdf\n",
      "http://www.spindices.com/documents/indexnews/announcements/20160126-295550/295550_precisioncfg5mdaszltq66peprmaxsoo.pdf\n",
      "https://www.spindices.com/documents/indexnews/announcements/20180309-675150/675150_idesshuf18nktr.pdf\n",
      "https://us.spindices.com/documents/indexnews/announcements/20151027-253375/253375_bbz2hpspinzerohudsonexterranspin6451.pdf?force_download=true\n"
     ]
    },
    {
     "ename": "ConnectionError",
     "evalue": "HTTPConnectionPool(host='stg.spindices.com', port=80): Max retries exceeded with url: /documents/indexnews/announcements/20150706-204357/204357_dollarjackcontact546.pdf (Caused by NewConnectionError('<urllib3.connection.HTTPConnection object at 0x0000021D19A414C8>: Failed to establish a new connection: [WinError 10060] A connection attempt failed because the connected party did not properly respond after a period of time, or established connection failed because connected host has failed to respond'))",
     "output_type": "error",
     "traceback": [
      "\u001b[1;31m---------------------------------------------------------------------------\u001b[0m",
      "\u001b[1;31mTimeoutError\u001b[0m                              Traceback (most recent call last)",
      "\u001b[1;32m~\\Anaconda3\\envs\\finance\\lib\\site-packages\\urllib3\\connection.py\u001b[0m in \u001b[0;36m_new_conn\u001b[1;34m(self)\u001b[0m\n\u001b[0;32m    156\u001b[0m             conn = connection.create_connection(\n\u001b[1;32m--> 157\u001b[1;33m                 \u001b[1;33m(\u001b[0m\u001b[0mself\u001b[0m\u001b[1;33m.\u001b[0m\u001b[0m_dns_host\u001b[0m\u001b[1;33m,\u001b[0m \u001b[0mself\u001b[0m\u001b[1;33m.\u001b[0m\u001b[0mport\u001b[0m\u001b[1;33m)\u001b[0m\u001b[1;33m,\u001b[0m \u001b[0mself\u001b[0m\u001b[1;33m.\u001b[0m\u001b[0mtimeout\u001b[0m\u001b[1;33m,\u001b[0m \u001b[1;33m**\u001b[0m\u001b[0mextra_kw\u001b[0m\u001b[1;33m\u001b[0m\u001b[1;33m\u001b[0m\u001b[0m\n\u001b[0m\u001b[0;32m    158\u001b[0m             )\n",
      "\u001b[1;32m~\\Anaconda3\\envs\\finance\\lib\\site-packages\\urllib3\\util\\connection.py\u001b[0m in \u001b[0;36mcreate_connection\u001b[1;34m(address, timeout, source_address, socket_options)\u001b[0m\n\u001b[0;32m     83\u001b[0m     \u001b[1;32mif\u001b[0m \u001b[0merr\u001b[0m \u001b[1;32mis\u001b[0m \u001b[1;32mnot\u001b[0m \u001b[1;32mNone\u001b[0m\u001b[1;33m:\u001b[0m\u001b[1;33m\u001b[0m\u001b[1;33m\u001b[0m\u001b[0m\n\u001b[1;32m---> 84\u001b[1;33m         \u001b[1;32mraise\u001b[0m \u001b[0merr\u001b[0m\u001b[1;33m\u001b[0m\u001b[1;33m\u001b[0m\u001b[0m\n\u001b[0m\u001b[0;32m     85\u001b[0m \u001b[1;33m\u001b[0m\u001b[0m\n",
      "\u001b[1;32m~\\Anaconda3\\envs\\finance\\lib\\site-packages\\urllib3\\util\\connection.py\u001b[0m in \u001b[0;36mcreate_connection\u001b[1;34m(address, timeout, source_address, socket_options)\u001b[0m\n\u001b[0;32m     73\u001b[0m                 \u001b[0msock\u001b[0m\u001b[1;33m.\u001b[0m\u001b[0mbind\u001b[0m\u001b[1;33m(\u001b[0m\u001b[0msource_address\u001b[0m\u001b[1;33m)\u001b[0m\u001b[1;33m\u001b[0m\u001b[1;33m\u001b[0m\u001b[0m\n\u001b[1;32m---> 74\u001b[1;33m             \u001b[0msock\u001b[0m\u001b[1;33m.\u001b[0m\u001b[0mconnect\u001b[0m\u001b[1;33m(\u001b[0m\u001b[0msa\u001b[0m\u001b[1;33m)\u001b[0m\u001b[1;33m\u001b[0m\u001b[1;33m\u001b[0m\u001b[0m\n\u001b[0m\u001b[0;32m     75\u001b[0m             \u001b[1;32mreturn\u001b[0m \u001b[0msock\u001b[0m\u001b[1;33m\u001b[0m\u001b[1;33m\u001b[0m\u001b[0m\n",
      "\u001b[1;31mTimeoutError\u001b[0m: [WinError 10060] A connection attempt failed because the connected party did not properly respond after a period of time, or established connection failed because connected host has failed to respond",
      "\nDuring handling of the above exception, another exception occurred:\n",
      "\u001b[1;31mNewConnectionError\u001b[0m                        Traceback (most recent call last)",
      "\u001b[1;32m~\\Anaconda3\\envs\\finance\\lib\\site-packages\\urllib3\\connectionpool.py\u001b[0m in \u001b[0;36murlopen\u001b[1;34m(self, method, url, body, headers, retries, redirect, assert_same_host, timeout, pool_timeout, release_conn, chunked, body_pos, **response_kw)\u001b[0m\n\u001b[0;32m    671\u001b[0m                 \u001b[0mheaders\u001b[0m\u001b[1;33m=\u001b[0m\u001b[0mheaders\u001b[0m\u001b[1;33m,\u001b[0m\u001b[1;33m\u001b[0m\u001b[1;33m\u001b[0m\u001b[0m\n\u001b[1;32m--> 672\u001b[1;33m                 \u001b[0mchunked\u001b[0m\u001b[1;33m=\u001b[0m\u001b[0mchunked\u001b[0m\u001b[1;33m,\u001b[0m\u001b[1;33m\u001b[0m\u001b[1;33m\u001b[0m\u001b[0m\n\u001b[0m\u001b[0;32m    673\u001b[0m             )\n",
      "\u001b[1;32m~\\Anaconda3\\envs\\finance\\lib\\site-packages\\urllib3\\connectionpool.py\u001b[0m in \u001b[0;36m_make_request\u001b[1;34m(self, conn, method, url, timeout, chunked, **httplib_request_kw)\u001b[0m\n\u001b[0;32m    386\u001b[0m         \u001b[1;32melse\u001b[0m\u001b[1;33m:\u001b[0m\u001b[1;33m\u001b[0m\u001b[1;33m\u001b[0m\u001b[0m\n\u001b[1;32m--> 387\u001b[1;33m             \u001b[0mconn\u001b[0m\u001b[1;33m.\u001b[0m\u001b[0mrequest\u001b[0m\u001b[1;33m(\u001b[0m\u001b[0mmethod\u001b[0m\u001b[1;33m,\u001b[0m \u001b[0murl\u001b[0m\u001b[1;33m,\u001b[0m \u001b[1;33m**\u001b[0m\u001b[0mhttplib_request_kw\u001b[0m\u001b[1;33m)\u001b[0m\u001b[1;33m\u001b[0m\u001b[1;33m\u001b[0m\u001b[0m\n\u001b[0m\u001b[0;32m    388\u001b[0m \u001b[1;33m\u001b[0m\u001b[0m\n",
      "\u001b[1;32m~\\Anaconda3\\envs\\finance\\lib\\http\\client.py\u001b[0m in \u001b[0;36mrequest\u001b[1;34m(self, method, url, body, headers, encode_chunked)\u001b[0m\n\u001b[0;32m   1251\u001b[0m         \u001b[1;34m\"\"\"Send a complete request to the server.\"\"\"\u001b[0m\u001b[1;33m\u001b[0m\u001b[1;33m\u001b[0m\u001b[0m\n\u001b[1;32m-> 1252\u001b[1;33m         \u001b[0mself\u001b[0m\u001b[1;33m.\u001b[0m\u001b[0m_send_request\u001b[0m\u001b[1;33m(\u001b[0m\u001b[0mmethod\u001b[0m\u001b[1;33m,\u001b[0m \u001b[0murl\u001b[0m\u001b[1;33m,\u001b[0m \u001b[0mbody\u001b[0m\u001b[1;33m,\u001b[0m \u001b[0mheaders\u001b[0m\u001b[1;33m,\u001b[0m \u001b[0mencode_chunked\u001b[0m\u001b[1;33m)\u001b[0m\u001b[1;33m\u001b[0m\u001b[1;33m\u001b[0m\u001b[0m\n\u001b[0m\u001b[0;32m   1253\u001b[0m \u001b[1;33m\u001b[0m\u001b[0m\n",
      "\u001b[1;32m~\\Anaconda3\\envs\\finance\\lib\\http\\client.py\u001b[0m in \u001b[0;36m_send_request\u001b[1;34m(self, method, url, body, headers, encode_chunked)\u001b[0m\n\u001b[0;32m   1297\u001b[0m             \u001b[0mbody\u001b[0m \u001b[1;33m=\u001b[0m \u001b[0m_encode\u001b[0m\u001b[1;33m(\u001b[0m\u001b[0mbody\u001b[0m\u001b[1;33m,\u001b[0m \u001b[1;34m'body'\u001b[0m\u001b[1;33m)\u001b[0m\u001b[1;33m\u001b[0m\u001b[1;33m\u001b[0m\u001b[0m\n\u001b[1;32m-> 1298\u001b[1;33m         \u001b[0mself\u001b[0m\u001b[1;33m.\u001b[0m\u001b[0mendheaders\u001b[0m\u001b[1;33m(\u001b[0m\u001b[0mbody\u001b[0m\u001b[1;33m,\u001b[0m \u001b[0mencode_chunked\u001b[0m\u001b[1;33m=\u001b[0m\u001b[0mencode_chunked\u001b[0m\u001b[1;33m)\u001b[0m\u001b[1;33m\u001b[0m\u001b[1;33m\u001b[0m\u001b[0m\n\u001b[0m\u001b[0;32m   1299\u001b[0m \u001b[1;33m\u001b[0m\u001b[0m\n",
      "\u001b[1;32m~\\Anaconda3\\envs\\finance\\lib\\http\\client.py\u001b[0m in \u001b[0;36mendheaders\u001b[1;34m(self, message_body, encode_chunked)\u001b[0m\n\u001b[0;32m   1246\u001b[0m             \u001b[1;32mraise\u001b[0m \u001b[0mCannotSendHeader\u001b[0m\u001b[1;33m(\u001b[0m\u001b[1;33m)\u001b[0m\u001b[1;33m\u001b[0m\u001b[1;33m\u001b[0m\u001b[0m\n\u001b[1;32m-> 1247\u001b[1;33m         \u001b[0mself\u001b[0m\u001b[1;33m.\u001b[0m\u001b[0m_send_output\u001b[0m\u001b[1;33m(\u001b[0m\u001b[0mmessage_body\u001b[0m\u001b[1;33m,\u001b[0m \u001b[0mencode_chunked\u001b[0m\u001b[1;33m=\u001b[0m\u001b[0mencode_chunked\u001b[0m\u001b[1;33m)\u001b[0m\u001b[1;33m\u001b[0m\u001b[1;33m\u001b[0m\u001b[0m\n\u001b[0m\u001b[0;32m   1248\u001b[0m \u001b[1;33m\u001b[0m\u001b[0m\n",
      "\u001b[1;32m~\\Anaconda3\\envs\\finance\\lib\\http\\client.py\u001b[0m in \u001b[0;36m_send_output\u001b[1;34m(self, message_body, encode_chunked)\u001b[0m\n\u001b[0;32m   1025\u001b[0m         \u001b[1;32mdel\u001b[0m \u001b[0mself\u001b[0m\u001b[1;33m.\u001b[0m\u001b[0m_buffer\u001b[0m\u001b[1;33m[\u001b[0m\u001b[1;33m:\u001b[0m\u001b[1;33m]\u001b[0m\u001b[1;33m\u001b[0m\u001b[1;33m\u001b[0m\u001b[0m\n\u001b[1;32m-> 1026\u001b[1;33m         \u001b[0mself\u001b[0m\u001b[1;33m.\u001b[0m\u001b[0msend\u001b[0m\u001b[1;33m(\u001b[0m\u001b[0mmsg\u001b[0m\u001b[1;33m)\u001b[0m\u001b[1;33m\u001b[0m\u001b[1;33m\u001b[0m\u001b[0m\n\u001b[0m\u001b[0;32m   1027\u001b[0m \u001b[1;33m\u001b[0m\u001b[0m\n",
      "\u001b[1;32m~\\Anaconda3\\envs\\finance\\lib\\http\\client.py\u001b[0m in \u001b[0;36msend\u001b[1;34m(self, data)\u001b[0m\n\u001b[0;32m    965\u001b[0m             \u001b[1;32mif\u001b[0m \u001b[0mself\u001b[0m\u001b[1;33m.\u001b[0m\u001b[0mauto_open\u001b[0m\u001b[1;33m:\u001b[0m\u001b[1;33m\u001b[0m\u001b[1;33m\u001b[0m\u001b[0m\n\u001b[1;32m--> 966\u001b[1;33m                 \u001b[0mself\u001b[0m\u001b[1;33m.\u001b[0m\u001b[0mconnect\u001b[0m\u001b[1;33m(\u001b[0m\u001b[1;33m)\u001b[0m\u001b[1;33m\u001b[0m\u001b[1;33m\u001b[0m\u001b[0m\n\u001b[0m\u001b[0;32m    967\u001b[0m             \u001b[1;32melse\u001b[0m\u001b[1;33m:\u001b[0m\u001b[1;33m\u001b[0m\u001b[1;33m\u001b[0m\u001b[0m\n",
      "\u001b[1;32m~\\Anaconda3\\envs\\finance\\lib\\site-packages\\urllib3\\connection.py\u001b[0m in \u001b[0;36mconnect\u001b[1;34m(self)\u001b[0m\n\u001b[0;32m    183\u001b[0m     \u001b[1;32mdef\u001b[0m \u001b[0mconnect\u001b[0m\u001b[1;33m(\u001b[0m\u001b[0mself\u001b[0m\u001b[1;33m)\u001b[0m\u001b[1;33m:\u001b[0m\u001b[1;33m\u001b[0m\u001b[1;33m\u001b[0m\u001b[0m\n\u001b[1;32m--> 184\u001b[1;33m         \u001b[0mconn\u001b[0m \u001b[1;33m=\u001b[0m \u001b[0mself\u001b[0m\u001b[1;33m.\u001b[0m\u001b[0m_new_conn\u001b[0m\u001b[1;33m(\u001b[0m\u001b[1;33m)\u001b[0m\u001b[1;33m\u001b[0m\u001b[1;33m\u001b[0m\u001b[0m\n\u001b[0m\u001b[0;32m    185\u001b[0m         \u001b[0mself\u001b[0m\u001b[1;33m.\u001b[0m\u001b[0m_prepare_conn\u001b[0m\u001b[1;33m(\u001b[0m\u001b[0mconn\u001b[0m\u001b[1;33m)\u001b[0m\u001b[1;33m\u001b[0m\u001b[1;33m\u001b[0m\u001b[0m\n",
      "\u001b[1;32m~\\Anaconda3\\envs\\finance\\lib\\site-packages\\urllib3\\connection.py\u001b[0m in \u001b[0;36m_new_conn\u001b[1;34m(self)\u001b[0m\n\u001b[0;32m    168\u001b[0m             raise NewConnectionError(\n\u001b[1;32m--> 169\u001b[1;33m                 \u001b[0mself\u001b[0m\u001b[1;33m,\u001b[0m \u001b[1;34m\"Failed to establish a new connection: %s\"\u001b[0m \u001b[1;33m%\u001b[0m \u001b[0me\u001b[0m\u001b[1;33m\u001b[0m\u001b[1;33m\u001b[0m\u001b[0m\n\u001b[0m\u001b[0;32m    170\u001b[0m             )\n",
      "\u001b[1;31mNewConnectionError\u001b[0m: <urllib3.connection.HTTPConnection object at 0x0000021D19A414C8>: Failed to establish a new connection: [WinError 10060] A connection attempt failed because the connected party did not properly respond after a period of time, or established connection failed because connected host has failed to respond",
      "\nDuring handling of the above exception, another exception occurred:\n",
      "\u001b[1;31mMaxRetryError\u001b[0m                             Traceback (most recent call last)",
      "\u001b[1;32m~\\Anaconda3\\envs\\finance\\lib\\site-packages\\requests\\adapters.py\u001b[0m in \u001b[0;36msend\u001b[1;34m(self, request, stream, timeout, verify, cert, proxies)\u001b[0m\n\u001b[0;32m    448\u001b[0m                     \u001b[0mretries\u001b[0m\u001b[1;33m=\u001b[0m\u001b[0mself\u001b[0m\u001b[1;33m.\u001b[0m\u001b[0mmax_retries\u001b[0m\u001b[1;33m,\u001b[0m\u001b[1;33m\u001b[0m\u001b[1;33m\u001b[0m\u001b[0m\n\u001b[1;32m--> 449\u001b[1;33m                     \u001b[0mtimeout\u001b[0m\u001b[1;33m=\u001b[0m\u001b[0mtimeout\u001b[0m\u001b[1;33m\u001b[0m\u001b[1;33m\u001b[0m\u001b[0m\n\u001b[0m\u001b[0;32m    450\u001b[0m                 )\n",
      "\u001b[1;32m~\\Anaconda3\\envs\\finance\\lib\\site-packages\\urllib3\\connectionpool.py\u001b[0m in \u001b[0;36murlopen\u001b[1;34m(self, method, url, body, headers, retries, redirect, assert_same_host, timeout, pool_timeout, release_conn, chunked, body_pos, **response_kw)\u001b[0m\n\u001b[0;32m    719\u001b[0m             retries = retries.increment(\n\u001b[1;32m--> 720\u001b[1;33m                 \u001b[0mmethod\u001b[0m\u001b[1;33m,\u001b[0m \u001b[0murl\u001b[0m\u001b[1;33m,\u001b[0m \u001b[0merror\u001b[0m\u001b[1;33m=\u001b[0m\u001b[0me\u001b[0m\u001b[1;33m,\u001b[0m \u001b[0m_pool\u001b[0m\u001b[1;33m=\u001b[0m\u001b[0mself\u001b[0m\u001b[1;33m,\u001b[0m \u001b[0m_stacktrace\u001b[0m\u001b[1;33m=\u001b[0m\u001b[0msys\u001b[0m\u001b[1;33m.\u001b[0m\u001b[0mexc_info\u001b[0m\u001b[1;33m(\u001b[0m\u001b[1;33m)\u001b[0m\u001b[1;33m[\u001b[0m\u001b[1;36m2\u001b[0m\u001b[1;33m]\u001b[0m\u001b[1;33m\u001b[0m\u001b[1;33m\u001b[0m\u001b[0m\n\u001b[0m\u001b[0;32m    721\u001b[0m             )\n",
      "\u001b[1;32m~\\Anaconda3\\envs\\finance\\lib\\site-packages\\urllib3\\util\\retry.py\u001b[0m in \u001b[0;36mincrement\u001b[1;34m(self, method, url, response, error, _pool, _stacktrace)\u001b[0m\n\u001b[0;32m    435\u001b[0m         \u001b[1;32mif\u001b[0m \u001b[0mnew_retry\u001b[0m\u001b[1;33m.\u001b[0m\u001b[0mis_exhausted\u001b[0m\u001b[1;33m(\u001b[0m\u001b[1;33m)\u001b[0m\u001b[1;33m:\u001b[0m\u001b[1;33m\u001b[0m\u001b[1;33m\u001b[0m\u001b[0m\n\u001b[1;32m--> 436\u001b[1;33m             \u001b[1;32mraise\u001b[0m \u001b[0mMaxRetryError\u001b[0m\u001b[1;33m(\u001b[0m\u001b[0m_pool\u001b[0m\u001b[1;33m,\u001b[0m \u001b[0murl\u001b[0m\u001b[1;33m,\u001b[0m \u001b[0merror\u001b[0m \u001b[1;32mor\u001b[0m \u001b[0mResponseError\u001b[0m\u001b[1;33m(\u001b[0m\u001b[0mcause\u001b[0m\u001b[1;33m)\u001b[0m\u001b[1;33m)\u001b[0m\u001b[1;33m\u001b[0m\u001b[1;33m\u001b[0m\u001b[0m\n\u001b[0m\u001b[0;32m    437\u001b[0m \u001b[1;33m\u001b[0m\u001b[0m\n",
      "\u001b[1;31mMaxRetryError\u001b[0m: HTTPConnectionPool(host='stg.spindices.com', port=80): Max retries exceeded with url: /documents/indexnews/announcements/20150706-204357/204357_dollarjackcontact546.pdf (Caused by NewConnectionError('<urllib3.connection.HTTPConnection object at 0x0000021D19A414C8>: Failed to establish a new connection: [WinError 10060] A connection attempt failed because the connected party did not properly respond after a period of time, or established connection failed because connected host has failed to respond'))",
      "\nDuring handling of the above exception, another exception occurred:\n",
      "\u001b[1;31mConnectionError\u001b[0m                           Traceback (most recent call last)",
      "\u001b[1;32m<ipython-input-74-a952165c03a5>\u001b[0m in \u001b[0;36m<module>\u001b[1;34m\u001b[0m\n\u001b[0;32m      1\u001b[0m \u001b[1;32mfor\u001b[0m \u001b[0mresult\u001b[0m \u001b[1;32min\u001b[0m \u001b[0mresults\u001b[0m\u001b[1;33m:\u001b[0m\u001b[1;33m\u001b[0m\u001b[1;33m\u001b[0m\u001b[0m\n\u001b[1;32m----> 2\u001b[1;33m     \u001b[0mdownload_file\u001b[0m\u001b[1;33m(\u001b[0m\u001b[0mresult\u001b[0m\u001b[1;33m)\u001b[0m\u001b[1;33m\u001b[0m\u001b[1;33m\u001b[0m\u001b[0m\n\u001b[0m\u001b[0;32m      3\u001b[0m     \u001b[0mprint\u001b[0m\u001b[1;33m(\u001b[0m\u001b[0mresult\u001b[0m\u001b[1;33m)\u001b[0m\u001b[1;33m\u001b[0m\u001b[1;33m\u001b[0m\u001b[0m\n",
      "\u001b[1;32m<ipython-input-72-91a2cb0d225b>\u001b[0m in \u001b[0;36mdownload_file\u001b[1;34m(url)\u001b[0m\n\u001b[0;32m      1\u001b[0m \u001b[1;32mdef\u001b[0m \u001b[0mdownload_file\u001b[0m\u001b[1;33m(\u001b[0m\u001b[0murl\u001b[0m\u001b[1;33m)\u001b[0m\u001b[1;33m:\u001b[0m\u001b[1;33m\u001b[0m\u001b[1;33m\u001b[0m\u001b[0m\n\u001b[1;32m----> 2\u001b[1;33m     \u001b[0mfile\u001b[0m \u001b[1;33m=\u001b[0m \u001b[0mrequests\u001b[0m\u001b[1;33m.\u001b[0m\u001b[0mget\u001b[0m\u001b[1;33m(\u001b[0m\u001b[0murl\u001b[0m\u001b[1;33m,\u001b[0m \u001b[0mstream\u001b[0m\u001b[1;33m=\u001b[0m\u001b[1;32mTrue\u001b[0m\u001b[1;33m)\u001b[0m\u001b[1;33m\u001b[0m\u001b[1;33m\u001b[0m\u001b[0m\n\u001b[0m\u001b[0;32m      3\u001b[0m     \u001b[0mheaders\u001b[0m \u001b[1;33m=\u001b[0m \u001b[0mfile\u001b[0m\u001b[1;33m.\u001b[0m\u001b[0mheaders\u001b[0m\u001b[1;33m[\u001b[0m\u001b[1;34m'content-disposition'\u001b[0m\u001b[1;33m]\u001b[0m\u001b[1;33m\u001b[0m\u001b[1;33m\u001b[0m\u001b[0m\n\u001b[0;32m      4\u001b[0m     \u001b[0mfilename\u001b[0m \u001b[1;33m=\u001b[0m \u001b[0mre\u001b[0m\u001b[1;33m.\u001b[0m\u001b[0mfindall\u001b[0m\u001b[1;33m(\u001b[0m\u001b[1;34m\"filename=\\\"(.+)\\\"\"\u001b[0m\u001b[1;33m,\u001b[0m \u001b[0mheaders\u001b[0m\u001b[1;33m)\u001b[0m\u001b[1;33m[\u001b[0m\u001b[1;36m0\u001b[0m\u001b[1;33m]\u001b[0m\u001b[1;33m\u001b[0m\u001b[1;33m\u001b[0m\u001b[0m\n\u001b[0;32m      5\u001b[0m     \u001b[0mlocation\u001b[0m \u001b[1;33m=\u001b[0m \u001b[0mos\u001b[0m\u001b[1;33m.\u001b[0m\u001b[0mpath\u001b[0m\u001b[1;33m.\u001b[0m\u001b[0mrelpath\u001b[0m\u001b[1;33m(\u001b[0m\u001b[0mdirPath\u001b[0m \u001b[1;33m+\u001b[0m \u001b[0mfilename\u001b[0m\u001b[1;33m)\u001b[0m\u001b[1;33m\u001b[0m\u001b[1;33m\u001b[0m\u001b[0m\n",
      "\u001b[1;32m~\\Anaconda3\\envs\\finance\\lib\\site-packages\\requests\\api.py\u001b[0m in \u001b[0;36mget\u001b[1;34m(url, params, **kwargs)\u001b[0m\n\u001b[0;32m     73\u001b[0m \u001b[1;33m\u001b[0m\u001b[0m\n\u001b[0;32m     74\u001b[0m     \u001b[0mkwargs\u001b[0m\u001b[1;33m.\u001b[0m\u001b[0msetdefault\u001b[0m\u001b[1;33m(\u001b[0m\u001b[1;34m'allow_redirects'\u001b[0m\u001b[1;33m,\u001b[0m \u001b[1;32mTrue\u001b[0m\u001b[1;33m)\u001b[0m\u001b[1;33m\u001b[0m\u001b[1;33m\u001b[0m\u001b[0m\n\u001b[1;32m---> 75\u001b[1;33m     \u001b[1;32mreturn\u001b[0m \u001b[0mrequest\u001b[0m\u001b[1;33m(\u001b[0m\u001b[1;34m'get'\u001b[0m\u001b[1;33m,\u001b[0m \u001b[0murl\u001b[0m\u001b[1;33m,\u001b[0m \u001b[0mparams\u001b[0m\u001b[1;33m=\u001b[0m\u001b[0mparams\u001b[0m\u001b[1;33m,\u001b[0m \u001b[1;33m**\u001b[0m\u001b[0mkwargs\u001b[0m\u001b[1;33m)\u001b[0m\u001b[1;33m\u001b[0m\u001b[1;33m\u001b[0m\u001b[0m\n\u001b[0m\u001b[0;32m     76\u001b[0m \u001b[1;33m\u001b[0m\u001b[0m\n\u001b[0;32m     77\u001b[0m \u001b[1;33m\u001b[0m\u001b[0m\n",
      "\u001b[1;32m~\\Anaconda3\\envs\\finance\\lib\\site-packages\\requests\\api.py\u001b[0m in \u001b[0;36mrequest\u001b[1;34m(method, url, **kwargs)\u001b[0m\n\u001b[0;32m     58\u001b[0m     \u001b[1;31m# cases, and look like a memory leak in others.\u001b[0m\u001b[1;33m\u001b[0m\u001b[1;33m\u001b[0m\u001b[1;33m\u001b[0m\u001b[0m\n\u001b[0;32m     59\u001b[0m     \u001b[1;32mwith\u001b[0m \u001b[0msessions\u001b[0m\u001b[1;33m.\u001b[0m\u001b[0mSession\u001b[0m\u001b[1;33m(\u001b[0m\u001b[1;33m)\u001b[0m \u001b[1;32mas\u001b[0m \u001b[0msession\u001b[0m\u001b[1;33m:\u001b[0m\u001b[1;33m\u001b[0m\u001b[1;33m\u001b[0m\u001b[0m\n\u001b[1;32m---> 60\u001b[1;33m         \u001b[1;32mreturn\u001b[0m \u001b[0msession\u001b[0m\u001b[1;33m.\u001b[0m\u001b[0mrequest\u001b[0m\u001b[1;33m(\u001b[0m\u001b[0mmethod\u001b[0m\u001b[1;33m=\u001b[0m\u001b[0mmethod\u001b[0m\u001b[1;33m,\u001b[0m \u001b[0murl\u001b[0m\u001b[1;33m=\u001b[0m\u001b[0murl\u001b[0m\u001b[1;33m,\u001b[0m \u001b[1;33m**\u001b[0m\u001b[0mkwargs\u001b[0m\u001b[1;33m)\u001b[0m\u001b[1;33m\u001b[0m\u001b[1;33m\u001b[0m\u001b[0m\n\u001b[0m\u001b[0;32m     61\u001b[0m \u001b[1;33m\u001b[0m\u001b[0m\n\u001b[0;32m     62\u001b[0m \u001b[1;33m\u001b[0m\u001b[0m\n",
      "\u001b[1;32m~\\Anaconda3\\envs\\finance\\lib\\site-packages\\requests\\sessions.py\u001b[0m in \u001b[0;36mrequest\u001b[1;34m(self, method, url, params, data, headers, cookies, files, auth, timeout, allow_redirects, proxies, hooks, stream, verify, cert, json)\u001b[0m\n\u001b[0;32m    531\u001b[0m         }\n\u001b[0;32m    532\u001b[0m         \u001b[0msend_kwargs\u001b[0m\u001b[1;33m.\u001b[0m\u001b[0mupdate\u001b[0m\u001b[1;33m(\u001b[0m\u001b[0msettings\u001b[0m\u001b[1;33m)\u001b[0m\u001b[1;33m\u001b[0m\u001b[1;33m\u001b[0m\u001b[0m\n\u001b[1;32m--> 533\u001b[1;33m         \u001b[0mresp\u001b[0m \u001b[1;33m=\u001b[0m \u001b[0mself\u001b[0m\u001b[1;33m.\u001b[0m\u001b[0msend\u001b[0m\u001b[1;33m(\u001b[0m\u001b[0mprep\u001b[0m\u001b[1;33m,\u001b[0m \u001b[1;33m**\u001b[0m\u001b[0msend_kwargs\u001b[0m\u001b[1;33m)\u001b[0m\u001b[1;33m\u001b[0m\u001b[1;33m\u001b[0m\u001b[0m\n\u001b[0m\u001b[0;32m    534\u001b[0m \u001b[1;33m\u001b[0m\u001b[0m\n\u001b[0;32m    535\u001b[0m         \u001b[1;32mreturn\u001b[0m \u001b[0mresp\u001b[0m\u001b[1;33m\u001b[0m\u001b[1;33m\u001b[0m\u001b[0m\n",
      "\u001b[1;32m~\\Anaconda3\\envs\\finance\\lib\\site-packages\\requests\\sessions.py\u001b[0m in \u001b[0;36msend\u001b[1;34m(self, request, **kwargs)\u001b[0m\n\u001b[0;32m    644\u001b[0m \u001b[1;33m\u001b[0m\u001b[0m\n\u001b[0;32m    645\u001b[0m         \u001b[1;31m# Send the request\u001b[0m\u001b[1;33m\u001b[0m\u001b[1;33m\u001b[0m\u001b[1;33m\u001b[0m\u001b[0m\n\u001b[1;32m--> 646\u001b[1;33m         \u001b[0mr\u001b[0m \u001b[1;33m=\u001b[0m \u001b[0madapter\u001b[0m\u001b[1;33m.\u001b[0m\u001b[0msend\u001b[0m\u001b[1;33m(\u001b[0m\u001b[0mrequest\u001b[0m\u001b[1;33m,\u001b[0m \u001b[1;33m**\u001b[0m\u001b[0mkwargs\u001b[0m\u001b[1;33m)\u001b[0m\u001b[1;33m\u001b[0m\u001b[1;33m\u001b[0m\u001b[0m\n\u001b[0m\u001b[0;32m    647\u001b[0m \u001b[1;33m\u001b[0m\u001b[0m\n\u001b[0;32m    648\u001b[0m         \u001b[1;31m# Total elapsed time of the request (approximately)\u001b[0m\u001b[1;33m\u001b[0m\u001b[1;33m\u001b[0m\u001b[1;33m\u001b[0m\u001b[0m\n",
      "\u001b[1;32m~\\Anaconda3\\envs\\finance\\lib\\site-packages\\requests\\adapters.py\u001b[0m in \u001b[0;36msend\u001b[1;34m(self, request, stream, timeout, verify, cert, proxies)\u001b[0m\n\u001b[0;32m    514\u001b[0m                 \u001b[1;32mraise\u001b[0m \u001b[0mSSLError\u001b[0m\u001b[1;33m(\u001b[0m\u001b[0me\u001b[0m\u001b[1;33m,\u001b[0m \u001b[0mrequest\u001b[0m\u001b[1;33m=\u001b[0m\u001b[0mrequest\u001b[0m\u001b[1;33m)\u001b[0m\u001b[1;33m\u001b[0m\u001b[1;33m\u001b[0m\u001b[0m\n\u001b[0;32m    515\u001b[0m \u001b[1;33m\u001b[0m\u001b[0m\n\u001b[1;32m--> 516\u001b[1;33m             \u001b[1;32mraise\u001b[0m \u001b[0mConnectionError\u001b[0m\u001b[1;33m(\u001b[0m\u001b[0me\u001b[0m\u001b[1;33m,\u001b[0m \u001b[0mrequest\u001b[0m\u001b[1;33m=\u001b[0m\u001b[0mrequest\u001b[0m\u001b[1;33m)\u001b[0m\u001b[1;33m\u001b[0m\u001b[1;33m\u001b[0m\u001b[0m\n\u001b[0m\u001b[0;32m    517\u001b[0m \u001b[1;33m\u001b[0m\u001b[0m\n\u001b[0;32m    518\u001b[0m         \u001b[1;32mexcept\u001b[0m \u001b[0mClosedPoolError\u001b[0m \u001b[1;32mas\u001b[0m \u001b[0me\u001b[0m\u001b[1;33m:\u001b[0m\u001b[1;33m\u001b[0m\u001b[1;33m\u001b[0m\u001b[0m\n",
      "\u001b[1;31mConnectionError\u001b[0m: HTTPConnectionPool(host='stg.spindices.com', port=80): Max retries exceeded with url: /documents/indexnews/announcements/20150706-204357/204357_dollarjackcontact546.pdf (Caused by NewConnectionError('<urllib3.connection.HTTPConnection object at 0x0000021D19A414C8>: Failed to establish a new connection: [WinError 10060] A connection attempt failed because the connected party did not properly respond after a period of time, or established connection failed because connected host has failed to respond'))"
     ]
    }
   ],
   "source": [
    "for result in results:\n",
    "    download_file(result)\n",
    "    print(result)"
   ]
  },
  {
   "cell_type": "code",
   "execution_count": 365,
   "metadata": {},
   "outputs": [],
   "source": [
    "columns = ['type', 'name', 'ticker', 'announcement_date', 'implementation_date']\n",
    "df = pd.DataFrame(columns=columns)"
   ]
  },
  {
   "cell_type": "code",
   "execution_count": 298,
   "metadata": {},
   "outputs": [],
   "source": [
    "def find_datetime_from_text(string):\n",
    "    search_results = re.search('[A-z]+ \\d\\d?(\\W+)\\d{4}', string)\n",
    "    if search_results is None:\n",
    "        print('No date found in ' + string)\n",
    "        return None\n",
    "    matched_string = search_results.group(0)\n",
    "    splitted_date_string = re.split(\"\\W+\", matched_string)\n",
    "    date_string = ' '.join(splitted_date_string)\n",
    "    return datetime.strptime(date_string, '%B %d %Y')"
   ]
  },
  {
   "cell_type": "code",
   "execution_count": 178,
   "metadata": {},
   "outputs": [],
   "source": [
    "def get_ticker_by_name(stock_name):\n",
    "    '''\n",
    "    Takes in a stock_name in string,\n",
    "    Returns the ticker in string\n",
    "    '''\n",
    "    encoded_stock_name = urllib.parse.quote(stock_name)\n",
    "    url = \"https://s.yimg.com/aq/autoc?query=\" + encoded_stock_name + \"&lang=en-US\"\n",
    "    response = requests.get(url)\n",
    "    json_response = response.json()\n",
    "    results = json_response['ResultSet']['Result']\n",
    "    if len(results) == 0:\n",
    "        print('No ticker found.')\n",
    "        ticker = None\n",
    "    else:\n",
    "        ticker = results[0]['symbol']\n",
    "    response.close()\n",
    "    return ticker"
   ]
  },
  {
   "cell_type": "code",
   "execution_count": 361,
   "metadata": {},
   "outputs": [],
   "source": [
    "def get_ticker(stock_name, pages):\n",
    "    text = ''\n",
    "    for page in pages:\n",
    "        text += page.extract_text()\n",
    "    text = text.replace('\\n', '')\n",
    "#         text = \"Arista Networks Inc. (NYSE: ANET) will replace GGP Inc. (NYSE: GGP) in the S&P 500 effective prior to the open of trading on Tuesday, August 28. Brookfield Property Partners LP (NASD: BPY) is acquiring GGP in a deal expected to be completed soon pending final conditions.\"\n",
    "    pattern = stock_name + \".+?\\([A-Z]+:\\W+([A-Z]+)\\)\"\n",
    "    matches = re.search(pattern, text)\n",
    "    if matches is None:\n",
    "        print('Error: Stock name '+ stock_name + ' not found in PDF!')\n",
    "        return None\n",
    "    return matches.group(1)"
   ]
  },
  {
   "cell_type": "code",
   "execution_count": 363,
   "metadata": {},
   "outputs": [],
   "source": [
    "stock_name = 'NVR'\n",
    "ticker = get_ticker(stock_name, pdf.pages)"
   ]
  },
  {
   "cell_type": "code",
   "execution_count": 364,
   "metadata": {},
   "outputs": [
    {
     "data": {
      "text/plain": [
       "'NVR'"
      ]
     },
     "execution_count": 364,
     "metadata": {},
     "output_type": "execute_result"
    }
   ],
   "source": [
    "ticker"
   ]
  },
  {
   "cell_type": "code",
   "execution_count": 307,
   "metadata": {},
   "outputs": [],
   "source": [
    "stock_name = \"GGP\"\n",
    "encoded_stock_name = urllib.parse.quote(stock_name)\n",
    "url = \"https://s.yimg.com/aq/autoc?query=\" + encoded_stock_name + \"&lang=en-US\"\n",
    "response = requests.get(url)\n",
    "json_response = response.json()\n",
    "results = json_response['ResultSet']['Result']\n",
    "if len(results) == 0:\n",
    "    print('No ticker found.')\n",
    "    ticker = None\n",
    "else:\n",
    "    ticker = results[0]['symbol']\n",
    "response.close()"
   ]
  },
  {
   "cell_type": "code",
   "execution_count": 308,
   "metadata": {},
   "outputs": [
    {
     "data": {
      "text/plain": [
       "{'ResultSet': {'Query': 'GGP',\n",
       "  'Result': [{'symbol': 'GGPCX',\n",
       "    'name': 'American Funds Global Growth Portfolio Class C',\n",
       "    'exch': 'NAS',\n",
       "    'type': 'M',\n",
       "    'exchDisp': 'NASDAQ',\n",
       "    'typeDisp': 'Fund'},\n",
       "   {'symbol': 'GGPXF',\n",
       "    'name': 'G-Resources Group Limited',\n",
       "    'exch': 'PNK',\n",
       "    'type': 'S',\n",
       "    'exchDisp': 'OTC Markets',\n",
       "    'typeDisp': 'Equity'},\n",
       "   {'symbol': 'GGPPX',\n",
       "    'name': 'Goldman Sachs Growth Strategy Portfolio Class P',\n",
       "    'exch': 'NAS',\n",
       "    'type': 'M',\n",
       "    'exchDisp': 'NASDAQ',\n",
       "    'typeDisp': 'Fund'},\n",
       "   {'symbol': 'GGP.L',\n",
       "    'name': 'Greatland Gold plc',\n",
       "    'exch': 'YHD',\n",
       "    'type': 'S',\n",
       "    'exchDisp': 'Industry',\n",
       "    'typeDisp': 'Equity'},\n",
       "   {'symbol': 'GGPL.BO',\n",
       "    'name': 'Gala Global Products Limited',\n",
       "    'exch': 'BSE',\n",
       "    'type': 'S',\n",
       "    'exchDisp': 'Bombay',\n",
       "    'typeDisp': 'Equity'},\n",
       "   {'symbol': 'GGP.MI',\n",
       "    'name': 'Gruppo Green Power S.p.A.',\n",
       "    'exch': 'YHD',\n",
       "    'type': 'S',\n",
       "    'exchDisp': 'Industry',\n",
       "    'typeDisp': 'Equity'}]}}"
      ]
     },
     "execution_count": 308,
     "metadata": {},
     "output_type": "execute_result"
    }
   ],
   "source": [
    "json_response"
   ]
  },
  {
   "cell_type": "code",
   "execution_count": 306,
   "metadata": {},
   "outputs": [
    {
     "data": {
      "text/plain": [
       "{'ResultSet': {'Query': 'RHT',\n",
       "  'Result': [{'symbol': 'RHT.V',\n",
       "    'name': 'Reliq Health Technologies Inc.',\n",
       "    'exch': 'VAN',\n",
       "    'type': 'S',\n",
       "    'exchDisp': 'CDNX',\n",
       "    'typeDisp': 'Equity'},\n",
       "   {'symbol': 'RHT.AX',\n",
       "    'name': 'Resonance Health Limited',\n",
       "    'exch': 'ASX',\n",
       "    'type': 'S',\n",
       "    'exchDisp': 'Australian',\n",
       "    'typeDisp': 'Equity'},\n",
       "   {'symbol': 'RHTLN0000.CM',\n",
       "    'name': 'FORTRESS RESORTS',\n",
       "    'exch': 'CSE',\n",
       "    'type': 'S',\n",
       "    'exchDisp': 'Colombo Stock Exchange',\n",
       "    'typeDisp': 'Equity'}]}}"
      ]
     },
     "execution_count": 306,
     "metadata": {},
     "output_type": "execute_result"
    }
   ],
   "source": [
    "json_response"
   ]
  },
  {
   "cell_type": "code",
   "execution_count": 304,
   "metadata": {},
   "outputs": [
    {
     "data": {
      "text/plain": [
       "{'ResultSet': {'Query': 'Carrier Global',\n",
       "  'Result': [{'symbol': 'CARR-WI',\n",
       "    'name': 'Carrier Global Corporation',\n",
       "    'exch': 'NYQ',\n",
       "    'type': 'S',\n",
       "    'exchDisp': 'NYSE',\n",
       "    'typeDisp': 'Equity'},\n",
       "   {'symbol': 'CARR',\n",
       "    'name': 'Carrier Global Corporation',\n",
       "    'exch': 'NYQ',\n",
       "    'type': 'S',\n",
       "    'exchDisp': 'NYSE',\n",
       "    'typeDisp': 'Equity'},\n",
       "   {'symbol': '4PN.F',\n",
       "    'name': 'Carrier Global Corporation',\n",
       "    'exch': 'FRA',\n",
       "    'type': 'S',\n",
       "    'exchDisp': 'Frankfurt',\n",
       "    'typeDisp': 'Equity'},\n",
       "   {'symbol': 'CARR.MX',\n",
       "    'name': 'Carrier Global Corporation',\n",
       "    'exch': 'MEX',\n",
       "    'type': 'S',\n",
       "    'exchDisp': 'Mexico',\n",
       "    'typeDisp': 'Equity'}]}}"
      ]
     },
     "execution_count": 304,
     "metadata": {},
     "output_type": "execute_result"
    }
   ],
   "source": [
    "json_response"
   ]
  },
  {
   "cell_type": "code",
   "execution_count": 358,
   "metadata": {},
   "outputs": [
    {
     "name": "stdout",
     "output_type": "stream",
     "text": [
      "[['S&P 500 INDEX – September 26, 2019', None, None, None], ['', 'COMPANY', 'GICS ECONOMIC SECTOR', 'GICS SUB-INDUSTRY'], ['ADDED', 'NVR', 'Consumer Discretionary', 'Homebuilding'], ['DELETED', 'Jefferies \\nFinancial Group', 'Financials', 'Multi-Sector Holdings']]\n"
     ]
    }
   ],
   "source": [
    "\n",
    "for filename in os.listdir(dirPath):\n",
    "    pdf = pdfplumber.open(dirPath + filename)\n",
    "    announcement_date = find_datetime_from_text(pdf.pages[0].extract_text())\n",
    "    for page in pdf.pages:\n",
    "        tables = page.extract_tables()\n",
    "        for table in tables:\n",
    "            if any(\"S&P 500 INDEX\" in str(item) for item in table[0]):\n",
    "                print(table)\n",
    "                implementation_date = find_datetime_from_text(table[0][0])\n",
    "                last_change_type = \"\"\n",
    "                for i in range(2, len(table)):\n",
    "                    \n",
    "                    change_type = table[i][0]\n",
    "                    if change_type == \"\" or change_type == None:\n",
    "                        change_type = last_change_type\n",
    "                    else:\n",
    "                        last_change_type = change_type\n",
    "                    \n",
    "                    name = table[i][1].replace('\\n', '')\n",
    "                    ticker = get_ticker(name, pdf.pages)\n",
    "                    row = [{'type': change_type, 'name': name, 'ticker': ticker, \n",
    "                            'implementation_date': implementation_date, 'announcement_date': announcement_date}]\n",
    "                    df = df.append(pd.DataFrame(row), ignore_index=True)\n"
   ]
  },
  {
   "cell_type": "code",
   "execution_count": 360,
   "metadata": {},
   "outputs": [
    {
     "data": {
      "text/plain": [
       "[<pdfplumber.page.Page at 0x227a72fe4c8>,\n",
       " <pdfplumber.page.Page at 0x227a72fe548>,\n",
       " <pdfplumber.page.Page at 0x227a72fe248>]"
      ]
     },
     "execution_count": 360,
     "metadata": {},
     "output_type": "execute_result"
    }
   ],
   "source": []
  },
  {
   "cell_type": "code",
   "execution_count": 301,
   "metadata": {},
   "outputs": [
    {
     "data": {
      "text/html": [
       "<div>\n",
       "<style scoped>\n",
       "    .dataframe tbody tr th:only-of-type {\n",
       "        vertical-align: middle;\n",
       "    }\n",
       "\n",
       "    .dataframe tbody tr th {\n",
       "        vertical-align: top;\n",
       "    }\n",
       "\n",
       "    .dataframe thead th {\n",
       "        text-align: right;\n",
       "    }\n",
       "</style>\n",
       "<table border=\"1\" class=\"dataframe\">\n",
       "  <thead>\n",
       "    <tr style=\"text-align: right;\">\n",
       "      <th></th>\n",
       "      <th>type</th>\n",
       "      <th>name</th>\n",
       "      <th>ticker</th>\n",
       "      <th>announcement_date</th>\n",
       "      <th>implementation_date</th>\n",
       "    </tr>\n",
       "  </thead>\n",
       "  <tbody>\n",
       "    <tr>\n",
       "      <th>0</th>\n",
       "      <td>ADDED</td>\n",
       "      <td>NVR</td>\n",
       "      <td>NVR</td>\n",
       "      <td>2019-09-20</td>\n",
       "      <td>2019-09-26</td>\n",
       "    </tr>\n",
       "    <tr>\n",
       "      <th>1</th>\n",
       "      <td>DELETED</td>\n",
       "      <td>Jefferies Financial Group</td>\n",
       "      <td>JEF</td>\n",
       "      <td>2019-09-20</td>\n",
       "      <td>2019-09-26</td>\n",
       "    </tr>\n",
       "    <tr>\n",
       "      <th>2</th>\n",
       "      <td>ADDED</td>\n",
       "      <td>Las Vegas Sands</td>\n",
       "      <td>LVS</td>\n",
       "      <td>2019-09-26</td>\n",
       "      <td>2019-10-03</td>\n",
       "    </tr>\n",
       "    <tr>\n",
       "      <th>3</th>\n",
       "      <td>DELETED</td>\n",
       "      <td>Nektar Therapeutics</td>\n",
       "      <td>NKTR</td>\n",
       "      <td>2019-09-26</td>\n",
       "      <td>2019-10-03</td>\n",
       "    </tr>\n",
       "    <tr>\n",
       "      <th>4</th>\n",
       "      <td>ADDED</td>\n",
       "      <td>W.R. Berkley</td>\n",
       "      <td>WRB-PF</td>\n",
       "      <td>2019-11-27</td>\n",
       "      <td>2019-12-05</td>\n",
       "    </tr>\n",
       "    <tr>\n",
       "      <th>...</th>\n",
       "      <td>...</td>\n",
       "      <td>...</td>\n",
       "      <td>...</td>\n",
       "      <td>...</td>\n",
       "      <td>...</td>\n",
       "    </tr>\n",
       "    <tr>\n",
       "      <th>185</th>\n",
       "      <td></td>\n",
       "      <td>SAIC</td>\n",
       "      <td>SAIC</td>\n",
       "      <td>2013-09-11</td>\n",
       "      <td>2013-09-20</td>\n",
       "    </tr>\n",
       "    <tr>\n",
       "      <th>186</th>\n",
       "      <td>ADDED</td>\n",
       "      <td>Arista Networks</td>\n",
       "      <td>ANET</td>\n",
       "      <td>2018-08-23</td>\n",
       "      <td>2018-08-28</td>\n",
       "    </tr>\n",
       "    <tr>\n",
       "      <th>187</th>\n",
       "      <td>DELETED</td>\n",
       "      <td>GGP</td>\n",
       "      <td>GGPCX</td>\n",
       "      <td>2018-08-23</td>\n",
       "      <td>2018-08-28</td>\n",
       "    </tr>\n",
       "    <tr>\n",
       "      <th>188</th>\n",
       "      <td>ADDED</td>\n",
       "      <td>AbbVie</td>\n",
       "      <td>ABBV</td>\n",
       "      <td>2012-12-20</td>\n",
       "      <td>2012-12-31</td>\n",
       "    </tr>\n",
       "    <tr>\n",
       "      <th>189</th>\n",
       "      <td>DELETED</td>\n",
       "      <td>Federated Investors</td>\n",
       "      <td>FIIAX</td>\n",
       "      <td>2012-12-20</td>\n",
       "      <td>2012-12-31</td>\n",
       "    </tr>\n",
       "  </tbody>\n",
       "</table>\n",
       "<p>190 rows × 5 columns</p>\n",
       "</div>"
      ],
      "text/plain": [
       "        type                       name  ticker announcement_date  \\\n",
       "0      ADDED                        NVR     NVR        2019-09-20   \n",
       "1    DELETED  Jefferies Financial Group     JEF        2019-09-20   \n",
       "2      ADDED            Las Vegas Sands     LVS        2019-09-26   \n",
       "3    DELETED        Nektar Therapeutics    NKTR        2019-09-26   \n",
       "4      ADDED               W.R. Berkley  WRB-PF        2019-11-27   \n",
       "..       ...                        ...     ...               ...   \n",
       "185                                SAIC    SAIC        2013-09-11   \n",
       "186    ADDED            Arista Networks    ANET        2018-08-23   \n",
       "187  DELETED                        GGP   GGPCX        2018-08-23   \n",
       "188    ADDED                     AbbVie    ABBV        2012-12-20   \n",
       "189  DELETED        Federated Investors   FIIAX        2012-12-20   \n",
       "\n",
       "    implementation_date  \n",
       "0            2019-09-26  \n",
       "1            2019-09-26  \n",
       "2            2019-10-03  \n",
       "3            2019-10-03  \n",
       "4            2019-12-05  \n",
       "..                  ...  \n",
       "185          2013-09-20  \n",
       "186          2018-08-28  \n",
       "187          2018-08-28  \n",
       "188          2012-12-31  \n",
       "189          2012-12-31  \n",
       "\n",
       "[190 rows x 5 columns]"
      ]
     },
     "execution_count": 301,
     "metadata": {},
     "output_type": "execute_result"
    }
   ],
   "source": [
    "df"
   ]
  },
  {
   "cell_type": "code",
   "execution_count": 302,
   "metadata": {},
   "outputs": [],
   "source": [
    "df.to_excel('output.xlsx')"
   ]
  }
 ],
 "metadata": {
  "kernelspec": {
   "display_name": "Python 3",
   "language": "python",
   "name": "python3"
  },
  "language_info": {
   "codemirror_mode": {
    "name": "ipython",
    "version": 3
   },
   "file_extension": ".py",
   "mimetype": "text/x-python",
   "name": "python",
   "nbconvert_exporter": "python",
   "pygments_lexer": "ipython3",
   "version": "3.7.6"
  }
 },
 "nbformat": 4,
 "nbformat_minor": 4
}
