{
 "cells": [
  {
   "cell_type": "code",
   "execution_count": 8,
   "metadata": {},
   "outputs": [
    {
     "name": "stdout",
     "output_type": "stream",
     "text": [
      "Directory  announcements  already exists\n"
     ]
    }
   ],
   "source": [
    "import os\n",
    "import requests\n",
    "import shutil\n",
    "import re\n",
    "\n",
    "dirName = \"announcements\"\n",
    "dirPath = \".\\\\\" + dirName + \"\\\\\"\n",
    "\n",
    "try:\n",
    "    # Create target Directory\n",
    "    os.mkdir(dirName)\n",
    "    print(\"Directory \" , dirName ,  \" Created \") \n",
    "except FileExistsError:\n",
    "    print(\"Directory \" , dirName ,  \" already exists\")"
   ]
  },
  {
   "cell_type": "code",
   "execution_count": 9,
   "metadata": {},
   "outputs": [
    {
     "data": {
      "text/plain": [
       "'.\\\\announcements\\\\'"
      ]
     },
     "execution_count": 9,
     "metadata": {},
     "output_type": "execute_result"
    }
   ],
   "source": [
    "dirPath"
   ]
  },
  {
   "cell_type": "code",
   "execution_count": 19,
   "metadata": {},
   "outputs": [],
   "source": [
    "def download_file(url):\n",
    "    file = requests.get(url, stream=True)\n",
    "    headers = file.headers['content-disposition']\n",
    "    print(headers)\n",
    "    filename = re.findall(\"filename=\\\"(.+)\\\"\", headers)[0]\n",
    "    print(filename)\n",
    "    location = os.path.relpath(dirPath + filename)\n",
    "    print(location)\n",
    "    with open(location, 'wb') as location:\n",
    "        shutil.copyfileobj(file.raw, location)\n",
    "    del file"
   ]
  },
  {
   "cell_type": "code",
   "execution_count": 11,
   "metadata": {},
   "outputs": [],
   "source": [
    "from googlesearch import search \n",
    "query = \"\\\"S&P 500 INDEX –\\\" \\\"Set to Join\\\" site:us.spindices.com filetype:pdf\"\n",
    "results = search(query, tld='com', lang='en', num=10, start=0, stop=None, pause=2.0)"
   ]
  },
  {
   "cell_type": "code",
   "execution_count": 20,
   "metadata": {},
   "outputs": [
    {
     "name": "stdout",
     "output_type": "stream",
     "text": [
      "attachment; filename=\"948566_mktxaaxnmlab546usna6xncr6.pdf\"\n",
      "948566_mktxaaxnmlab546usna6xncr6.pdf\n",
      "announcements\\948566_mktxaaxnmlab546usna6xncr6.pdf\n",
      "https://us.spindices.com/documents/indexnews/announcements/20190624-948566/948566_mktxaaxnmlab546usna6xncr6.pdf?force_download=true\n",
      "attachment; filename=\"1098962_Final5Ingersol4Cimar.pdf\"\n",
      "1098962_Final5Ingersol4Cimar.pdf\n",
      "announcements\\1098962_Final5Ingersol4Cimar.pdf\n",
      "https://us.spindices.com/documents/indexnews/announcements/20200227-1098962/1098962_Final5Ingersol4Cimar.pdf?force_download=true\n",
      "attachment; filename=\"935564_dwdpspin5blmn6.pdf\"\n",
      "935564_dwdpspin5blmn6.pdf\n",
      "announcements\\935564_dwdpspin5blmn6.pdf\n",
      "https://us.spindices.com/documents/indexnews/announcements/20190528-935564/935564_dwdpspin5blmn6.pdf?force_download=true\n",
      "inline; filename=\"11700_3dmaccor546.pdf\"\n",
      "11700_3dmaccor546.pdf\n",
      "announcements\\11700_3dmaccor546.pdf\n",
      "https://us.spindices.com/ids_spice_data/idsfiles/11700_3dmaccor546.pdf\n",
      "inline; filename=\"20171228-spdji-bard-huntington-games-ultra-press-release.pdf\"\n",
      "20171228-spdji-bard-huntington-games-ultra-press-release.pdf\n",
      "announcements\\20171228-spdji-bard-huntington-games-ultra-press-release.pdf\n",
      "https://us.spindices.com/documents/index-news-and-announcements/20171228-spdji-bard-huntington-games-ultra-press-release.pdf\n",
      "inline; filename=\"11854_whitewavekansasdeanspin.pdf\"\n",
      "11854_whitewavekansasdeanspin.pdf\n",
      "announcements\\11854_whitewavekansasdeanspin.pdf\n",
      "https://us.spindices.com/ids_spice_data/idsfiles/11854_whitewavekansasdeanspin.pdf\n",
      "attachment; filename=\"786958_rollininvandamotion.pdf\"\n",
      "786958_rollininvandamotion.pdf\n",
      "announcements\\786958_rollininvandamotion.pdf\n",
      "https://us.spindices.com/documents/indexnews/announcements/20180925-786958/786958_rollininvandamotion.pdf?force_download=true\n",
      "attachment; filename=\"313547_gmcrudrhr546prlb.pdf\"\n",
      "313547_gmcrudrhr546prlb.pdf\n",
      "announcements\\313547_gmcrudrhr546prlb.pdf\n",
      "http://us.spindices.com/documents/indexnews/announcements/20160303-313547/313547_gmcrudrhr546prlb.pdf?force_download=true\n",
      "attachment; filename=\"364753_cablehorse45mi.pdf\"\n",
      "364753_cablehorse45mi.pdf\n",
      "announcements\\364753_cablehorse45mi.pdf\n",
      "http://us.spindices.com/documents/indexnews/announcements/20160621-364753/364753_cablehorse45mi.pdf?force_download=true\n",
      "attachment; filename=\"764552_ichor5arista6micro.pdf\"\n",
      "764552_ichor5arista6micro.pdf\n",
      "announcements\\764552_ichor5arista6micro.pdf\n",
      "https://us.spindices.com/documents/indexnews/announcements/20180823-764552/764552_ichor5arista6micro.pdf?force_download=true\n",
      "attachment; filename=\"722756_1hollybroadshuf252426finl.pdf\"\n",
      "722756_1hollybroadshuf252426finl.pdf\n",
      "announcements\\722756_1hollybroadshuf252426finl.pdf\n",
      "https://us.spindices.com/documents/indexnews/announcements/20180608-722756/722756_1hollybroadshuf252426finl.pdf?force_download=true\n",
      "attachment; filename=\"727360_time1fleet5nvid14.pdf\"\n",
      "727360_time1fleet5nvid14.pdf\n",
      "announcements\\727360_time1fleet5nvid14.pdf\n",
      "https://us.spindices.com/documents/indexnews/announcements/20180615-727360/727360_time1fleet5nvid14.pdf?force_download=true\n",
      "inline; filename=\"sp100abbspinpresidentlife65.pdf\"\n",
      "sp100abbspinpresidentlife65.pdf\n",
      "announcements\\sp100abbspinpresidentlife65.pdf\n",
      "http://us.spindices.com/documents/index-news-and-announcements/sp100abbspinpresidentlife65.pdf\n",
      "inline; filename=\"AAshufspinsept2013vrtxamesaiamd.pdf\"\n",
      "AAshufspinsept2013vrtxamesaiamd.pdf\n",
      "announcements\\AAshufspinsept2013vrtxamesaiamd.pdf\n",
      "https://us.spindices.com/documents/index-news-and-announcements/AAshufspinsept2013vrtxamesaiamd.pdf\n",
      "attachment; filename=\"67155_fbshuf252426100.pdf\"\n",
      "67155_fbshuf252426100.pdf\n",
      "announcements\\67155_fbshuf252426100.pdf\n",
      "https://us.spindices.com/documents/indexnews/announcements/20131211/67155_fbshuf252426100.pdf\n",
      "attachment; filename=\"253375_bbz2hpspinzerohudsonexterranspin6451.pdf\"\n",
      "253375_bbz2hpspinzerohudsonexterranspin6451.pdf\n",
      "announcements\\253375_bbz2hpspinzerohudsonexterranspin6451.pdf\n",
      "https://us.spindices.com/documents/indexnews/announcements/20151027-253375/253375_bbz2hpspinzerohudsonexterranspin6451.pdf?force_download=true\n",
      "attachment; filename=\"256349_zerospindarden4corners6arex.pdf\"\n",
      "256349_zerospindarden4corners6arex.pdf\n",
      "announcements\\256349_zerospindarden4corners6arex.pdf\n",
      "https://us.spindices.com/documents/indexnews/announcements/20151102-256349/256349_zerospindarden4corners6arex.pdf?force_download=true\n",
      "attachment; filename=\"64568_irspinpenney1.pdf\"\n",
      "64568_irspinpenney1.pdf\n",
      "announcements\\64568_irspinpenney1.pdf\n",
      "https://us.spindices.com/documents/indexnews/announcements/20131122/64568_irspinpenney1.pdf?force_download=true\n",
      "attachment; filename=\"193151_qorvo5lowisdom4.pdf\"\n",
      "193151_qorvo5lowisdom4.pdf\n",
      "announcements\\193151_qorvo5lowisdom4.pdf\n",
      "http://us.spindices.com/documents/indexnews/announcements/20150609-193151/193151_qorvo5lowisdom4.pdf\n"
     ]
    }
   ],
   "source": [
    "for result in results:\n",
    "    download_file(result)\n",
    "    print(result)"
   ]
  }
 ],
 "metadata": {
  "kernelspec": {
   "display_name": "Python 3",
   "language": "python",
   "name": "python3"
  },
  "language_info": {
   "codemirror_mode": {
    "name": "ipython",
    "version": 3
   },
   "file_extension": ".py",
   "mimetype": "text/x-python",
   "name": "python",
   "nbconvert_exporter": "python",
   "pygments_lexer": "ipython3",
   "version": "3.7.6"
  }
 },
 "nbformat": 4,
 "nbformat_minor": 4
}
