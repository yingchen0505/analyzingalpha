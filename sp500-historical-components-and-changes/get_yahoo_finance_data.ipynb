{
 "cells": [
  {
   "cell_type": "code",
   "execution_count": 6,
   "metadata": {},
   "outputs": [
    {
     "name": "stderr",
     "output_type": "stream",
     "text": [
      "C:\\Users\\Yingchen\\Anaconda3\\envs\\tf_1.0\\lib\\site-packages\\urllib3\\connectionpool.py:852: InsecureRequestWarning: Unverified HTTPS request is being made. Adding certificate verification is strongly advised. See: https://urllib3.readthedocs.io/en/latest/advanced-usage.html#ssl-warnings\n",
      "  InsecureRequestWarning)\n"
     ]
    },
    {
     "name": "stdout",
     "output_type": "stream",
     "text": [
      "{'Open': 1933.0, 'Date': 'Mar 05, 2020'}\n",
      "{'Open': 1946.57, 'Date': 'Mar 04, 2020'}\n",
      "{'Open': 1975.37, 'Date': 'Mar 03, 2020'}\n",
      "{'Open': 1906.49, 'Date': 'Mar 02, 2020'}\n",
      "{'Open': 1814.63, 'Date': 'Feb 28, 2020'}\n"
     ]
    }
   ],
   "source": [
    "import urllib3\n",
    "from bs4 import BeautifulSoup as bs\n",
    "\n",
    "http = urllib3.PoolManager()\n",
    "\n",
    "def get_historical_data(name, number_of_days):\n",
    "    data = []\n",
    "    url = \"https://finance.yahoo.com/quote/\" + name + \"/history/\"\n",
    "    response = http.request('GET', url)\n",
    "    rows = bs(response.data).findAll('table')[0].tbody.findAll('tr')\n",
    "\n",
    "    for each_row in rows:\n",
    "        divs = each_row.findAll('td')\n",
    "        if divs[1].span.text  != 'Dividend': #Ignore this row in the table\n",
    "            #I'm only interested in 'Open' price; For other values, play with divs[1 - 5]\n",
    "            data.append({'Date': divs[0].span.text, 'Open': float(divs[1].span.text.replace(',',''))})\n",
    "\n",
    "    return data[:number_of_days]\n",
    "\n",
    "#Test\n",
    "for i in get_historical_data('amzn', 5):\n",
    "    print(i)"
   ]
  },
  {
   "cell_type": "code",
   "execution_count": 6,
   "metadata": {},
   "outputs": [],
   "source": [
    "import yfinance as yf\n",
    "\n",
    "msft = yf.Ticker(\"MSFT\")\n",
    "\n",
    "# get stock info\n",
    "msft.info\n",
    "\n",
    "# get historical market data\n",
    "hist = msft.history(period=\"max\")\n",
    "\n",
    "# show actions (dividends, splits)\n",
    "msft.actions\n",
    "\n",
    "# show dividends\n",
    "msft.dividends\n",
    "\n",
    "# show splits\n",
    "msft.splits\n",
    "\n",
    "# show financials\n",
    "msft.financials\n",
    "msft.quarterly_financials\n",
    "\n",
    "# show major holders\n",
    "msft.major_holders\n",
    "\n",
    "# show institutional holders\n",
    "msft.institutional_holders\n",
    "\n",
    "# show balance heet\n",
    "msft.balance_sheet\n",
    "msft.quarterly_balance_sheet\n",
    "\n",
    "# show cashflow\n",
    "msft.cashflow\n",
    "msft.quarterly_cashflow\n",
    "\n",
    "# show earnings\n",
    "msft.earnings\n",
    "msft.quarterly_earnings\n",
    "\n",
    "# show sustainability\n",
    "msft.sustainability\n",
    "\n",
    "# show analysts recommendations\n",
    "msft.recommendations\n",
    "\n",
    "# show next event (earnings, etc)\n",
    "msft.calendar\n",
    "\n",
    "# show ISIN code - *experimental*\n",
    "# ISIN = International Securities Identification Number\n",
    "msft.isin\n",
    "\n",
    "# show options expirations\n",
    "msft.options\n",
    "\n",
    "# get option chain for specific expiration\n",
    "opt = msft.option_chain('2020-03-13')\n",
    "# data available via: opt.calls, opt.puts"
   ]
  },
  {
   "cell_type": "code",
   "execution_count": null,
   "metadata": {},
   "outputs": [],
   "source": []
  }
 ],
 "metadata": {
  "kernelspec": {
   "display_name": "Python 3",
   "language": "python",
   "name": "python3"
  },
  "language_info": {
   "codemirror_mode": {
    "name": "ipython",
    "version": 3
   },
   "file_extension": ".py",
   "mimetype": "text/x-python",
   "name": "python",
   "nbconvert_exporter": "python",
   "pygments_lexer": "ipython3",
   "version": "3.7.6"
  }
 },
 "nbformat": 4,
 "nbformat_minor": 2
}
