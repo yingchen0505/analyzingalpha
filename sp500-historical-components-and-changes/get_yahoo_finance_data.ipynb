{
 "cells": [
  {
   "cell_type": "code",
   "execution_count": 6,
   "metadata": {},
   "outputs": [],
   "source": [
    "import yfinance as yf\n",
    "\n",
    "msft = yf.Ticker(\"MSFT\")\n",
    "\n",
    "# get stock info\n",
    "msft.info\n",
    "\n",
    "# get historical market data\n",
    "hist = msft.history(period=\"max\")\n",
    "\n",
    "# show actions (dividends, splits)\n",
    "msft.actions\n",
    "\n",
    "# show dividends\n",
    "msft.dividends\n",
    "\n",
    "# show splits\n",
    "msft.splits\n",
    "\n",
    "# show financials\n",
    "msft.financials\n",
    "msft.quarterly_financials\n",
    "\n",
    "# show major holders\n",
    "msft.major_holders\n",
    "\n",
    "# show institutional holders\n",
    "msft.institutional_holders\n",
    "\n",
    "# show balance heet\n",
    "msft.balance_sheet\n",
    "msft.quarterly_balance_sheet\n",
    "\n",
    "# show cashflow\n",
    "msft.cashflow\n",
    "msft.quarterly_cashflow\n",
    "\n",
    "# show earnings\n",
    "msft.earnings\n",
    "msft.quarterly_earnings\n",
    "\n",
    "# show sustainability\n",
    "msft.sustainability\n",
    "\n",
    "# show analysts recommendations\n",
    "msft.recommendations\n",
    "\n",
    "# show next event (earnings, etc)\n",
    "msft.calendar\n",
    "\n",
    "# show ISIN code - *experimental*\n",
    "# ISIN = International Securities Identification Number\n",
    "msft.isin\n",
    "\n",
    "# show options expirations\n",
    "msft.options\n",
    "\n",
    "# get option chain for specific expiration\n",
    "opt = msft.option_chain('2020-03-13')\n",
    "# data available via: opt.calls, opt.puts"
   ]
  },
  {
   "cell_type": "code",
   "execution_count": 7,
   "metadata": {},
   "outputs": [
    {
     "data": {
      "text/html": [
       "<div>\n",
       "<style scoped>\n",
       "    .dataframe tbody tr th:only-of-type {\n",
       "        vertical-align: middle;\n",
       "    }\n",
       "\n",
       "    .dataframe tbody tr th {\n",
       "        vertical-align: top;\n",
       "    }\n",
       "\n",
       "    .dataframe thead th {\n",
       "        text-align: right;\n",
       "    }\n",
       "</style>\n",
       "<table border=\"1\" class=\"dataframe\">\n",
       "  <thead>\n",
       "    <tr style=\"text-align: right;\">\n",
       "      <th></th>\n",
       "      <th>Unnamed: 0</th>\n",
       "      <th>cik</th>\n",
       "      <th>date</th>\n",
       "      <th>name</th>\n",
       "      <th>value</th>\n",
       "      <th>variable</th>\n",
       "    </tr>\n",
       "  </thead>\n",
       "  <tbody>\n",
       "    <tr>\n",
       "      <th>0</th>\n",
       "      <td>427</td>\n",
       "      <td>1757898.0</td>\n",
       "      <td>11/30/1983</td>\n",
       "      <td>STERIS plc</td>\n",
       "      <td>STE</td>\n",
       "      <td>added_ticker</td>\n",
       "    </tr>\n",
       "    <tr>\n",
       "      <th>1</th>\n",
       "      <td>403</td>\n",
       "      <td>315213.0</td>\n",
       "      <td>11/30/1983</td>\n",
       "      <td>Robert Half International</td>\n",
       "      <td>RHI</td>\n",
       "      <td>added_ticker</td>\n",
       "    </tr>\n",
       "    <tr>\n",
       "      <th>2</th>\n",
       "      <td>45</td>\n",
       "      <td>315293.0</td>\n",
       "      <td>11/30/1983</td>\n",
       "      <td>Aon plc</td>\n",
       "      <td>AON</td>\n",
       "      <td>added_ticker</td>\n",
       "    </tr>\n",
       "    <tr>\n",
       "      <th>3</th>\n",
       "      <td>101</td>\n",
       "      <td>316709.0</td>\n",
       "      <td>11/30/1983</td>\n",
       "      <td>Charles Schwab Corporation</td>\n",
       "      <td>SCHW</td>\n",
       "      <td>added_ticker</td>\n",
       "    </tr>\n",
       "    <tr>\n",
       "      <th>4</th>\n",
       "      <td>40</td>\n",
       "      <td>318154.0</td>\n",
       "      <td>11/30/1983</td>\n",
       "      <td>Amgen Inc.</td>\n",
       "      <td>AMGN</td>\n",
       "      <td>added_ticker</td>\n",
       "    </tr>\n",
       "  </tbody>\n",
       "</table>\n",
       "</div>"
      ],
      "text/plain": [
       "   Unnamed: 0        cik        date                        name value  \\\n",
       "0         427  1757898.0  11/30/1983                  STERIS plc   STE   \n",
       "1         403   315213.0  11/30/1983   Robert Half International   RHI   \n",
       "2          45   315293.0  11/30/1983                     Aon plc   AON   \n",
       "3         101   316709.0  11/30/1983  Charles Schwab Corporation  SCHW   \n",
       "4          40   318154.0  11/30/1983                  Amgen Inc.  AMGN   \n",
       "\n",
       "       variable  \n",
       "0  added_ticker  \n",
       "1  added_ticker  \n",
       "2  added_ticker  \n",
       "3  added_ticker  \n",
       "4  added_ticker  "
      ]
     },
     "execution_count": 7,
     "metadata": {},
     "output_type": "execute_result"
    }
   ],
   "source": [
    "import yfinance as yf\n",
    "import pandas as pd\n",
    "from datetime import datetime, timedelta\n",
    "from pandas_datareader import data as pdr\n",
    "yf.pdr_override() # <== that's all it takes :-)\n",
    "\n",
    "sp500_history = pd.read_csv('./sp500_history.csv')\n",
    "sp500_history['date'] = pd.to_datetime(sp500_history['date']) \n",
    "sp500_history = sp500_history[['date', 'value', 'variable']]\n",
    "\n",
    "start_date = datetime.strptime('2019-1-1', '%Y-%m-%d')\n",
    "end_date = datetime.strptime('2019-12-31', '%Y-%m-%d')\n",
    "\n",
    "# greater than the start date and smaller than the end date\n",
    "mask = (sp500_history['date'] > start_date) & (sp500_history['date'] <= end_date)\n",
    "sp500_history = sp500_history.loc[mask]\n",
    "\n",
    "# Sort\n",
    "sp500_history.sort_values(['date', 'variable'], ascending=[True, True])"
   ]
  },
  {
   "cell_type": "code",
   "execution_count": 26,
   "metadata": {},
   "outputs": [],
   "source": [
    "columns_to_create = ['total', 'mean', 'std', 'up', 'count', 'max', 'min', 'sharpe', 'uppct']\n",
    "\n",
    "for column in columns_to_create:\n",
    "    sp500_history[column] = 0"
   ]
  },
  {
   "cell_type": "code",
   "execution_count": 56,
   "metadata": {},
   "outputs": [
    {
     "name": "stdout",
     "output_type": "stream",
     "text": [
      "[*********************100%***********************]  1 of 1 completed\n",
      "                 Open       High        Low      Close  Adj Close    Volume\n",
      "Date                                                                       \n",
      "2018-12-27  82.820000  83.739998  80.919998  83.669998  82.914818    720800\n",
      "2018-12-28  87.930000  89.660004  87.510002  87.940002  87.146286   6518400\n",
      "2018-12-31  86.760002  87.669998  85.169998  86.900002  86.115669  29983500\n",
      "2019-01-02  86.540001  87.510002  86.150002  87.500000  86.710258   3119500\n"
     ]
    }
   ],
   "source": [
    "days_to_subtract = 5\n",
    "last_date = sp500_history.iloc[0, sp500_history.columns.get_loc('date')]\n",
    "\n",
    "# for idx, row in enumerate(sp500_history):\n",
    "row = sp500_history.iloc[0]\n",
    "\n",
    "# End date is exclusive, so need to increase by 1\n",
    "prices = pdr.get_data_yahoo(row['value'], start=row['date'] - timedelta(days=days_to_subtract), end=row['date'] + timedelta(days=1))\n",
    "\n",
    "# Find the previous trading day\n",
    "prev_date = row['date'] - timedelta(days=1)\n",
    "while not prev_date in prices.index:\n",
    "    prev_date -= timedelta(days=1)\n",
    "prev_close = prices.loc[prev_date]['Close']\n",
    "\n",
    "# Find the next opening price\n",
    "next_date = row['date']\n",
    "while not next_date in prices.index:\n",
    "    next_date += timedelta(days=1)\n",
    "next_open = prices.loc[next_date]['Open']\n",
    "\n",
    "price_change = next_open - prev_close\n",
    "# row['total'] += price_change\n",
    "print(prices.head())\n",
    "#     sp500_history['']\n"
   ]
  },
  {
   "cell_type": "code",
   "execution_count": 49,
   "metadata": {},
   "outputs": [
    {
     "data": {
      "text/html": [
       "<div>\n",
       "<style scoped>\n",
       "    .dataframe tbody tr th:only-of-type {\n",
       "        vertical-align: middle;\n",
       "    }\n",
       "\n",
       "    .dataframe tbody tr th {\n",
       "        vertical-align: top;\n",
       "    }\n",
       "\n",
       "    .dataframe thead th {\n",
       "        text-align: right;\n",
       "    }\n",
       "</style>\n",
       "<table border=\"1\" class=\"dataframe\">\n",
       "  <thead>\n",
       "    <tr style=\"text-align: right;\">\n",
       "      <th></th>\n",
       "      <th>Open</th>\n",
       "      <th>High</th>\n",
       "      <th>Low</th>\n",
       "      <th>Close</th>\n",
       "      <th>Adj Close</th>\n",
       "      <th>Volume</th>\n",
       "    </tr>\n",
       "    <tr>\n",
       "      <th>Date</th>\n",
       "      <th></th>\n",
       "      <th></th>\n",
       "      <th></th>\n",
       "      <th></th>\n",
       "      <th></th>\n",
       "      <th></th>\n",
       "    </tr>\n",
       "  </thead>\n",
       "  <tbody>\n",
       "    <tr>\n",
       "      <th>2018-12-27</th>\n",
       "      <td>82.820000</td>\n",
       "      <td>83.739998</td>\n",
       "      <td>80.919998</td>\n",
       "      <td>83.669998</td>\n",
       "      <td>82.914818</td>\n",
       "      <td>720800</td>\n",
       "    </tr>\n",
       "    <tr>\n",
       "      <th>2018-12-28</th>\n",
       "      <td>87.930000</td>\n",
       "      <td>89.660004</td>\n",
       "      <td>87.510002</td>\n",
       "      <td>87.940002</td>\n",
       "      <td>87.146286</td>\n",
       "      <td>6518400</td>\n",
       "    </tr>\n",
       "    <tr>\n",
       "      <th>2018-12-31</th>\n",
       "      <td>86.760002</td>\n",
       "      <td>87.669998</td>\n",
       "      <td>85.169998</td>\n",
       "      <td>86.900002</td>\n",
       "      <td>86.115669</td>\n",
       "      <td>29983500</td>\n",
       "    </tr>\n",
       "    <tr>\n",
       "      <th>2019-01-02</th>\n",
       "      <td>86.540001</td>\n",
       "      <td>87.510002</td>\n",
       "      <td>86.150002</td>\n",
       "      <td>87.500000</td>\n",
       "      <td>86.710258</td>\n",
       "      <td>3119500</td>\n",
       "    </tr>\n",
       "  </tbody>\n",
       "</table>\n",
       "</div>"
      ],
      "text/plain": [
       "                 Open       High        Low      Close  Adj Close    Volume\n",
       "Date                                                                       \n",
       "2018-12-27  82.820000  83.739998  80.919998  83.669998  82.914818    720800\n",
       "2018-12-28  87.930000  89.660004  87.510002  87.940002  87.146286   6518400\n",
       "2018-12-31  86.760002  87.669998  85.169998  86.900002  86.115669  29983500\n",
       "2019-01-02  86.540001  87.510002  86.150002  87.500000  86.710258   3119500"
      ]
     },
     "execution_count": 49,
     "metadata": {},
     "output_type": "execute_result"
    }
   ],
   "source": [
    "prices.head()"
   ]
  },
  {
   "cell_type": "code",
   "execution_count": 57,
   "metadata": {},
   "outputs": [
    {
     "data": {
      "text/plain": [
       "-0.3600006103515625"
      ]
     },
     "execution_count": 57,
     "metadata": {},
     "output_type": "execute_result"
    }
   ],
   "source": [
    "price_change"
   ]
  },
  {
   "cell_type": "code",
   "execution_count": 58,
   "metadata": {},
   "outputs": [
    {
     "data": {
      "text/plain": [
       "86.54000091552734"
      ]
     },
     "execution_count": 58,
     "metadata": {},
     "output_type": "execute_result"
    }
   ],
   "source": [
    "next_open"
   ]
  },
  {
   "cell_type": "code",
   "execution_count": null,
   "metadata": {},
   "outputs": [],
   "source": []
  }
 ],
 "metadata": {
  "kernelspec": {
   "display_name": "Python 3",
   "language": "python",
   "name": "python3"
  },
  "language_info": {
   "codemirror_mode": {
    "name": "ipython",
    "version": 3
   },
   "file_extension": ".py",
   "mimetype": "text/x-python",
   "name": "python",
   "nbconvert_exporter": "python",
   "pygments_lexer": "ipython3",
   "version": "3.7.6"
  }
 },
 "nbformat": 4,
 "nbformat_minor": 2
}
