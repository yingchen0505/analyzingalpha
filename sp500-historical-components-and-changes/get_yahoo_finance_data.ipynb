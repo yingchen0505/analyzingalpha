{
 "cells": [
  {
   "cell_type": "code",
   "execution_count": 6,
   "metadata": {},
   "outputs": [
    {
     "name": "stderr",
     "output_type": "stream",
     "text": [
      "C:\\Users\\Yingchen\\Anaconda3\\envs\\tf_1.0\\lib\\site-packages\\urllib3\\connectionpool.py:852: InsecureRequestWarning: Unverified HTTPS request is being made. Adding certificate verification is strongly advised. See: https://urllib3.readthedocs.io/en/latest/advanced-usage.html#ssl-warnings\n",
      "  InsecureRequestWarning)\n"
     ]
    },
    {
     "name": "stdout",
     "output_type": "stream",
     "text": [
      "{'Open': 1933.0, 'Date': 'Mar 05, 2020'}\n",
      "{'Open': 1946.57, 'Date': 'Mar 04, 2020'}\n",
      "{'Open': 1975.37, 'Date': 'Mar 03, 2020'}\n",
      "{'Open': 1906.49, 'Date': 'Mar 02, 2020'}\n",
      "{'Open': 1814.63, 'Date': 'Feb 28, 2020'}\n"
     ]
    }
   ],
   "source": [
    "import urllib3\n",
    "from bs4 import BeautifulSoup as bs\n",
    "\n",
    "http = urllib3.PoolManager()\n",
    "\n",
    "def get_historical_data(name, number_of_days):\n",
    "    data = []\n",
    "    url = \"https://finance.yahoo.com/quote/\" + name + \"/history/\"\n",
    "    response = http.request('GET', url)\n",
    "    rows = bs(response.data).findAll('table')[0].tbody.findAll('tr')\n",
    "#     rows = bs(urllib3.urlopen(url).read()).findAll('table')[0].tbody.findAll('tr')\n",
    "\n",
    "    for each_row in rows:\n",
    "        divs = each_row.findAll('td')\n",
    "        if divs[1].span.text  != 'Dividend': #Ignore this row in the table\n",
    "            #I'm only interested in 'Open' price; For other values, play with divs[1 - 5]\n",
    "            data.append({'Date': divs[0].span.text, 'Open': float(divs[1].span.text.replace(',',''))})\n",
    "\n",
    "    return data[:number_of_days]\n",
    "\n",
    "#Test\n",
    "for i in get_historical_data('amzn', 5):\n",
    "    print(i)"
   ]
  }
 ],
 "metadata": {
  "kernelspec": {
   "display_name": "Python 3",
   "language": "python",
   "name": "python3"
  },
  "language_info": {
   "codemirror_mode": {
    "name": "ipython",
    "version": 3
   },
   "file_extension": ".py",
   "mimetype": "text/x-python",
   "name": "python",
   "nbconvert_exporter": "python",
   "pygments_lexer": "ipython3",
   "version": "3.5.6"
  }
 },
 "nbformat": 4,
 "nbformat_minor": 2
}
