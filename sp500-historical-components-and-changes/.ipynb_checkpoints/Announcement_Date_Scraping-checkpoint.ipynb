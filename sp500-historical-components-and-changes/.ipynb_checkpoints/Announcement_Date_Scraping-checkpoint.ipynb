{
 "cells": [
  {
   "cell_type": "code",
   "execution_count": 4,
   "metadata": {},
   "outputs": [
    {
     "name": "stdout",
     "output_type": "stream",
     "text": [
      "Directory  announcements  already exists\n"
     ]
    }
   ],
   "source": [
    "import os\n",
    "import requests\n",
    "import re\n",
    "from googlesearch import search \n",
    "from tabula import read_pdf\n",
    "import urllib.parse\n",
    "import pandas as pd\n",
    "from datetime import datetime\n",
    "import pdfplumber\n",
    "\n",
    "dirName = \"announcements\"\n",
    "dirPath = \".\\\\\" + dirName + \"\\\\\"\n",
    "\n",
    "try:\n",
    "    # Create target Directory\n",
    "    os.mkdir(dirName)\n",
    "    print(\"Directory \" , dirName ,  \" Created \") \n",
    "except FileExistsError:\n",
    "    print(\"Directory \" , dirName ,  \" already exists\")"
   ]
  },
  {
   "cell_type": "code",
   "execution_count": 72,
   "metadata": {},
   "outputs": [],
   "source": [
    "def download_file(url):\n",
    "    file = requests.get(url, stream=True)\n",
    "    headers = file.headers['content-disposition']\n",
    "    filename = re.findall(\"filename=\\\"(.+)\\\"\", headers)[0]\n",
    "    location = os.path.relpath(dirPath + filename)\n",
    "    open(location, 'wb').write(file.content)\n",
    "    del file"
   ]
  },
  {
   "cell_type": "code",
   "execution_count": 70,
   "metadata": {},
   "outputs": [],
   "source": [
    "query = \"\\\"S&P 500 INDEX –\\\" \\\"Set to Join\\\" site:spindices.com filetype:pdf\"\n",
    "results = search(query, tld='com', lang='en', num=10, start=0, stop=None, pause=2.0)"
   ]
  },
  {
   "cell_type": "code",
   "execution_count": 74,
   "metadata": {
    "collapsed": true
   },
   "outputs": [
    {
     "name": "stdout",
     "output_type": "stream",
     "text": [
      "https://us.spindices.com/documents/indexnews/announcements/20200122-1077359/1077359_5payc.pdf?force_download=true\n",
      "https://us.spindices.com/documents/indexnews/announcements/20190709-957359/957359_hat5mobile.pdf?force_download=true\n",
      "https://us.spindices.com/documents/indexnews/announcements/20200227-1098962/1098962_Final5Ingersol4Cimar.pdf?force_download=true\n",
      "https://www.spindices.com/documents/indexnews/announcements/20190314-892576/892576_21foxspindis100adbe.pdf\n",
      "https://www.spindices.com/documents/indexnews/announcements/20191127-1041559/1041559_BerkleyRJoe546.pdf\n",
      "https://www.spindices.com/documents/indexnews/announcements/20190801-969367/969367_1leidos546foot6fizz6.pdf\n",
      "https://us.spindices.com/documents/indexnews/announcements/20190624-948566/948566_mktxaaxnmlab546usna6xncr6.pdf?force_download=true\n",
      "https://www.spindices.com/documents/indexnews/announcements/20190326-898958/898958_1dowspin100trex400.pdf\n",
      "https://www.spindices.com/documents/indexnews/announcements/20190926-1004359/1004359_4sands6pennantnektar5.pdf\n",
      "https://www.spindices.com/documents/indexnews/announcements/20191202-1042569/1042569_14Dominion5Ready6Cabot4Logistics.pdf\n",
      "https://us.spindices.com/ids_spice_data/idsfiles/11700_3dmaccor546.pdf\n",
      "https://us.spindices.com/ids_spice_data/idsfiles/11854_whitewavekansasdeanspin.pdf\n",
      "https://www.spindices.com/documents/indexnews/announcements/20190603-938358/938358_5bemis4mattel-newboiler.pdf\n",
      "https://us.spindices.com/documents/indexnews/announcements/20190528-935564/935564_dwdpspin5blmn6.pdf?force_download=true\n",
      "https://www.spindices.com/documents/indexnews/announcements/20190920-1000559/1000559_4jefferies5vicallon6finisar4smart2nvr.pdf\n",
      "https://www.spindices.com/documents/indexnews/announcements/20181227-845559/845559_firstrepscan5.pdf\n",
      "https://www.spindices.com/documents/indexnews/announcements/20190221-878161/878161_ge5wabtec4goodyear.pdf\n",
      "https://www.spindices.com/documents/indexnews/announcements/20181004-794361/794361_pennchefftntasgnvbtx546vv.pdf\n",
      "http://www.spindices.com/documents/indexnews/announcements/20170731-560953/560953_spinmetnoganfcn546.pdf\n",
      "https://www.spindices.com/documents/indexnews/announcements/20191213-1051561/1051561_migradec34253624lopeleaUntFtr.pdf\n",
      "https://www.spindices.com/documents/indexnews/announcements/20180911-776955/776955_health54energy8.pdf\n",
      "https://www.spindices.com/documents/indexnews/announcements/20181107-813582/813582_eqtspinb46superiorflotek.pdf\n",
      "https://www.spindices.com/documents/indexnews/announcements/20190115-856358/856358_pcg456.pdf\n",
      "https://www.spindices.com/documents/indexnews/announcements/20190208-870958/870958_newfieldencana5.pdf\n",
      "https://www.spindices.com/documents/indexnews/announcements/20181219-839558/839558_celscript5.pdf\n",
      "https://www.spindices.com/documents/indexnews/announcements/20180625-731759/731759_june25drpepperclarifications.pdf\n",
      "https://au.spindices.com/documents/indexnews/announcements/20180604-719152/719152_nflx1twtr5rgnx6.pdf?force_download=true\n",
      "https://www.spindices.com/documents/indexnews/announcements/20180925-786958/786958_rollininvandamotion.pdf\n",
      "https://us.spindices.com/documents/index-news-and-announcements/20171228-spdji-bard-huntington-games-ultra-press-release.pdf\n",
      "http://www.spindices.com/documents/indexnews/announcements/20160216-305547/305547_conch5plum.pdf\n",
      "https://www.spindices.com/documents/indexnews/announcements/20181030-808381/808381_acammilgndkeys-5426.pdf\n",
      "https://www.spindices.com/documents/indexnews/announcements/20160518-348544/348544_lkqairgas465.pdf\n",
      "https://www.spindices.com/documents/indexnews/announcements/20180525-714752/714752_spinwyndxccmicro54.pdf\n",
      "https://www.spindices.com/documents/indexnews/announcements/20160825-393354/393354_mtdmpwrwcicnls5466.pdf\n",
      "http://www.spindices.com/documents/indexnews/announcements/20160419-333750/333750_globalpaykrispygame54622.pdf\n",
      "http://www.spindices.com/documents/indexnews/announcements/20160513-346753/346753_ntdigitalcable5.pdf\n",
      "https://www.spindices.com/documents/indexnews/announcements/20181126-822558/822558_5lambrockdiamondpebblecvs46.pdf\n",
      "https://www.spindices.com/documents/indexnews/announcements/20180615-727360/727360_time1fleet5nvid14.pdf\n",
      "http://www.spindices.com/documents/indexnews/announcements/20160113-290355/290355_chubbaceextraspacement5546epr.pdf\n",
      "https://www.spindices.com/documents/indexnews/announcements/20170908-580952/580952_spls5cadencewoofbrinkwebrebal64.pdf\n",
      "http://us.spindices.com/documents/indexnews/announcements/20160303-313547/313547_gmcrudrhr546prlb.pdf?force_download=true\n",
      "http://www.spindices.com/documents/indexnews/announcements/20151228-282746/282746_williswatglobaladept4256domfloat.pdf\n",
      "https://www.spindices.com/documents/indexnews/announcements/20180608-722756/722756_1hollybroadshuf252426finl.pdf\n",
      "https://us.spindices.com/documents/index-news-and-announcements/ichor5arista6micro.pdf?force_download=true\n",
      "http://www.spindices.com/documents/indexnews/announcements/20170524-530961/530961_info5tgnacars4jcptime6.pdf\n",
      "https://www.spindices.com/documents/indexnews/announcements/20160623-365754/365754_tecocolumbiaspindhr.pdf\n",
      "https://eu.spindices.com/documents/indexnews/announcements/20160122-293975/293975_soofrtbrcmcwcray5poolabg462ann.pdf?force_download=true\n",
      "http://us.spindices.com/documents/indexnews/announcements/20160621-364753/364753_cablehorse45mi.pdf?force_download=true\n",
      "http://www.spindices.com/documents/indexnews/announcements/20160629-369149/369149_1lntswxsstk546.pdf\n",
      "https://eu.spindices.com/documents/indexnews/announcements/20170103-465757/465757_idxx5cc4shak6.pdf?force_download=true\n",
      "https://www.spindices.com/documents/indexnews/announcements/20170612-539353/539353_everpinneast546.pdf\n",
      "http://www.spindices.com/documents/indexnews/announcements/20160510-345162/345162_alaskatotexascavs.pdf\n",
      "https://www.spindices.com/documents/indexnews/announcements/20160927-409359/409359_2coty5do4oth.pdf\n",
      "https://jp.spindices.com/documents/indexnews/announcements/20170609-538160/538160_yhoohlt5anssalgnrydertera.pdf?force_download=true\n",
      "http://www.spindices.com/documents/indexnews/announcements/20170306-493956/493956_lineardish5.pdf\n",
      "https://us.spindices.com/documents/index-news-and-announcements/AAshufspinsept2013vrtxamesaiamd.pdf\n",
      "https://www.spindices.com/documents/indexnews/announcements/20171004-593950/593950_cruise5century6pacific.pdf\n",
      "https://www.spindices.com/documents/indexnews/announcements/20160407-329544/329544_ulta5tenet24jah.pdf\n",
      "https://www.spindices.com/documents/indexnews/announcements/20170329-505361/505361_mentit5cebhskadnb46.pdf\n",
      "https://www.spindices.com/documents/indexnews/announcements/20170328-504361/504361_cscswn54.pdf\n",
      "https://au.spindices.com/documents/indexnews/announcements/20180302-671577/671577_ipgalenymtgnl5466.pdf?force_download=true\n",
      "http://www.spindices.com/documents/indexnews/announcements/20160328-323362/323362_footcam5dctindustrial4.pdf\n",
      "https://au.spindices.com/documents/indexnews/announcements/20160524-351348/351348_cceajgedraxl546.pdf?force_download=true\n",
      "https://eu.spindices.com/documents/indexnews/announcements/20170824-572951/572951_500dowdupont1chartsbacwfm.pdf?force_download=true\n",
      "http://www.spindices.com/documents/indexnews/announcements/20151109-259953/259953_split0ffsyf5ge4rovi4virginia.pdf\n",
      "http://www.spindices.com/documents/indexnews/announcements/20151112-261545/261545_illumin5sigma.pdf\n",
      "https://www.spindices.com/documents/indexnews/announcements/20150309-152351/152351_petskyjet546.pdf\n",
      "http://www.spindices.com/documents/indexnews/announcements/20160301-312347/312347_524slhcnxawk.pdf\n",
      "https://us.spindices.com/documents/indexnews/announcements/20131211/67155_fbshuf252426100.pdf\n",
      "http://www.spindices.com/documents/indexnews/announcements/20150930-242147/242147_4thorverisk5.pdf\n",
      "http://www.spindices.com/documents/indexnews/announcements/20160126-295550/295550_precisioncfg5mdaszltq66peprmaxsoo.pdf\n",
      "https://www.spindices.com/documents/indexnews/announcements/20180309-675150/675150_idesshuf18nktr.pdf\n",
      "https://us.spindices.com/documents/indexnews/announcements/20151027-253375/253375_bbz2hpspinzerohudsonexterranspin6451.pdf?force_download=true\n"
     ]
    },
    {
     "ename": "ConnectionError",
     "evalue": "HTTPConnectionPool(host='stg.spindices.com', port=80): Max retries exceeded with url: /documents/indexnews/announcements/20150706-204357/204357_dollarjackcontact546.pdf (Caused by NewConnectionError('<urllib3.connection.HTTPConnection object at 0x0000021D19A414C8>: Failed to establish a new connection: [WinError 10060] A connection attempt failed because the connected party did not properly respond after a period of time, or established connection failed because connected host has failed to respond'))",
     "output_type": "error",
     "traceback": [
      "\u001b[1;31m---------------------------------------------------------------------------\u001b[0m",
      "\u001b[1;31mTimeoutError\u001b[0m                              Traceback (most recent call last)",
      "\u001b[1;32m~\\Anaconda3\\envs\\finance\\lib\\site-packages\\urllib3\\connection.py\u001b[0m in \u001b[0;36m_new_conn\u001b[1;34m(self)\u001b[0m\n\u001b[0;32m    156\u001b[0m             conn = connection.create_connection(\n\u001b[1;32m--> 157\u001b[1;33m                 \u001b[1;33m(\u001b[0m\u001b[0mself\u001b[0m\u001b[1;33m.\u001b[0m\u001b[0m_dns_host\u001b[0m\u001b[1;33m,\u001b[0m \u001b[0mself\u001b[0m\u001b[1;33m.\u001b[0m\u001b[0mport\u001b[0m\u001b[1;33m)\u001b[0m\u001b[1;33m,\u001b[0m \u001b[0mself\u001b[0m\u001b[1;33m.\u001b[0m\u001b[0mtimeout\u001b[0m\u001b[1;33m,\u001b[0m \u001b[1;33m**\u001b[0m\u001b[0mextra_kw\u001b[0m\u001b[1;33m\u001b[0m\u001b[1;33m\u001b[0m\u001b[0m\n\u001b[0m\u001b[0;32m    158\u001b[0m             )\n",
      "\u001b[1;32m~\\Anaconda3\\envs\\finance\\lib\\site-packages\\urllib3\\util\\connection.py\u001b[0m in \u001b[0;36mcreate_connection\u001b[1;34m(address, timeout, source_address, socket_options)\u001b[0m\n\u001b[0;32m     83\u001b[0m     \u001b[1;32mif\u001b[0m \u001b[0merr\u001b[0m \u001b[1;32mis\u001b[0m \u001b[1;32mnot\u001b[0m \u001b[1;32mNone\u001b[0m\u001b[1;33m:\u001b[0m\u001b[1;33m\u001b[0m\u001b[1;33m\u001b[0m\u001b[0m\n\u001b[1;32m---> 84\u001b[1;33m         \u001b[1;32mraise\u001b[0m \u001b[0merr\u001b[0m\u001b[1;33m\u001b[0m\u001b[1;33m\u001b[0m\u001b[0m\n\u001b[0m\u001b[0;32m     85\u001b[0m \u001b[1;33m\u001b[0m\u001b[0m\n",
      "\u001b[1;32m~\\Anaconda3\\envs\\finance\\lib\\site-packages\\urllib3\\util\\connection.py\u001b[0m in \u001b[0;36mcreate_connection\u001b[1;34m(address, timeout, source_address, socket_options)\u001b[0m\n\u001b[0;32m     73\u001b[0m                 \u001b[0msock\u001b[0m\u001b[1;33m.\u001b[0m\u001b[0mbind\u001b[0m\u001b[1;33m(\u001b[0m\u001b[0msource_address\u001b[0m\u001b[1;33m)\u001b[0m\u001b[1;33m\u001b[0m\u001b[1;33m\u001b[0m\u001b[0m\n\u001b[1;32m---> 74\u001b[1;33m             \u001b[0msock\u001b[0m\u001b[1;33m.\u001b[0m\u001b[0mconnect\u001b[0m\u001b[1;33m(\u001b[0m\u001b[0msa\u001b[0m\u001b[1;33m)\u001b[0m\u001b[1;33m\u001b[0m\u001b[1;33m\u001b[0m\u001b[0m\n\u001b[0m\u001b[0;32m     75\u001b[0m             \u001b[1;32mreturn\u001b[0m \u001b[0msock\u001b[0m\u001b[1;33m\u001b[0m\u001b[1;33m\u001b[0m\u001b[0m\n",
      "\u001b[1;31mTimeoutError\u001b[0m: [WinError 10060] A connection attempt failed because the connected party did not properly respond after a period of time, or established connection failed because connected host has failed to respond",
      "\nDuring handling of the above exception, another exception occurred:\n",
      "\u001b[1;31mNewConnectionError\u001b[0m                        Traceback (most recent call last)",
      "\u001b[1;32m~\\Anaconda3\\envs\\finance\\lib\\site-packages\\urllib3\\connectionpool.py\u001b[0m in \u001b[0;36murlopen\u001b[1;34m(self, method, url, body, headers, retries, redirect, assert_same_host, timeout, pool_timeout, release_conn, chunked, body_pos, **response_kw)\u001b[0m\n\u001b[0;32m    671\u001b[0m                 \u001b[0mheaders\u001b[0m\u001b[1;33m=\u001b[0m\u001b[0mheaders\u001b[0m\u001b[1;33m,\u001b[0m\u001b[1;33m\u001b[0m\u001b[1;33m\u001b[0m\u001b[0m\n\u001b[1;32m--> 672\u001b[1;33m                 \u001b[0mchunked\u001b[0m\u001b[1;33m=\u001b[0m\u001b[0mchunked\u001b[0m\u001b[1;33m,\u001b[0m\u001b[1;33m\u001b[0m\u001b[1;33m\u001b[0m\u001b[0m\n\u001b[0m\u001b[0;32m    673\u001b[0m             )\n",
      "\u001b[1;32m~\\Anaconda3\\envs\\finance\\lib\\site-packages\\urllib3\\connectionpool.py\u001b[0m in \u001b[0;36m_make_request\u001b[1;34m(self, conn, method, url, timeout, chunked, **httplib_request_kw)\u001b[0m\n\u001b[0;32m    386\u001b[0m         \u001b[1;32melse\u001b[0m\u001b[1;33m:\u001b[0m\u001b[1;33m\u001b[0m\u001b[1;33m\u001b[0m\u001b[0m\n\u001b[1;32m--> 387\u001b[1;33m             \u001b[0mconn\u001b[0m\u001b[1;33m.\u001b[0m\u001b[0mrequest\u001b[0m\u001b[1;33m(\u001b[0m\u001b[0mmethod\u001b[0m\u001b[1;33m,\u001b[0m \u001b[0murl\u001b[0m\u001b[1;33m,\u001b[0m \u001b[1;33m**\u001b[0m\u001b[0mhttplib_request_kw\u001b[0m\u001b[1;33m)\u001b[0m\u001b[1;33m\u001b[0m\u001b[1;33m\u001b[0m\u001b[0m\n\u001b[0m\u001b[0;32m    388\u001b[0m \u001b[1;33m\u001b[0m\u001b[0m\n",
      "\u001b[1;32m~\\Anaconda3\\envs\\finance\\lib\\http\\client.py\u001b[0m in \u001b[0;36mrequest\u001b[1;34m(self, method, url, body, headers, encode_chunked)\u001b[0m\n\u001b[0;32m   1251\u001b[0m         \u001b[1;34m\"\"\"Send a complete request to the server.\"\"\"\u001b[0m\u001b[1;33m\u001b[0m\u001b[1;33m\u001b[0m\u001b[0m\n\u001b[1;32m-> 1252\u001b[1;33m         \u001b[0mself\u001b[0m\u001b[1;33m.\u001b[0m\u001b[0m_send_request\u001b[0m\u001b[1;33m(\u001b[0m\u001b[0mmethod\u001b[0m\u001b[1;33m,\u001b[0m \u001b[0murl\u001b[0m\u001b[1;33m,\u001b[0m \u001b[0mbody\u001b[0m\u001b[1;33m,\u001b[0m \u001b[0mheaders\u001b[0m\u001b[1;33m,\u001b[0m \u001b[0mencode_chunked\u001b[0m\u001b[1;33m)\u001b[0m\u001b[1;33m\u001b[0m\u001b[1;33m\u001b[0m\u001b[0m\n\u001b[0m\u001b[0;32m   1253\u001b[0m \u001b[1;33m\u001b[0m\u001b[0m\n",
      "\u001b[1;32m~\\Anaconda3\\envs\\finance\\lib\\http\\client.py\u001b[0m in \u001b[0;36m_send_request\u001b[1;34m(self, method, url, body, headers, encode_chunked)\u001b[0m\n\u001b[0;32m   1297\u001b[0m             \u001b[0mbody\u001b[0m \u001b[1;33m=\u001b[0m \u001b[0m_encode\u001b[0m\u001b[1;33m(\u001b[0m\u001b[0mbody\u001b[0m\u001b[1;33m,\u001b[0m \u001b[1;34m'body'\u001b[0m\u001b[1;33m)\u001b[0m\u001b[1;33m\u001b[0m\u001b[1;33m\u001b[0m\u001b[0m\n\u001b[1;32m-> 1298\u001b[1;33m         \u001b[0mself\u001b[0m\u001b[1;33m.\u001b[0m\u001b[0mendheaders\u001b[0m\u001b[1;33m(\u001b[0m\u001b[0mbody\u001b[0m\u001b[1;33m,\u001b[0m \u001b[0mencode_chunked\u001b[0m\u001b[1;33m=\u001b[0m\u001b[0mencode_chunked\u001b[0m\u001b[1;33m)\u001b[0m\u001b[1;33m\u001b[0m\u001b[1;33m\u001b[0m\u001b[0m\n\u001b[0m\u001b[0;32m   1299\u001b[0m \u001b[1;33m\u001b[0m\u001b[0m\n",
      "\u001b[1;32m~\\Anaconda3\\envs\\finance\\lib\\http\\client.py\u001b[0m in \u001b[0;36mendheaders\u001b[1;34m(self, message_body, encode_chunked)\u001b[0m\n\u001b[0;32m   1246\u001b[0m             \u001b[1;32mraise\u001b[0m \u001b[0mCannotSendHeader\u001b[0m\u001b[1;33m(\u001b[0m\u001b[1;33m)\u001b[0m\u001b[1;33m\u001b[0m\u001b[1;33m\u001b[0m\u001b[0m\n\u001b[1;32m-> 1247\u001b[1;33m         \u001b[0mself\u001b[0m\u001b[1;33m.\u001b[0m\u001b[0m_send_output\u001b[0m\u001b[1;33m(\u001b[0m\u001b[0mmessage_body\u001b[0m\u001b[1;33m,\u001b[0m \u001b[0mencode_chunked\u001b[0m\u001b[1;33m=\u001b[0m\u001b[0mencode_chunked\u001b[0m\u001b[1;33m)\u001b[0m\u001b[1;33m\u001b[0m\u001b[1;33m\u001b[0m\u001b[0m\n\u001b[0m\u001b[0;32m   1248\u001b[0m \u001b[1;33m\u001b[0m\u001b[0m\n",
      "\u001b[1;32m~\\Anaconda3\\envs\\finance\\lib\\http\\client.py\u001b[0m in \u001b[0;36m_send_output\u001b[1;34m(self, message_body, encode_chunked)\u001b[0m\n\u001b[0;32m   1025\u001b[0m         \u001b[1;32mdel\u001b[0m \u001b[0mself\u001b[0m\u001b[1;33m.\u001b[0m\u001b[0m_buffer\u001b[0m\u001b[1;33m[\u001b[0m\u001b[1;33m:\u001b[0m\u001b[1;33m]\u001b[0m\u001b[1;33m\u001b[0m\u001b[1;33m\u001b[0m\u001b[0m\n\u001b[1;32m-> 1026\u001b[1;33m         \u001b[0mself\u001b[0m\u001b[1;33m.\u001b[0m\u001b[0msend\u001b[0m\u001b[1;33m(\u001b[0m\u001b[0mmsg\u001b[0m\u001b[1;33m)\u001b[0m\u001b[1;33m\u001b[0m\u001b[1;33m\u001b[0m\u001b[0m\n\u001b[0m\u001b[0;32m   1027\u001b[0m \u001b[1;33m\u001b[0m\u001b[0m\n",
      "\u001b[1;32m~\\Anaconda3\\envs\\finance\\lib\\http\\client.py\u001b[0m in \u001b[0;36msend\u001b[1;34m(self, data)\u001b[0m\n\u001b[0;32m    965\u001b[0m             \u001b[1;32mif\u001b[0m \u001b[0mself\u001b[0m\u001b[1;33m.\u001b[0m\u001b[0mauto_open\u001b[0m\u001b[1;33m:\u001b[0m\u001b[1;33m\u001b[0m\u001b[1;33m\u001b[0m\u001b[0m\n\u001b[1;32m--> 966\u001b[1;33m                 \u001b[0mself\u001b[0m\u001b[1;33m.\u001b[0m\u001b[0mconnect\u001b[0m\u001b[1;33m(\u001b[0m\u001b[1;33m)\u001b[0m\u001b[1;33m\u001b[0m\u001b[1;33m\u001b[0m\u001b[0m\n\u001b[0m\u001b[0;32m    967\u001b[0m             \u001b[1;32melse\u001b[0m\u001b[1;33m:\u001b[0m\u001b[1;33m\u001b[0m\u001b[1;33m\u001b[0m\u001b[0m\n",
      "\u001b[1;32m~\\Anaconda3\\envs\\finance\\lib\\site-packages\\urllib3\\connection.py\u001b[0m in \u001b[0;36mconnect\u001b[1;34m(self)\u001b[0m\n\u001b[0;32m    183\u001b[0m     \u001b[1;32mdef\u001b[0m \u001b[0mconnect\u001b[0m\u001b[1;33m(\u001b[0m\u001b[0mself\u001b[0m\u001b[1;33m)\u001b[0m\u001b[1;33m:\u001b[0m\u001b[1;33m\u001b[0m\u001b[1;33m\u001b[0m\u001b[0m\n\u001b[1;32m--> 184\u001b[1;33m         \u001b[0mconn\u001b[0m \u001b[1;33m=\u001b[0m \u001b[0mself\u001b[0m\u001b[1;33m.\u001b[0m\u001b[0m_new_conn\u001b[0m\u001b[1;33m(\u001b[0m\u001b[1;33m)\u001b[0m\u001b[1;33m\u001b[0m\u001b[1;33m\u001b[0m\u001b[0m\n\u001b[0m\u001b[0;32m    185\u001b[0m         \u001b[0mself\u001b[0m\u001b[1;33m.\u001b[0m\u001b[0m_prepare_conn\u001b[0m\u001b[1;33m(\u001b[0m\u001b[0mconn\u001b[0m\u001b[1;33m)\u001b[0m\u001b[1;33m\u001b[0m\u001b[1;33m\u001b[0m\u001b[0m\n",
      "\u001b[1;32m~\\Anaconda3\\envs\\finance\\lib\\site-packages\\urllib3\\connection.py\u001b[0m in \u001b[0;36m_new_conn\u001b[1;34m(self)\u001b[0m\n\u001b[0;32m    168\u001b[0m             raise NewConnectionError(\n\u001b[1;32m--> 169\u001b[1;33m                 \u001b[0mself\u001b[0m\u001b[1;33m,\u001b[0m \u001b[1;34m\"Failed to establish a new connection: %s\"\u001b[0m \u001b[1;33m%\u001b[0m \u001b[0me\u001b[0m\u001b[1;33m\u001b[0m\u001b[1;33m\u001b[0m\u001b[0m\n\u001b[0m\u001b[0;32m    170\u001b[0m             )\n",
      "\u001b[1;31mNewConnectionError\u001b[0m: <urllib3.connection.HTTPConnection object at 0x0000021D19A414C8>: Failed to establish a new connection: [WinError 10060] A connection attempt failed because the connected party did not properly respond after a period of time, or established connection failed because connected host has failed to respond",
      "\nDuring handling of the above exception, another exception occurred:\n",
      "\u001b[1;31mMaxRetryError\u001b[0m                             Traceback (most recent call last)",
      "\u001b[1;32m~\\Anaconda3\\envs\\finance\\lib\\site-packages\\requests\\adapters.py\u001b[0m in \u001b[0;36msend\u001b[1;34m(self, request, stream, timeout, verify, cert, proxies)\u001b[0m\n\u001b[0;32m    448\u001b[0m                     \u001b[0mretries\u001b[0m\u001b[1;33m=\u001b[0m\u001b[0mself\u001b[0m\u001b[1;33m.\u001b[0m\u001b[0mmax_retries\u001b[0m\u001b[1;33m,\u001b[0m\u001b[1;33m\u001b[0m\u001b[1;33m\u001b[0m\u001b[0m\n\u001b[1;32m--> 449\u001b[1;33m                     \u001b[0mtimeout\u001b[0m\u001b[1;33m=\u001b[0m\u001b[0mtimeout\u001b[0m\u001b[1;33m\u001b[0m\u001b[1;33m\u001b[0m\u001b[0m\n\u001b[0m\u001b[0;32m    450\u001b[0m                 )\n",
      "\u001b[1;32m~\\Anaconda3\\envs\\finance\\lib\\site-packages\\urllib3\\connectionpool.py\u001b[0m in \u001b[0;36murlopen\u001b[1;34m(self, method, url, body, headers, retries, redirect, assert_same_host, timeout, pool_timeout, release_conn, chunked, body_pos, **response_kw)\u001b[0m\n\u001b[0;32m    719\u001b[0m             retries = retries.increment(\n\u001b[1;32m--> 720\u001b[1;33m                 \u001b[0mmethod\u001b[0m\u001b[1;33m,\u001b[0m \u001b[0murl\u001b[0m\u001b[1;33m,\u001b[0m \u001b[0merror\u001b[0m\u001b[1;33m=\u001b[0m\u001b[0me\u001b[0m\u001b[1;33m,\u001b[0m \u001b[0m_pool\u001b[0m\u001b[1;33m=\u001b[0m\u001b[0mself\u001b[0m\u001b[1;33m,\u001b[0m \u001b[0m_stacktrace\u001b[0m\u001b[1;33m=\u001b[0m\u001b[0msys\u001b[0m\u001b[1;33m.\u001b[0m\u001b[0mexc_info\u001b[0m\u001b[1;33m(\u001b[0m\u001b[1;33m)\u001b[0m\u001b[1;33m[\u001b[0m\u001b[1;36m2\u001b[0m\u001b[1;33m]\u001b[0m\u001b[1;33m\u001b[0m\u001b[1;33m\u001b[0m\u001b[0m\n\u001b[0m\u001b[0;32m    721\u001b[0m             )\n",
      "\u001b[1;32m~\\Anaconda3\\envs\\finance\\lib\\site-packages\\urllib3\\util\\retry.py\u001b[0m in \u001b[0;36mincrement\u001b[1;34m(self, method, url, response, error, _pool, _stacktrace)\u001b[0m\n\u001b[0;32m    435\u001b[0m         \u001b[1;32mif\u001b[0m \u001b[0mnew_retry\u001b[0m\u001b[1;33m.\u001b[0m\u001b[0mis_exhausted\u001b[0m\u001b[1;33m(\u001b[0m\u001b[1;33m)\u001b[0m\u001b[1;33m:\u001b[0m\u001b[1;33m\u001b[0m\u001b[1;33m\u001b[0m\u001b[0m\n\u001b[1;32m--> 436\u001b[1;33m             \u001b[1;32mraise\u001b[0m \u001b[0mMaxRetryError\u001b[0m\u001b[1;33m(\u001b[0m\u001b[0m_pool\u001b[0m\u001b[1;33m,\u001b[0m \u001b[0murl\u001b[0m\u001b[1;33m,\u001b[0m \u001b[0merror\u001b[0m \u001b[1;32mor\u001b[0m \u001b[0mResponseError\u001b[0m\u001b[1;33m(\u001b[0m\u001b[0mcause\u001b[0m\u001b[1;33m)\u001b[0m\u001b[1;33m)\u001b[0m\u001b[1;33m\u001b[0m\u001b[1;33m\u001b[0m\u001b[0m\n\u001b[0m\u001b[0;32m    437\u001b[0m \u001b[1;33m\u001b[0m\u001b[0m\n",
      "\u001b[1;31mMaxRetryError\u001b[0m: HTTPConnectionPool(host='stg.spindices.com', port=80): Max retries exceeded with url: /documents/indexnews/announcements/20150706-204357/204357_dollarjackcontact546.pdf (Caused by NewConnectionError('<urllib3.connection.HTTPConnection object at 0x0000021D19A414C8>: Failed to establish a new connection: [WinError 10060] A connection attempt failed because the connected party did not properly respond after a period of time, or established connection failed because connected host has failed to respond'))",
      "\nDuring handling of the above exception, another exception occurred:\n",
      "\u001b[1;31mConnectionError\u001b[0m                           Traceback (most recent call last)",
      "\u001b[1;32m<ipython-input-74-a952165c03a5>\u001b[0m in \u001b[0;36m<module>\u001b[1;34m\u001b[0m\n\u001b[0;32m      1\u001b[0m \u001b[1;32mfor\u001b[0m \u001b[0mresult\u001b[0m \u001b[1;32min\u001b[0m \u001b[0mresults\u001b[0m\u001b[1;33m:\u001b[0m\u001b[1;33m\u001b[0m\u001b[1;33m\u001b[0m\u001b[0m\n\u001b[1;32m----> 2\u001b[1;33m     \u001b[0mdownload_file\u001b[0m\u001b[1;33m(\u001b[0m\u001b[0mresult\u001b[0m\u001b[1;33m)\u001b[0m\u001b[1;33m\u001b[0m\u001b[1;33m\u001b[0m\u001b[0m\n\u001b[0m\u001b[0;32m      3\u001b[0m     \u001b[0mprint\u001b[0m\u001b[1;33m(\u001b[0m\u001b[0mresult\u001b[0m\u001b[1;33m)\u001b[0m\u001b[1;33m\u001b[0m\u001b[1;33m\u001b[0m\u001b[0m\n",
      "\u001b[1;32m<ipython-input-72-91a2cb0d225b>\u001b[0m in \u001b[0;36mdownload_file\u001b[1;34m(url)\u001b[0m\n\u001b[0;32m      1\u001b[0m \u001b[1;32mdef\u001b[0m \u001b[0mdownload_file\u001b[0m\u001b[1;33m(\u001b[0m\u001b[0murl\u001b[0m\u001b[1;33m)\u001b[0m\u001b[1;33m:\u001b[0m\u001b[1;33m\u001b[0m\u001b[1;33m\u001b[0m\u001b[0m\n\u001b[1;32m----> 2\u001b[1;33m     \u001b[0mfile\u001b[0m \u001b[1;33m=\u001b[0m \u001b[0mrequests\u001b[0m\u001b[1;33m.\u001b[0m\u001b[0mget\u001b[0m\u001b[1;33m(\u001b[0m\u001b[0murl\u001b[0m\u001b[1;33m,\u001b[0m \u001b[0mstream\u001b[0m\u001b[1;33m=\u001b[0m\u001b[1;32mTrue\u001b[0m\u001b[1;33m)\u001b[0m\u001b[1;33m\u001b[0m\u001b[1;33m\u001b[0m\u001b[0m\n\u001b[0m\u001b[0;32m      3\u001b[0m     \u001b[0mheaders\u001b[0m \u001b[1;33m=\u001b[0m \u001b[0mfile\u001b[0m\u001b[1;33m.\u001b[0m\u001b[0mheaders\u001b[0m\u001b[1;33m[\u001b[0m\u001b[1;34m'content-disposition'\u001b[0m\u001b[1;33m]\u001b[0m\u001b[1;33m\u001b[0m\u001b[1;33m\u001b[0m\u001b[0m\n\u001b[0;32m      4\u001b[0m     \u001b[0mfilename\u001b[0m \u001b[1;33m=\u001b[0m \u001b[0mre\u001b[0m\u001b[1;33m.\u001b[0m\u001b[0mfindall\u001b[0m\u001b[1;33m(\u001b[0m\u001b[1;34m\"filename=\\\"(.+)\\\"\"\u001b[0m\u001b[1;33m,\u001b[0m \u001b[0mheaders\u001b[0m\u001b[1;33m)\u001b[0m\u001b[1;33m[\u001b[0m\u001b[1;36m0\u001b[0m\u001b[1;33m]\u001b[0m\u001b[1;33m\u001b[0m\u001b[1;33m\u001b[0m\u001b[0m\n\u001b[0;32m      5\u001b[0m     \u001b[0mlocation\u001b[0m \u001b[1;33m=\u001b[0m \u001b[0mos\u001b[0m\u001b[1;33m.\u001b[0m\u001b[0mpath\u001b[0m\u001b[1;33m.\u001b[0m\u001b[0mrelpath\u001b[0m\u001b[1;33m(\u001b[0m\u001b[0mdirPath\u001b[0m \u001b[1;33m+\u001b[0m \u001b[0mfilename\u001b[0m\u001b[1;33m)\u001b[0m\u001b[1;33m\u001b[0m\u001b[1;33m\u001b[0m\u001b[0m\n",
      "\u001b[1;32m~\\Anaconda3\\envs\\finance\\lib\\site-packages\\requests\\api.py\u001b[0m in \u001b[0;36mget\u001b[1;34m(url, params, **kwargs)\u001b[0m\n\u001b[0;32m     73\u001b[0m \u001b[1;33m\u001b[0m\u001b[0m\n\u001b[0;32m     74\u001b[0m     \u001b[0mkwargs\u001b[0m\u001b[1;33m.\u001b[0m\u001b[0msetdefault\u001b[0m\u001b[1;33m(\u001b[0m\u001b[1;34m'allow_redirects'\u001b[0m\u001b[1;33m,\u001b[0m \u001b[1;32mTrue\u001b[0m\u001b[1;33m)\u001b[0m\u001b[1;33m\u001b[0m\u001b[1;33m\u001b[0m\u001b[0m\n\u001b[1;32m---> 75\u001b[1;33m     \u001b[1;32mreturn\u001b[0m \u001b[0mrequest\u001b[0m\u001b[1;33m(\u001b[0m\u001b[1;34m'get'\u001b[0m\u001b[1;33m,\u001b[0m \u001b[0murl\u001b[0m\u001b[1;33m,\u001b[0m \u001b[0mparams\u001b[0m\u001b[1;33m=\u001b[0m\u001b[0mparams\u001b[0m\u001b[1;33m,\u001b[0m \u001b[1;33m**\u001b[0m\u001b[0mkwargs\u001b[0m\u001b[1;33m)\u001b[0m\u001b[1;33m\u001b[0m\u001b[1;33m\u001b[0m\u001b[0m\n\u001b[0m\u001b[0;32m     76\u001b[0m \u001b[1;33m\u001b[0m\u001b[0m\n\u001b[0;32m     77\u001b[0m \u001b[1;33m\u001b[0m\u001b[0m\n",
      "\u001b[1;32m~\\Anaconda3\\envs\\finance\\lib\\site-packages\\requests\\api.py\u001b[0m in \u001b[0;36mrequest\u001b[1;34m(method, url, **kwargs)\u001b[0m\n\u001b[0;32m     58\u001b[0m     \u001b[1;31m# cases, and look like a memory leak in others.\u001b[0m\u001b[1;33m\u001b[0m\u001b[1;33m\u001b[0m\u001b[1;33m\u001b[0m\u001b[0m\n\u001b[0;32m     59\u001b[0m     \u001b[1;32mwith\u001b[0m \u001b[0msessions\u001b[0m\u001b[1;33m.\u001b[0m\u001b[0mSession\u001b[0m\u001b[1;33m(\u001b[0m\u001b[1;33m)\u001b[0m \u001b[1;32mas\u001b[0m \u001b[0msession\u001b[0m\u001b[1;33m:\u001b[0m\u001b[1;33m\u001b[0m\u001b[1;33m\u001b[0m\u001b[0m\n\u001b[1;32m---> 60\u001b[1;33m         \u001b[1;32mreturn\u001b[0m \u001b[0msession\u001b[0m\u001b[1;33m.\u001b[0m\u001b[0mrequest\u001b[0m\u001b[1;33m(\u001b[0m\u001b[0mmethod\u001b[0m\u001b[1;33m=\u001b[0m\u001b[0mmethod\u001b[0m\u001b[1;33m,\u001b[0m \u001b[0murl\u001b[0m\u001b[1;33m=\u001b[0m\u001b[0murl\u001b[0m\u001b[1;33m,\u001b[0m \u001b[1;33m**\u001b[0m\u001b[0mkwargs\u001b[0m\u001b[1;33m)\u001b[0m\u001b[1;33m\u001b[0m\u001b[1;33m\u001b[0m\u001b[0m\n\u001b[0m\u001b[0;32m     61\u001b[0m \u001b[1;33m\u001b[0m\u001b[0m\n\u001b[0;32m     62\u001b[0m \u001b[1;33m\u001b[0m\u001b[0m\n",
      "\u001b[1;32m~\\Anaconda3\\envs\\finance\\lib\\site-packages\\requests\\sessions.py\u001b[0m in \u001b[0;36mrequest\u001b[1;34m(self, method, url, params, data, headers, cookies, files, auth, timeout, allow_redirects, proxies, hooks, stream, verify, cert, json)\u001b[0m\n\u001b[0;32m    531\u001b[0m         }\n\u001b[0;32m    532\u001b[0m         \u001b[0msend_kwargs\u001b[0m\u001b[1;33m.\u001b[0m\u001b[0mupdate\u001b[0m\u001b[1;33m(\u001b[0m\u001b[0msettings\u001b[0m\u001b[1;33m)\u001b[0m\u001b[1;33m\u001b[0m\u001b[1;33m\u001b[0m\u001b[0m\n\u001b[1;32m--> 533\u001b[1;33m         \u001b[0mresp\u001b[0m \u001b[1;33m=\u001b[0m \u001b[0mself\u001b[0m\u001b[1;33m.\u001b[0m\u001b[0msend\u001b[0m\u001b[1;33m(\u001b[0m\u001b[0mprep\u001b[0m\u001b[1;33m,\u001b[0m \u001b[1;33m**\u001b[0m\u001b[0msend_kwargs\u001b[0m\u001b[1;33m)\u001b[0m\u001b[1;33m\u001b[0m\u001b[1;33m\u001b[0m\u001b[0m\n\u001b[0m\u001b[0;32m    534\u001b[0m \u001b[1;33m\u001b[0m\u001b[0m\n\u001b[0;32m    535\u001b[0m         \u001b[1;32mreturn\u001b[0m \u001b[0mresp\u001b[0m\u001b[1;33m\u001b[0m\u001b[1;33m\u001b[0m\u001b[0m\n",
      "\u001b[1;32m~\\Anaconda3\\envs\\finance\\lib\\site-packages\\requests\\sessions.py\u001b[0m in \u001b[0;36msend\u001b[1;34m(self, request, **kwargs)\u001b[0m\n\u001b[0;32m    644\u001b[0m \u001b[1;33m\u001b[0m\u001b[0m\n\u001b[0;32m    645\u001b[0m         \u001b[1;31m# Send the request\u001b[0m\u001b[1;33m\u001b[0m\u001b[1;33m\u001b[0m\u001b[1;33m\u001b[0m\u001b[0m\n\u001b[1;32m--> 646\u001b[1;33m         \u001b[0mr\u001b[0m \u001b[1;33m=\u001b[0m \u001b[0madapter\u001b[0m\u001b[1;33m.\u001b[0m\u001b[0msend\u001b[0m\u001b[1;33m(\u001b[0m\u001b[0mrequest\u001b[0m\u001b[1;33m,\u001b[0m \u001b[1;33m**\u001b[0m\u001b[0mkwargs\u001b[0m\u001b[1;33m)\u001b[0m\u001b[1;33m\u001b[0m\u001b[1;33m\u001b[0m\u001b[0m\n\u001b[0m\u001b[0;32m    647\u001b[0m \u001b[1;33m\u001b[0m\u001b[0m\n\u001b[0;32m    648\u001b[0m         \u001b[1;31m# Total elapsed time of the request (approximately)\u001b[0m\u001b[1;33m\u001b[0m\u001b[1;33m\u001b[0m\u001b[1;33m\u001b[0m\u001b[0m\n",
      "\u001b[1;32m~\\Anaconda3\\envs\\finance\\lib\\site-packages\\requests\\adapters.py\u001b[0m in \u001b[0;36msend\u001b[1;34m(self, request, stream, timeout, verify, cert, proxies)\u001b[0m\n\u001b[0;32m    514\u001b[0m                 \u001b[1;32mraise\u001b[0m \u001b[0mSSLError\u001b[0m\u001b[1;33m(\u001b[0m\u001b[0me\u001b[0m\u001b[1;33m,\u001b[0m \u001b[0mrequest\u001b[0m\u001b[1;33m=\u001b[0m\u001b[0mrequest\u001b[0m\u001b[1;33m)\u001b[0m\u001b[1;33m\u001b[0m\u001b[1;33m\u001b[0m\u001b[0m\n\u001b[0;32m    515\u001b[0m \u001b[1;33m\u001b[0m\u001b[0m\n\u001b[1;32m--> 516\u001b[1;33m             \u001b[1;32mraise\u001b[0m \u001b[0mConnectionError\u001b[0m\u001b[1;33m(\u001b[0m\u001b[0me\u001b[0m\u001b[1;33m,\u001b[0m \u001b[0mrequest\u001b[0m\u001b[1;33m=\u001b[0m\u001b[0mrequest\u001b[0m\u001b[1;33m)\u001b[0m\u001b[1;33m\u001b[0m\u001b[1;33m\u001b[0m\u001b[0m\n\u001b[0m\u001b[0;32m    517\u001b[0m \u001b[1;33m\u001b[0m\u001b[0m\n\u001b[0;32m    518\u001b[0m         \u001b[1;32mexcept\u001b[0m \u001b[0mClosedPoolError\u001b[0m \u001b[1;32mas\u001b[0m \u001b[0me\u001b[0m\u001b[1;33m:\u001b[0m\u001b[1;33m\u001b[0m\u001b[1;33m\u001b[0m\u001b[0m\n",
      "\u001b[1;31mConnectionError\u001b[0m: HTTPConnectionPool(host='stg.spindices.com', port=80): Max retries exceeded with url: /documents/indexnews/announcements/20150706-204357/204357_dollarjackcontact546.pdf (Caused by NewConnectionError('<urllib3.connection.HTTPConnection object at 0x0000021D19A414C8>: Failed to establish a new connection: [WinError 10060] A connection attempt failed because the connected party did not properly respond after a period of time, or established connection failed because connected host has failed to respond'))"
     ]
    }
   ],
   "source": [
    "for result in results:\n",
    "    download_file(result)\n",
    "    print(result)"
   ]
  },
  {
   "cell_type": "code",
   "execution_count": 268,
   "metadata": {},
   "outputs": [],
   "source": [
    "columns = ['type', 'name', 'ticker', 'announcement_date', 'implementation_date']\n",
    "df = pd.DataFrame(columns=columns)"
   ]
  },
  {
   "cell_type": "code",
   "execution_count": 270,
   "metadata": {},
   "outputs": [],
   "source": [
    "def find_datetime_from_text(string):\n",
    "    match_results = re.search('[A-z]+ \\d\\d? ?, \\d{4}', string)\n",
    "    if match_results is None:\n",
    "        print('No date found in ' + string)\n",
    "        return None\n",
    "    date_string = match_results.group(0)\n",
    "    return datetime.strptime(date_string, '%B %d ?, %Y')"
   ]
  },
  {
   "cell_type": "code",
   "execution_count": 281,
   "metadata": {},
   "outputs": [],
   "source": [
    "string = date_string.string"
   ]
  },
  {
   "cell_type": "code",
   "execution_count": 284,
   "metadata": {},
   "outputs": [],
   "source": [
    "match_results = re.search('[A-z]+ \\d\\d?(\\W+)\\d{4}', string)"
   ]
  },
  {
   "cell_type": "code",
   "execution_count": 286,
   "metadata": {},
   "outputs": [],
   "source": [
    "matched_string = match_results.group(0)"
   ]
  },
  {
   "cell_type": "code",
   "execution_count": 294,
   "metadata": {},
   "outputs": [
    {
     "data": {
      "text/plain": [
       "['APRIL', '2', '2019']"
      ]
     },
     "execution_count": 294,
     "metadata": {},
     "output_type": "execute_result"
    }
   ],
   "source": [
    "re.split(\"\\W+\", matched_string)"
   ]
  },
  {
   "cell_type": "code",
   "execution_count": 273,
   "metadata": {},
   "outputs": [
    {
     "data": {
      "text/plain": [
       "'APRIL 2 , 2019'"
      ]
     },
     "execution_count": 273,
     "metadata": {},
     "output_type": "execute_result"
    }
   ],
   "source": [
    "date_string.group(0)"
   ]
  },
  {
   "cell_type": "code",
   "execution_count": 277,
   "metadata": {},
   "outputs": [
    {
     "ename": "ValueError",
     "evalue": "time data 'APRIL 2 , 2019' does not match format '%B %d[ ]?, %Y'",
     "output_type": "error",
     "traceback": [
      "\u001b[1;31m---------------------------------------------------------------------------\u001b[0m",
      "\u001b[1;31mValueError\u001b[0m                                Traceback (most recent call last)",
      "\u001b[1;32m<ipython-input-277-9d48cde8fabe>\u001b[0m in \u001b[0;36m<module>\u001b[1;34m\u001b[0m\n\u001b[1;32m----> 1\u001b[1;33m \u001b[0mdatetime\u001b[0m\u001b[1;33m.\u001b[0m\u001b[0mstrptime\u001b[0m\u001b[1;33m(\u001b[0m\u001b[0mdate_string\u001b[0m\u001b[1;33m.\u001b[0m\u001b[0mgroup\u001b[0m\u001b[1;33m(\u001b[0m\u001b[1;36m0\u001b[0m\u001b[1;33m)\u001b[0m\u001b[1;33m,\u001b[0m \u001b[1;34m'%B %d[ ]?, %Y'\u001b[0m\u001b[1;33m)\u001b[0m\u001b[1;33m\u001b[0m\u001b[1;33m\u001b[0m\u001b[0m\n\u001b[0m",
      "\u001b[1;32m~\\Anaconda3\\envs\\finance\\lib\\_strptime.py\u001b[0m in \u001b[0;36m_strptime_datetime\u001b[1;34m(cls, data_string, format)\u001b[0m\n\u001b[0;32m    575\u001b[0m     \"\"\"Return a class cls instance based on the input string and the\n\u001b[0;32m    576\u001b[0m     format string.\"\"\"\n\u001b[1;32m--> 577\u001b[1;33m     \u001b[0mtt\u001b[0m\u001b[1;33m,\u001b[0m \u001b[0mfraction\u001b[0m\u001b[1;33m,\u001b[0m \u001b[0mgmtoff_fraction\u001b[0m \u001b[1;33m=\u001b[0m \u001b[0m_strptime\u001b[0m\u001b[1;33m(\u001b[0m\u001b[0mdata_string\u001b[0m\u001b[1;33m,\u001b[0m \u001b[0mformat\u001b[0m\u001b[1;33m)\u001b[0m\u001b[1;33m\u001b[0m\u001b[1;33m\u001b[0m\u001b[0m\n\u001b[0m\u001b[0;32m    578\u001b[0m     \u001b[0mtzname\u001b[0m\u001b[1;33m,\u001b[0m \u001b[0mgmtoff\u001b[0m \u001b[1;33m=\u001b[0m \u001b[0mtt\u001b[0m\u001b[1;33m[\u001b[0m\u001b[1;33m-\u001b[0m\u001b[1;36m2\u001b[0m\u001b[1;33m:\u001b[0m\u001b[1;33m]\u001b[0m\u001b[1;33m\u001b[0m\u001b[1;33m\u001b[0m\u001b[0m\n\u001b[0;32m    579\u001b[0m     \u001b[0margs\u001b[0m \u001b[1;33m=\u001b[0m \u001b[0mtt\u001b[0m\u001b[1;33m[\u001b[0m\u001b[1;33m:\u001b[0m\u001b[1;36m6\u001b[0m\u001b[1;33m]\u001b[0m \u001b[1;33m+\u001b[0m \u001b[1;33m(\u001b[0m\u001b[0mfraction\u001b[0m\u001b[1;33m,\u001b[0m\u001b[1;33m)\u001b[0m\u001b[1;33m\u001b[0m\u001b[1;33m\u001b[0m\u001b[0m\n",
      "\u001b[1;32m~\\Anaconda3\\envs\\finance\\lib\\_strptime.py\u001b[0m in \u001b[0;36m_strptime\u001b[1;34m(data_string, format)\u001b[0m\n\u001b[0;32m    357\u001b[0m     \u001b[1;32mif\u001b[0m \u001b[1;32mnot\u001b[0m \u001b[0mfound\u001b[0m\u001b[1;33m:\u001b[0m\u001b[1;33m\u001b[0m\u001b[1;33m\u001b[0m\u001b[0m\n\u001b[0;32m    358\u001b[0m         raise ValueError(\"time data %r does not match format %r\" %\n\u001b[1;32m--> 359\u001b[1;33m                          (data_string, format))\n\u001b[0m\u001b[0;32m    360\u001b[0m     \u001b[1;32mif\u001b[0m \u001b[0mlen\u001b[0m\u001b[1;33m(\u001b[0m\u001b[0mdata_string\u001b[0m\u001b[1;33m)\u001b[0m \u001b[1;33m!=\u001b[0m \u001b[0mfound\u001b[0m\u001b[1;33m.\u001b[0m\u001b[0mend\u001b[0m\u001b[1;33m(\u001b[0m\u001b[1;33m)\u001b[0m\u001b[1;33m:\u001b[0m\u001b[1;33m\u001b[0m\u001b[1;33m\u001b[0m\u001b[0m\n\u001b[0;32m    361\u001b[0m         raise ValueError(\"unconverted data remains: %s\" %\n",
      "\u001b[1;31mValueError\u001b[0m: time data 'APRIL 2 , 2019' does not match format '%B %d[ ]?, %Y'"
     ]
    }
   ],
   "source": [
    "datetime.strptime(date_string.group(0), '%B %d[ ]?, %Y')"
   ]
  },
  {
   "cell_type": "code",
   "execution_count": 178,
   "metadata": {},
   "outputs": [],
   "source": [
    "def get_ticker_by_name(stock_name):\n",
    "    '''\n",
    "    Takes in a stock_name in string,\n",
    "    Returns the ticker in string\n",
    "    '''\n",
    "    encoded_stock_name = urllib.parse.quote(stock_name)\n",
    "    url = \"https://s.yimg.com/aq/autoc?query=\" + encoded_stock_name + \"&lang=en-US\"\n",
    "    response = requests.get(url)\n",
    "    json_response = response.json()\n",
    "    results = json_response['ResultSet']['Result']\n",
    "    if len(results) == 0:\n",
    "        print('No ticker found.')\n",
    "        ticker = None\n",
    "    else:\n",
    "        ticker = results[0]['symbol']\n",
    "    response.close()\n",
    "    return ticker"
   ]
  },
  {
   "cell_type": "code",
   "execution_count": 269,
   "metadata": {
    "scrolled": false
   },
   "outputs": [
    {
     "name": "stdout",
     "output_type": "stream",
     "text": [
      "[['S&P 500 INDEX – September 26, 2019', None, None, None], ['', 'COMPANY', 'GICS ECONOMIC SECTOR', 'GICS SUB-INDUSTRY'], ['ADDED', 'NVR', 'Consumer Discretionary', 'Homebuilding'], ['DELETED', 'Jefferies \\nFinancial Group', 'Financials', 'Multi-Sector Holdings']]\n",
      "[['S&P 500 INDEX – October 3, 2019', None, None, None], ['', 'COMPANY', 'GICS ECONOMIC SECTOR', 'GICS SUB-INDUSTRY'], ['ADDED', 'Las Vegas \\nSands', 'Consumer Discretionary', 'Casinos & Gaming'], ['DELETED', 'Nektar \\nTherapeutics', 'Health Care', 'Pharmaceuticals']]\n",
      "[['S&P 500 INDEX – December 5, 2019', None, None, None], ['', 'COMPANY', 'GICS ECONOMIC SECTOR', 'GICS SUB-INDUSTRY'], ['ADDED', 'W.R. Berkley', 'Financials', 'Property & Casualty \\nInsurance'], ['DELETED', 'Viacom', 'Communication Services', 'Movies & Entertainment']]\n",
      "[['S&P 500 INDEX – December 9, 2019', None, None, None], ['', 'COMPANY', 'GICS ECONOMIC SECTOR', 'GICS SUB-INDUSTRY'], ['ADDED', 'Old Dominion \\nFreight Line', 'Industrials', 'Trucking'], ['DELETED', 'SunTrust Banks', 'Financials', 'Regional Banks']]\n",
      "[['S&P 500 INDEX – December 23, 2019', None, None, None], ['', 'COMPANY', 'GICS ECONOMIC SECTOR', 'GICS SUB-INDUSTRY'], ['ADDED', 'Live Nation \\nEntertainment', 'Communication Services', 'Movies & Entertainment'], ['', 'Zebra \\nTechnologies', 'Information Technologies', 'Electronic Equipment & \\nInstruments'], ['', 'STERIS', 'Health Care', 'Health Care Equipment'], ['DELETED', 'Affiliated \\nManagers Group', 'Financials', 'Asset Management & \\nCustody Banks'], ['', 'TripAdvisor', 'Communication Services', 'Interactive Media & \\nServices'], ['', 'Macerich', 'Real Estate', 'Retail REITs']]\n",
      "[['S&P 500 INDEX – January 28, 2020', None, None, None], ['', 'COMPANY', 'GICS ECONOMIC \\nSECTOR', 'GICS SUB-INDUSTRY'], ['ADDED', 'Paycom Software', 'Information Technology', 'Application Software'], ['DELETED', 'WellCare Health \\nPlans', 'Health Care', 'Managed Health Care']]\n",
      "[['S&P 500 INDEX – March 3, 2020', None, None, None], ['', 'COMPANY', 'GICS ECONOMIC SECTOR', 'GICS SUB-INDUSTRY'], ['ADDED', 'Gardner Denver', 'Industrials', 'Industrial Machinery'], ['DELETED', 'Cimarex Energy', 'Energy', 'Oil & Gas Exploration & \\nProduction']]\n",
      "[['S&P 500 INDEX – April 3, 2020', None, None, None], ['', 'COMPANY', 'GICS ECONOMIC SECTOR', 'GICS SUB-INDUSTRY'], ['ADDED', 'Otis Worldwide', 'Industrials', 'Industrial Equipment'], ['', 'Carrier Global', 'Industrials', 'Building Products']]\n",
      "[['S&P 500 INDEX – April 6, 2020', None, None, None], ['', 'COMPANY', 'GICS ECONOMIC SECTOR', 'GICS SUB-INDUSTRY'], ['DELETED', 'Raytheon', 'Industrials', 'Aerospace & Defense'], ['', 'Macy’s', 'Consumer Discretionary', 'Department Stores']]\n",
      "No ticker found.\n",
      "[['S&P 500 INDEX – May 8, 2013', None, None, None], ['', 'COMPANY', 'GICS ECONOMIC SECTOR', 'GICS SUB-INDUSTRY'], ['ADDED', 'The Macerich \\nCompany', 'Financials', 'Retail REITs'], ['DELETED', 'Coventry Health \\nCare', 'Health Care', 'Managed Health Care']]\n",
      "No ticker found.\n",
      "[['S&P 500 INDEX – May 23, 2013', None, None, None], ['', 'COMPANY', 'GICS ECONOMIC SECTOR', 'GICS SUB-INDUSTRY'], ['ADDED', 'Kansas City \\nSouthern', 'Industrials', 'Railroads'], ['DELETED', 'Dean Foods', 'Consumer Staples', 'Packaged Foods & Meats']]\n",
      "[['S&P 500 INDEX – March 11, 2015', None, None, None], ['', 'COMPANY', 'GICS ECONOMIC SECTOR', 'GICS SUB-INDUSTRY'], ['ADDED', 'Skyworks \\nSolutions', 'Information Technology', 'Semiconductors'], ['DELETED', 'PetSmart', 'Consumer Discretionary', 'Specialty Stores']]\n",
      "No ticker found.\n",
      "[['S&P 500 INDEX – June 11, 2015', None, None, None], ['', 'COMPANY', 'GICS ECONOMIC SECTOR', 'GICS SUB-INDUSTRY'], ['ADDED', 'Qorvo', 'Information Technology', 'Semiconductors'], ['DELETED', 'Lorillard', 'Consumer Staples', 'Tobacco']]\n",
      "No ticker found.\n",
      "[['S&P 500 INDEX – JANUARY 3, 2018', None, None, None], ['', 'COMPANY', 'GICS ECONOMIC SECTOR', 'GICS SUB-INDUSTRY'], ['ADDED', 'Huntington \\nIngalls Industries', 'Industrials', 'Aerospace & Defense'], ['DELETED', 'C.R. Bard', 'Health Care', 'Health Care Equipment']]\n",
      "No ticker found.\n",
      "[['S&P 500 INDEX – October 7, 2015', None, None, None], ['', 'COMPANY', 'GICS ECONOMIC SECTOR', 'GICS SUB-INDUSTRY'], ['ADDED', 'Verisk Analytics', 'Industrials', 'Research & Consulting \\nServices'], ['DELETED', 'Joy Global', 'Industrials', 'Construction Machinery & \\nHeavy Trucks']]\n",
      "[['S&P 500 INDEX – October 30, 2015', None, None, None], ['', 'COMPANY', 'GICS ECONOMIC SECTOR', 'GICS SUB-INDUSTRY'], ['ADDED', 'Hewlett Packard \\nEnterprise', 'Information Technology', 'Technology Hardware, Storage \\n& Peripherals']]\n",
      "[['S&P 500 INDEX – November 2, 2015', None, None, None], ['', 'COMPANY', 'GICS ECONOMIC SECTOR', 'GICS SUB-INDUSTRY'], ['DELETED', 'Hudson  City \\nBancorp', 'Financials', 'Thrifts & Mortgage Finance']]\n",
      "No ticker found.\n",
      "[['S&P 500 INDEX – November 9, 2015', None, None, None], ['', 'COMPANY', 'GICS ECONOMIC SECTOR', 'GICS SUB-INDUSTRY'], ['ADDED', 'Four Corners \\nProperty Trust', 'Consumer Discretionary', 'Restaurants']]\n",
      "[['S&P 500 INDEX – November 10, 2015', None, None, None], ['', 'COMPANY', 'GICS ECONOMIC SECTOR', 'GICS SUB-INDUSTRY'], ['DELETED', 'Four Corners \\nProperty Trust', 'Consumer Discretionary', 'Restaurants']]\n",
      "[['S&P 500 INDEX – November 17, 2015', None, None, None], ['', 'COMPANY', 'GICS ECONOMIC SECTOR', 'GICS SUB-INDUSTRY'], ['ADDED', 'Synchrony Financial', 'Financials', 'Consumer Finance'], ['DELETED', 'Genworth Financial', 'Financials', 'Multi-line Insurance']]\n",
      "[['S&P 500 INDEX – November 18, 2015', None, None, None], ['', 'COMPANY', 'GICS ECONOMIC SECTOR', 'GICS SUB-INDUSTRY'], ['ADDED', 'Illumina', 'Health Care', 'Life Sciences Tools & Services'], ['DELETED', 'Sigma-Aldrich', 'Materials', 'Specialty Chemicals']]\n",
      "No ticker found.\n",
      "[['S&P 500 INDEX – January 4, 2016', None, None, None], ['', 'COMPANY', 'GICS ECONOMIC SECTOR', 'GICS SUB-INDUSTRY'], ['ADDED', 'Willis Towers \\nWatson', 'Financials', 'Insurance Brokers'], ['DELETED', 'Fossil Group', 'Consumer Discretionary', 'Apparel Accessories & Luxury \\nGoods']]\n",
      "[['S&P 500 INDEX – January 15, 2016', None, None, None], ['', 'COMPANY', 'GICS ECONOMIC SECTOR', 'GICS SUB-INDUSTRY'], ['ADDED', 'Extra Space Storage', 'Financials', 'Specialized REITs'], ['DELETED', 'Chubb', 'Financials', 'Property & Casualty Insurance']]\n",
      "[['S&P 500 INDEX – January 29, 2016', None, None, None], ['', 'COMPANY', 'GICS ECONOMIC SECTOR', 'GICS SUB-INDUSTRY'], ['ADDED', 'Federal Realty Trust', 'Financials', 'Retail REITs'], ['DELETED', 'Broadcom', 'Information Technology', 'Semiconductors']]\n",
      "No ticker found.\n",
      "[['S&P 500 INDEX – January 29, 2016', None, None, None], ['', 'COMPANY', 'GICS ECONOMIC SECTOR', 'GICS SUB-INDUSTRY'], ['ADDED', 'Citizens Financial \\nGroup', 'Financials', 'Regional Banks'], ['DELETED', 'Precision Castparts', 'Industrials', 'Aerospace & Defense']]\n",
      "No ticker found.\n",
      "[['S&P 500 INDEX – February 19, 2016', None, None, None], ['', 'COMPANY', 'GICS ECONOMIC SECTOR', 'GICS SUB-INDUSTRY'], ['ADDED', 'Concho Resources', 'Energy', 'Oil & Gas Exploration & \\nProduction'], ['DELETED', 'Plum Creek Timber', 'Financials', 'Specialized REITs']]\n",
      "No ticker found.\n",
      "[['S&P 500 INDEX –  March 3, 2016', None, None, None], ['', 'COMPANY', 'GICS ECONOMIC SECTOR', 'GICS SUB-INDUSTRY'], ['ADDED', 'American Water \\nWorks', 'Utilities', 'Water Utilities'], ['DELETED', 'CONSOL Energy', 'Energy', 'Coal & Consumable Fuels']]\n",
      "[['S&P 500 INDEX – March 4, 2016', None, None, None], ['', 'COMPANY', 'GICS ECONOMIC SECTOR', 'GICS SUB-INDUSTRY'], ['ADDED', 'UDR', 'Financials', 'Residential REITs'], ['DELETED', 'Keurig Green \\nMountain', 'Consumer Staples', 'Packaged Foods & Meats']]\n",
      "No ticker found.\n",
      "[['S&P 500 INDEX –  April 1, 2016', None, None, None], ['', 'COMPANY', 'GICS ECONOMIC SECTOR', 'GICS SUB-INDUSTRY'], ['ADDED', 'Foot Locker', 'Consumer Discretionary', 'Apparel Retail'], ['DELETED', 'Cameron \\nInternational', 'Energy', 'Oil & Gas Equipment & \\nServices']]\n",
      "[['S&P 500 INDEX –  April 15, 2016', None, None, None], ['', 'COMPANY', 'GICS ECONOMIC SECTOR', 'GICS SUB-INDUSTRY'], ['ADDED', 'Ulta Salon, \\nCosmetics & \\nFragrances', 'Consumer Discretionary', 'Specialty Stores'], ['DELETED', 'Tenet Healthcare', 'Health Care', 'Health Care Facilities']]\n",
      "No ticker found.\n"
     ]
    },
    {
     "name": "stdout",
     "output_type": "stream",
     "text": [
      "[['S&P 500 INDEX – April 22, 2016', None, None, None], ['', 'COMPANY', 'GICS ECONOMIC SECTOR', 'GICS SUB-INDUSTRY'], ['ADDED', 'Global Payments', 'Information Technology', 'Data Processing & Outsourced \\nServices'], ['DELETED', 'GameStop', 'Consumer Discretionary', 'Computer & Electronic Retail']]\n",
      "[['S&P 500 INDEX – MAY 12, 2016', None, None, None], ['', 'COMPANY', 'GICS ECONOMIC SECTOR', 'GICS SUB-INDUSTRY'], ['ADDED', 'Alaska Air', 'Industrials', 'Airlines'], ['DELETED', 'SanDisk', 'Information Technology', 'Technology Hardware, \\nStorage & Peripherals']]\n",
      "No ticker found.\n",
      "[['S&P 500 INDEX – MAY 17, 2016', None, None, None], ['', 'COMPANY', 'GICS ECONOMIC SECTOR', 'GICS SUB-INDUSTRY'], ['ADDED', 'Digital Realty \\nTrust', 'Financials', 'Specialized REITs'], ['DELETED', 'Time Warner \\nCable', 'Consumer Discretionary', 'Cable & Satellite']]\n",
      "No ticker found.\n",
      "[['S&P 500 INDEX – MAY 20, 2016', None, None, None], ['', 'COMPANY', 'GICS ECONOMIC SECTOR', 'GICS SUB-INDUSTRY'], ['ADDED', 'LKQ', 'Consumer Discretionary', 'Distributors'], ['DELETED', 'Airgas', 'Materials', 'Industrial Gases']]\n",
      "No ticker found.\n",
      "[['S&P 500 INDEX – MAY 27, 2016', None, None, None], ['', 'COMPANY', 'GICS ECONOMIC SECTOR', 'GICS SUB-INDUSTRY'], ['ADDED', 'Arthur J \\nGallagher & Co.', 'Financials', 'Insurance Brokers'], ['DELETED', 'Coca-Cola \\nEnterprises', 'Consumer Staples', 'Soft Drinks']]\n",
      "No ticker found.\n",
      "No ticker found.\n",
      "[['S&P 500 INDEX – JUNE 23, 2016', None, None, None], ['', 'COMPANY', 'GICS ECONOMIC SECTOR', 'GICS SUB-INDUSTRY'], ['ADDED', 'Fortune Brands \\nHome & Security', 'Industrials', 'Building Products'], ['DELETED', 'Cablevision \\nSystems', 'Consumer Discretionary', 'Cable & Satellite']]\n",
      "[['S&P 500 INDEX – JUNE 30, 2016', None, None, None], ['', 'COMPANY', 'GICS ECONOMIC SECTOR', 'GICS SUB-INDUSTRY'], ['ADDED', 'Albemarle', 'Materials', 'Specialty Chemicals'], ['DELETED', 'TECO Energy', 'Utilities', 'Multi-Utilities']]\n",
      "[['S&P 500 INDEX – July 1, 2016', None, None, None], ['', 'COMPANY', 'GICS ECONOMIC SECTOR', 'GICS SUB-INDUSTRY'], ['ADDED', 'Fortive', 'Industrials', 'Industrial Machinery']]\n",
      "[['S&P 500 INDEX – July 5, 2016', None, None, None], ['', 'COMPANY', 'GICS ECONOMIC SECTOR', 'GICS SUB-INDUSTRY'], ['DELETED', 'Columbia \\nPipeline Group', 'Energy', 'Oil & Gas Storage & \\nTransportation']]\n",
      "[['S&P 500 INDEX – June 30, 2016', None, None, None], ['', 'COMPANY', 'GICS ECONOMIC SECTOR', 'GICS SUB-INDUSTRY'], ['ADDED', 'Alliant Energy', 'Utilities', 'Electric Utilities'], ['DELETED', 'AGL Resources', 'Utilities', 'Gas Utilities']]\n",
      "[['S&P 500 INDEX – September 2, 2016', None, None, None], ['', 'COMPANY', 'GICS ECONOMIC SECTOR', 'GICS SUB-INDUSTRY'], ['ADDED', 'Mettler-Toledo', 'Healthcare', 'Life Sciences Tool & \\nEquipment'], ['DELETED', 'Johnson \\nControls', 'Consumer Discretionary', 'Auto Parts & Equipment']]\n",
      "[['S&P 500 INDEX – September 30, 2016', None, None, None], ['', 'COMPANY', 'GICS ECONOMIC SECTOR', 'GICS SUB-INDUSTRY'], ['ADDED', 'Coty', 'Consumer Staples', 'Personal Products'], ['DELETED', 'Diamond \\nOffshore Drilling', 'Energy', 'Oil & Gas Drilling']]\n",
      "[['S&P 500 INDEX – January 4, 2017', None, None, None], ['', 'COMPANY', 'GICS ECONOMIC SECTOR', 'GICS SUB-INDUSTRY'], ['ADDED', 'IDEXX', 'Health Care', 'Health Care Equipment'], ['DELETED', 'St. Jude', 'Health Care', 'Health Care Equipment']]\n",
      "No ticker found.\n",
      "[['S&P 500 INDEX – March 13, 2017', None, None, None], ['', 'COMPANY', 'GICS ECONOMIC SECTOR', 'GICS SUB-INDUSTRY'], ['ADDED', 'DISH Network', 'Consumer Discretionary', 'Cable & Satellite'], ['DELETED', 'Linear \\nTechnology', 'Information Technology', 'Semiconductors']]\n",
      "No ticker found.\n",
      "[['S&P 500 INDEX – April 4, 2017', None, None, None], ['', 'COMPANY', 'GICS ECONOMIC SECTOR', 'GICS SUB-INDUSTRY'], ['ADDED', 'Computer \\nSciences', 'Information Technology', 'IT Consulting & Other \\nServices'], ['DELETED', 'Southwestern \\nEnergy', 'Energy', 'Oil & Gas Exploration & \\nProduction']]\n",
      "[['S&P 500 INDEX – APRIL 5, 2017', None, None, None], ['', 'COMPANY', 'GICS ECONOMIC SECTOR', 'GICS SUB-INDUSTRY'], ['ADDED', 'Gartner', 'Information Technology', 'IT Consulting & Other \\nServices'], ['DELETED', 'Dun & \\nBradstreet', 'Industrials', 'Research & Consulting \\nServices']]\n",
      "No ticker found.\n",
      "[['S&P 500 INDEX – June 2, 2017', None, None, None], ['', 'COMPANY', 'GICS ECONOMIC SECTOR', 'GICS SUB-INDUSTRY'], ['ADDED', 'IHS Markit', 'Industrials', 'Research & Consulting \\nServices'], ['DELETED', 'TEGNA', 'Consumer Discretionary', 'Broadcasting']]\n",
      "[['S&P 500 INDEX – June 19, 2017', None, None, None], ['', 'COMPANY', 'GICS ECONOMIC SECTOR', 'GICS SUB-INDUSTRY'], ['ADDED', 'Hilton Worldwide', 'Consumer Discretionary', 'Hotels, Resorts & Cruise \\nLines'], ['', 'Align \\nTechnology', 'Health Care', 'Health Care Supplies'], ['', 'ANSYS', 'Information Technologies', 'Application Software'], ['DELETED', 'Yahoo!', 'Information Technology', 'Internet Software & \\nServices'], ['', 'Teradata', 'Information Technology', 'IT Consulting & Other \\nServices'], ['', 'Ryder Systems', 'Industrials', 'Trucking']]\n",
      "No ticker found.\n",
      "[['S&P 500 INDEX – June 19, 2017', None, None, None], ['', 'COMPANY', 'GICS ECONOMIC SECTOR', 'GICS SUB-INDUSTRY'], ['ADDED', 'Everest Re', 'Financials', 'Reinsurance'], ['DELETED', 'Mead Johnson', 'Consumer Staples', 'Packaged Foods & Meats']]\n",
      "[['S&P 500 INDEX – August 7, 2017', None, None, None], ['', 'COMPANY', 'GICS ECONOMIC SECTOR', 'GICS SUB-INDUSTRY'], ['ADDED', 'Brighthouse \\nFinancial', 'Financials', 'Life & Health Insurance']]\n",
      "[['S&P 500 INDEX – August 8, 2017', None, None, None], ['', 'COMPANY', 'GICS ECONOMIC SECTOR', 'GICS SUB-INDUSTRY'], ['DELETED', 'AutoNation', 'Consumer Discretionary', 'Automotive Retail']]\n",
      "[['S&P 500 INDEX – August 29, 2017', None, None, None], ['', 'COMPANY', 'GICS ECONOMIC SECTOR', 'GICS SUB-INDUSTRY'], ['ADDED', 'Quintiles IMS \\nHoldings', 'Health Care', 'Life Sciences Tools & \\nServices'], ['DELETED', 'Whole Foods \\nMarket', 'Consumer Staples', 'Food Retail']]\n",
      "No ticker found.\n",
      "[['S&P 500 INDEX – September 1, 2017', None, None, None], ['', 'COMPANY', 'GICS ECONOMIC SECTOR', 'GICS SUB-INDUSTRY'], ['ADDED', 'SBA \\nCommunications', 'Real Estate', 'Specialized REITs'], ['DELETED', 'DuPont', 'Materials', 'Diversified Chemicals']]\n",
      "[['S&P 500 INDEX – September 18, 2017', None, None, None], ['', 'COMPANY', 'GICS ECONOMIC SECTOR', 'GICS SUB-INDUSTRY'], ['ADDED', 'Cadence Design \\nSystems', 'Information Technology', 'Application Software'], ['DELETED', 'Staples', 'Consumer Discretionary', 'Specialty Stores']]\n",
      "[['S&P 500 INDEX – OCTOBER 13, 2017', None, None, None], ['', 'COMPANY', 'GICS ECONOMIC SECTOR', 'GICS SUB-INDUSTRY'], ['ADDED', 'Norwegian \\nCruise Line', 'Consumer Discretionary', 'Hotels, Resorts & Cruise \\nLines'], ['DELETED', 'Level 3 \\nCommunications', 'Telecommunication Services', 'Alternative Carriers']]\n",
      "No ticker found.\n",
      "[['S&P 500 INDEX – November 29, 2013', None, None, None], ['', 'COMPANY', 'GICS ECONOMIC SECTOR', 'GICS SUB-INDUSTRY'], ['ADDED', 'Allegion', 'Industrials', 'Building Products'], ['DELETED', 'J.C. Penney', 'Consumer Discretionary', 'Department Stores']]\n",
      "[['S&P 500 INDEX – December 20, 2013', None, None, None], ['', 'COMPANY', 'GICS ECONOMIC SECTOR', 'GICS SUB-INDUSTRY'], ['ADDED', 'Facebook', 'Information Technology', 'Internet Software & \\nServices'], ['', 'Alliance Data \\nSystems', 'Information Technology', 'Data Processing & \\nOutsourced Services'], ['', 'Mohawk \\nIndustries', 'Consumer Discretionary', 'Home Furnishings'], ['DELETED', 'Teradyne', 'Information Technology', 'Semiconductor Equipment'], ['', 'Abercrombie & \\nFitch', 'Consumer Discretionary', 'Apparel Retail'], ['', 'JDS Uniphase', 'Information Technology', 'Communications Equipment']]\n",
      "No ticker found.\n",
      "[['S&P 500 INDEX – March 7, 2018', None, None, None], ['', 'COMPANY', 'GICS ECONOMIC SECTOR', 'GICS SUB-INDUSTRY'], ['ADDED', 'IPG Photonics', 'Information Technology', 'Electronic \\nManufacturing Services'], ['DELETED', 'Scripps \\nNetworks \\nInteractive', 'Consumer Discretionary', 'Broadcasting']]\n",
      "[['S&P 500 INDEX – March 19, 2018', None, None, None], ['', 'COMPANY', 'GICS ECONOMIC SECTOR', 'GICS SUB-INDUSTRY'], ['ADDED', 'Take-Two \\nInteractive \\nSoftware', 'Information Technology', 'Home Entertainment \\nSoftware'], ['', 'SVB Financial \\nGroup', 'Financials', 'Regional Banks'], ['', 'Nektar \\nTherapeutics', 'Health Care', 'Pharmaceuticals'], ['DELETED', 'Signet \\nJewelers', 'Consumer Discretionary', 'Specialty Stores'], ['', 'Patterson \\nCompanies', 'Health Care', 'Health Care \\nDistributors'], ['', 'Chesapeake \\nEnergy', 'Energy', 'Oil & Gas Exploration & \\nProduction']]\n"
     ]
    },
    {
     "name": "stdout",
     "output_type": "stream",
     "text": [
      "No ticker found.\n",
      "[['S&P 500 INDEX – MAY 31, 2018', None, None, None], ['', 'COMPANY', 'GICS ECONOMIC SECTOR', 'GICS SUB-INDUSTRY'], ['ADDED', 'ABIOMED', 'Health Care', 'Health Care Equipment'], ['DELETED', 'Wyndham \\nWorldwide', 'Consumer Discretionary', 'Hotels, Resorts & Cruise \\nLines']]\n",
      "[['S&P 500 INDEX – JUNE 7, 2018', None, None, None], ['', 'COMPANY', 'GICS ECONOMIC \\nSECTOR', 'GICS SUB-INDUSTRY'], ['ADDED', 'Twitter', 'Information Technology', 'Internet Software & Services'], ['DELETED', 'Monsanto', 'Materials', 'Fertilizers & Agricultural \\nChemicals']]\n",
      "No ticker found.\n",
      "[['S&P 500 INDEX – June 18, 2018', None, None, None], ['', 'COMPANY', 'GICS ECONOMIC SECTOR', 'GICS SUB-INDUSTRY'], ['ADDED', 'HollyFrontier', 'Energy', 'Oil & Gas Refining & \\nMarketing'], ['', 'Broadridge \\nFinancial \\nSolutions', 'Information Technology', 'Data Processing & \\nOutsourced Services'], ['DELETED', 'Acuity Brands', 'Industrials', 'Electrical Components \\n& Equipment'], ['', 'Range \\nResources', 'Energy', 'Oil & Gas Exploration & \\nProduction']]\n",
      "[['S&P 500 INDEX – JUNE 20, 2018', None, None, None], ['', 'COMPANY', 'GICS ECONOMIC \\nSECTOR', 'GICS SUB-INDUSTRY'], ['ADDED', 'FleetCor \\nTechnologies', 'Information Technology', 'Data Processing & Outsources \\nServices'], ['DELETED', 'Time Warner', 'Consumer Discretionary', 'Movies & Entertainment']]\n",
      "[['S&P 500 INDEX – JULY 2, 2018', None, None, None], ['', 'COMPANY', 'GICS ECONOMIC \\nSECTOR', 'GICS SUB-INDUSTRY'], ['ADDED', 'Copart', 'Industrials', 'Diversified Support Services'], ['DELETED', 'Dr Pepper Snapple', 'Consumer Staples', 'Soft Drinks']]\n",
      "[['S&P 500 INDEX – AUGUST 28, 2018', None, None, None], ['', 'COMPANY', 'GICS ECONOMIC SECTOR', 'GICS SUB-INDUSTRY'], ['ADDED', 'Arista Networks', 'Information Technology', 'Communications \\nEquipment'], ['DELETED', 'GGP', 'Real Estate', 'Retail REIT’s']]\n",
      "[['S&P 500 INDEX – September 17, 2018', None, None, None], ['', 'COMPANY', 'GICS ECONOMIC SECTOR', 'GICS SUB-INDUSTRY'], ['ADDED', 'WellCare \\nHealth Plans', 'Health Care', 'Managed Health Care'], ['DELETED', 'XL Group', 'Financials', 'Property & Casualty \\nInsurance']]\n",
      "[['S&P 500 INDEX – OCTOBER 1, 2018', None, None, None], ['', 'COMPANY', 'GICS ECONOMIC SECTOR', 'GICS SUB-INDUSTRY'], ['ADDED', 'Rollins', 'Industrials', 'Environmental & \\nFacilities Services'], ['DELETED', 'Andeavor', 'Energy', 'Oil & Gas Refining & \\nMarketing']]\n",
      "No ticker found.\n",
      "[['S&P 500 INDEX – OCTOBER 11, 2018', None, None, None], ['', 'COMPANY', 'GICS ECONOMIC SECTOR', 'GICS SUB-INDUSTRY'], ['ADDED', 'Fortinet', 'Information Technology', 'Systems Software'], ['DELETED', 'Envision \\nHealthcare', 'Health Care', 'Health Care Services']]\n",
      "No ticker found.\n",
      "[['S&P 500 INDEX – NOVEMBER 6, 2018', None, None, None], ['', 'COMPANY', 'GICS ECONOMIC SECTOR', 'GICS SUB-INDUSTRY'], ['ADDED', 'Keysight \\nTechnologies', 'Information Technology', 'Electronic Equipment & \\nInstruments'], ['DELETED', 'CA', 'Information Technology', 'Systems Software']]\n",
      "[['S&P 500 INDEX – NOVEMBER 13, 2018', None, None, None], ['', 'COMPANY', 'GICS ECONOMIC SECTOR', 'GICS SUB-INDUSTRY'], ['ADDED', 'Jack Henry', 'Information Technology', 'Data Processing & \\nOutsourced Services'], ['DELETED', 'EQT', 'Energy', 'Oil & Gas Exploration & \\nProduction']]\n",
      "[['S&P 500 INDEX – DECEMBER 3, 2018', None, None, None], ['', 'COMPANY', 'GICS ECONOMIC SECTOR', 'GICS SUB-INDUSTRY'], ['ADDED', 'Lamb Weston \\nHoldings', 'Consumer Staples', 'Packaged Foods & Meats'], ['', 'Maxim \\nIntegrated \\nProducts', 'Information Technology', 'Semiconductors'], ['', 'Diamondback \\nEnergy', 'Energy', 'Oil & Gas Exploration & \\nProduction'], ['DELETED', 'Rockwell Collins', 'Industrials', 'Aerospace & Defense'], ['', 'Aetna', 'Health Care', 'Managed Health Care'], ['', 'Stericycle', 'Industrials', 'Environmental & \\nFacilities Services']]\n",
      "No ticker found.\n",
      "[['S&P 500 INDEX – DECEMBER 24, 2018', None, None, None], ['', 'COMPANY', 'GICS ECONOMIC SECTOR', 'GICS SUB-INDUSTRY'], ['ADDED', 'Celanese', 'Materials', 'Specialty Chemicals'], ['DELETED', 'Express Scripts \\nHolding', 'Health Care', 'Health Care Services']]\n",
      "[['S&P 500 INDEX – JANUARY 2, 2019', None, None, None], ['', 'COMPANY', 'GICS ECONOMIC SECTOR', 'GICS SUB-INDUSTRY'], ['ADDED', 'First Republic', 'Financials', 'Regional Banks'], ['DELETED', 'SCANA', 'Utilities', 'Multi-Utilities']]\n",
      "No ticker found.\n",
      "[['S&P 500 INDEX – January 18, 2019', None, None, None], ['', 'COMPANY', 'GICS ECONOMIC SECTOR', 'GICS SUB-INDUSTRY'], ['ADDED', 'Teleflex', 'Health Care', 'Health Care Equipment'], ['DELETED', 'PG&E', 'Utilities', 'Electric Utilities']]\n",
      "[['S&P 500 INDEX – February 15, 2019', None, None, None], ['', 'COMPANY', 'GICS ECONOMIC SECTOR', 'GICS SUB-INDUSTRY'], ['ADDED', 'Atmos Energy', 'Utilities', 'Gas Utilities'], ['DELETED', 'Newfield \\nExploration', 'Energy', 'Oil & Gas Exploration & \\nProduction']]\n",
      "[['S&P 500 INDEX – February 27, 2019', None, None, None], ['', 'COMPANY', 'GICS ECONOMIC SECTOR', 'GICS SUB-INDUSTRY'], ['ADDED', 'Wabtec', 'Industrials', 'Construction Machinery & \\nHeavy Trucks'], ['DELETED', 'Goodyear Tire & \\nRubber', 'Consumer Discretionary', 'Tires & Rubber']]\n",
      "[['S&P 500 INDEX – MARCH 19, 2019', None, None, None], ['', 'COMPANY', 'GICS ECONOMIC SECTOR', 'GICS SUB-INDUSTRY'], ['ADDED', 'Fox', 'Communication Services', 'Broadcasting*']]\n",
      "[['S&P 500 INDEX – MARCH 20, 2019', None, None, None], ['', 'COMPANY', 'GICS ECONOMIC SECTOR', 'GICS SUB-INDUSTRY'], ['DELETED', 'Twenty-First \\nCentury Fox', 'Communication Services', 'Movies & Entertainment']]\n",
      "No ticker found.\n",
      "[['S&P 500 INDEX – APRIL 2 , 2019', None, None, None], ['', 'COMPANY', 'GICS ECONOMIC SECTOR', 'GICS SUB-INDUSTRY'], ['ADDED', 'Dow', 'Materials', 'Commodity Chemical*']]\n"
     ]
    },
    {
     "ename": "ValueError",
     "evalue": "time data 'APRIL 2 , 2019' does not match format '%B %d, %Y'",
     "output_type": "error",
     "traceback": [
      "\u001b[1;31m---------------------------------------------------------------------------\u001b[0m",
      "\u001b[1;31mValueError\u001b[0m                                Traceback (most recent call last)",
      "\u001b[1;32m<ipython-input-269-7178b8dbb6c0>\u001b[0m in \u001b[0;36m<module>\u001b[1;34m\u001b[0m\n\u001b[0;32m     24\u001b[0m             \u001b[1;32mif\u001b[0m \u001b[0many\u001b[0m\u001b[1;33m(\u001b[0m\u001b[1;34m\"S&P 500 INDEX\"\u001b[0m \u001b[1;32min\u001b[0m \u001b[0mstr\u001b[0m\u001b[1;33m(\u001b[0m\u001b[0mitem\u001b[0m\u001b[1;33m)\u001b[0m \u001b[1;32mfor\u001b[0m \u001b[0mitem\u001b[0m \u001b[1;32min\u001b[0m \u001b[0mtable\u001b[0m\u001b[1;33m[\u001b[0m\u001b[1;36m0\u001b[0m\u001b[1;33m]\u001b[0m\u001b[1;33m)\u001b[0m\u001b[1;33m:\u001b[0m\u001b[1;33m\u001b[0m\u001b[1;33m\u001b[0m\u001b[0m\n\u001b[0;32m     25\u001b[0m                 \u001b[0mprint\u001b[0m\u001b[1;33m(\u001b[0m\u001b[0mtable\u001b[0m\u001b[1;33m)\u001b[0m\u001b[1;33m\u001b[0m\u001b[1;33m\u001b[0m\u001b[0m\n\u001b[1;32m---> 26\u001b[1;33m                 \u001b[0mimplementation_date\u001b[0m \u001b[1;33m=\u001b[0m \u001b[0mfind_datetime_from_text\u001b[0m\u001b[1;33m(\u001b[0m\u001b[0mtable\u001b[0m\u001b[1;33m[\u001b[0m\u001b[1;36m0\u001b[0m\u001b[1;33m]\u001b[0m\u001b[1;33m[\u001b[0m\u001b[1;36m0\u001b[0m\u001b[1;33m]\u001b[0m\u001b[1;33m)\u001b[0m\u001b[1;33m\u001b[0m\u001b[1;33m\u001b[0m\u001b[0m\n\u001b[0m\u001b[0;32m     27\u001b[0m                 \u001b[1;32mfor\u001b[0m \u001b[0mi\u001b[0m \u001b[1;32min\u001b[0m \u001b[0mrange\u001b[0m\u001b[1;33m(\u001b[0m\u001b[1;36m2\u001b[0m\u001b[1;33m,\u001b[0m \u001b[0mlen\u001b[0m\u001b[1;33m(\u001b[0m\u001b[0mtable\u001b[0m\u001b[1;33m)\u001b[0m\u001b[1;33m)\u001b[0m\u001b[1;33m:\u001b[0m\u001b[1;33m\u001b[0m\u001b[1;33m\u001b[0m\u001b[0m\n\u001b[0;32m     28\u001b[0m                     \u001b[0mchange_type\u001b[0m \u001b[1;33m=\u001b[0m \u001b[0mtable\u001b[0m\u001b[1;33m[\u001b[0m\u001b[0mi\u001b[0m\u001b[1;33m]\u001b[0m\u001b[1;33m[\u001b[0m\u001b[1;36m0\u001b[0m\u001b[1;33m]\u001b[0m\u001b[1;33m\u001b[0m\u001b[1;33m\u001b[0m\u001b[0m\n",
      "\u001b[1;32m<ipython-input-266-616dab2b793e>\u001b[0m in \u001b[0;36mfind_datetime_from_text\u001b[1;34m(string)\u001b[0m\n\u001b[0;32m      5\u001b[0m         \u001b[1;32mreturn\u001b[0m \u001b[1;32mNone\u001b[0m\u001b[1;33m\u001b[0m\u001b[1;33m\u001b[0m\u001b[0m\n\u001b[0;32m      6\u001b[0m     \u001b[0mdate_string\u001b[0m \u001b[1;33m=\u001b[0m \u001b[0mmatch_results\u001b[0m\u001b[1;33m.\u001b[0m\u001b[0mgroup\u001b[0m\u001b[1;33m(\u001b[0m\u001b[1;36m0\u001b[0m\u001b[1;33m)\u001b[0m\u001b[1;33m\u001b[0m\u001b[1;33m\u001b[0m\u001b[0m\n\u001b[1;32m----> 7\u001b[1;33m     \u001b[1;32mreturn\u001b[0m \u001b[0mdatetime\u001b[0m\u001b[1;33m.\u001b[0m\u001b[0mstrptime\u001b[0m\u001b[1;33m(\u001b[0m\u001b[0mdate_string\u001b[0m\u001b[1;33m,\u001b[0m \u001b[1;34m'%B %d, %Y'\u001b[0m\u001b[1;33m)\u001b[0m\u001b[1;33m\u001b[0m\u001b[1;33m\u001b[0m\u001b[0m\n\u001b[0m",
      "\u001b[1;32m~\\Anaconda3\\envs\\finance\\lib\\_strptime.py\u001b[0m in \u001b[0;36m_strptime_datetime\u001b[1;34m(cls, data_string, format)\u001b[0m\n\u001b[0;32m    575\u001b[0m     \"\"\"Return a class cls instance based on the input string and the\n\u001b[0;32m    576\u001b[0m     format string.\"\"\"\n\u001b[1;32m--> 577\u001b[1;33m     \u001b[0mtt\u001b[0m\u001b[1;33m,\u001b[0m \u001b[0mfraction\u001b[0m\u001b[1;33m,\u001b[0m \u001b[0mgmtoff_fraction\u001b[0m \u001b[1;33m=\u001b[0m \u001b[0m_strptime\u001b[0m\u001b[1;33m(\u001b[0m\u001b[0mdata_string\u001b[0m\u001b[1;33m,\u001b[0m \u001b[0mformat\u001b[0m\u001b[1;33m)\u001b[0m\u001b[1;33m\u001b[0m\u001b[1;33m\u001b[0m\u001b[0m\n\u001b[0m\u001b[0;32m    578\u001b[0m     \u001b[0mtzname\u001b[0m\u001b[1;33m,\u001b[0m \u001b[0mgmtoff\u001b[0m \u001b[1;33m=\u001b[0m \u001b[0mtt\u001b[0m\u001b[1;33m[\u001b[0m\u001b[1;33m-\u001b[0m\u001b[1;36m2\u001b[0m\u001b[1;33m:\u001b[0m\u001b[1;33m]\u001b[0m\u001b[1;33m\u001b[0m\u001b[1;33m\u001b[0m\u001b[0m\n\u001b[0;32m    579\u001b[0m     \u001b[0margs\u001b[0m \u001b[1;33m=\u001b[0m \u001b[0mtt\u001b[0m\u001b[1;33m[\u001b[0m\u001b[1;33m:\u001b[0m\u001b[1;36m6\u001b[0m\u001b[1;33m]\u001b[0m \u001b[1;33m+\u001b[0m \u001b[1;33m(\u001b[0m\u001b[0mfraction\u001b[0m\u001b[1;33m,\u001b[0m\u001b[1;33m)\u001b[0m\u001b[1;33m\u001b[0m\u001b[1;33m\u001b[0m\u001b[0m\n",
      "\u001b[1;32m~\\Anaconda3\\envs\\finance\\lib\\_strptime.py\u001b[0m in \u001b[0;36m_strptime\u001b[1;34m(data_string, format)\u001b[0m\n\u001b[0;32m    357\u001b[0m     \u001b[1;32mif\u001b[0m \u001b[1;32mnot\u001b[0m \u001b[0mfound\u001b[0m\u001b[1;33m:\u001b[0m\u001b[1;33m\u001b[0m\u001b[1;33m\u001b[0m\u001b[0m\n\u001b[0;32m    358\u001b[0m         raise ValueError(\"time data %r does not match format %r\" %\n\u001b[1;32m--> 359\u001b[1;33m                          (data_string, format))\n\u001b[0m\u001b[0;32m    360\u001b[0m     \u001b[1;32mif\u001b[0m \u001b[0mlen\u001b[0m\u001b[1;33m(\u001b[0m\u001b[0mdata_string\u001b[0m\u001b[1;33m)\u001b[0m \u001b[1;33m!=\u001b[0m \u001b[0mfound\u001b[0m\u001b[1;33m.\u001b[0m\u001b[0mend\u001b[0m\u001b[1;33m(\u001b[0m\u001b[1;33m)\u001b[0m\u001b[1;33m:\u001b[0m\u001b[1;33m\u001b[0m\u001b[1;33m\u001b[0m\u001b[0m\n\u001b[0;32m    361\u001b[0m         raise ValueError(\"unconverted data remains: %s\" %\n",
      "\u001b[1;31mValueError\u001b[0m: time data 'APRIL 2 , 2019' does not match format '%B %d, %Y'"
     ]
    }
   ],
   "source": [
    "# import camelot\n",
    "# import ghostscript\n",
    "# from tika import parser\n",
    "# import textract\n",
    "# from tika import unpack\n",
    "\n",
    "for filename in os.listdir(dirPath):\n",
    "#     print(filename)\n",
    "#     file = open(dirPath + filename, 'rb')\n",
    "#     data = file.read()\n",
    "#     print(data)\n",
    "#     text = textract.process(dirPath + filename, method='tesseract', language='eng')\n",
    "#     print(text)\n",
    "#     raw = parser.from_file(dirPath + filename)\n",
    "#     print(raw['metadata'])\n",
    "#     data = unpack.from_file(dirPath + filename)\n",
    "#     print(data)\n",
    "    pdf = pdfplumber.open(dirPath + filename)\n",
    "    announcement_date = find_datetime_from_text(pdf.pages[0].extract_text())\n",
    "    for page in pdf.pages:\n",
    "        tables = page.extract_tables()\n",
    "        for table in tables:\n",
    "            if any(\"S&P 500 INDEX\" in str(item) for item in table[0]):\n",
    "                print(table)\n",
    "                implementation_date = find_datetime_from_text(table[0][0])\n",
    "                for i in range(2, len(table)):\n",
    "                    change_type = table[i][0]\n",
    "                    name = table[i][1].replace('\\n', '')\n",
    "                    ticker = get_ticker_by_name(name)\n",
    "                    row = [{'type': change_type, 'name': name, 'ticker': ticker, \n",
    "                            'implementation_date': implementation_date, 'announcement_date': announcement_date}]\n",
    "                    df = df.append(pd.DataFrame(row), ignore_index=True)\n",
    "                \n",
    "\n",
    "    #     announcement_date = re.findall(\"New York, NY, () –\", raw['content'])[0]\n",
    "#     print(announcement_date)\n",
    "#     break\n",
    "#     tables = camelot.read_pdf(dirPath + filename, pages = \"1-end\")\n",
    "#     for table in tables:\n",
    "#         print(table.df)\n",
    "#     dfs = read_pdf(dirPath + filename, pages = \"all\", multiple_tables = True, guess=False)\n",
    "#     for df in dfs:\n",
    "# #         if \"S&P 500 INDEX\" in df.values:\n",
    "# #         if \"S&P 500 INDEX\" in df[1][0]:\n",
    "#         print(df)\n",
    "#     break"
   ]
  },
  {
   "cell_type": "code",
   "execution_count": 261,
   "metadata": {},
   "outputs": [
    {
     "data": {
      "text/plain": [
       "[['S&P 500 INDEX – APRIL 2 , 2019', None, None, None],\n",
       " ['', 'COMPANY', 'GICS ECONOMIC SECTOR', 'GICS SUB-INDUSTRY'],\n",
       " ['ADDED', 'Dow', 'Materials', 'Commodity Chemical*']]"
      ]
     },
     "execution_count": 261,
     "metadata": {},
     "output_type": "execute_result"
    }
   ],
   "source": [
    "table"
   ]
  },
  {
   "cell_type": "code",
   "execution_count": 264,
   "metadata": {},
   "outputs": [],
   "source": [
    "date_string = re.search('[A-z]+ \\d\\d? ?, \\d{4}', table[0][0])"
   ]
  },
  {
   "cell_type": "code",
   "execution_count": 265,
   "metadata": {},
   "outputs": [
    {
     "data": {
      "text/plain": [
       "<re.Match object; span=(16, 30), match='APRIL 2 , 2019'>"
      ]
     },
     "execution_count": 265,
     "metadata": {},
     "output_type": "execute_result"
    }
   ],
   "source": [
    "date_string"
   ]
  },
  {
   "cell_type": "code",
   "execution_count": 259,
   "metadata": {},
   "outputs": [
    {
     "data": {
      "text/plain": [
       "datetime.datetime(2015, 11, 9, 0, 0)"
      ]
     },
     "execution_count": 259,
     "metadata": {},
     "output_type": "execute_result"
    }
   ],
   "source": [
    "find_datetime_from_text(first_page)"
   ]
  },
  {
   "cell_type": "code",
   "execution_count": 256,
   "metadata": {},
   "outputs": [
    {
     "data": {
      "text/plain": [
       "datetime.datetime(2015, 11, 17, 0, 0)"
      ]
     },
     "execution_count": 256,
     "metadata": {},
     "output_type": "execute_result"
    }
   ],
   "source": [
    "\n",
    "from datetime import datetime\n",
    "# implementation_date_string = table[0][0].split(' – ')[1]\n",
    "implementation_date_string = re.search('[A-z]+ \\d\\d?, \\d{4}', table[0][0]).group(0)\n",
    "datetime.strptime(implementation_date_string, '%B %d, %Y')\n"
   ]
  },
  {
   "cell_type": "code",
   "execution_count": 253,
   "metadata": {},
   "outputs": [
    {
     "data": {
      "text/plain": [
       "'November 17, 2015'"
      ]
     },
     "execution_count": 253,
     "metadata": {},
     "output_type": "execute_result"
    }
   ],
   "source": [
    "re.search('[A-z]+ \\d\\d?, \\d{4}', table[0][0]).group(0)"
   ]
  },
  {
   "cell_type": "code",
   "execution_count": 179,
   "metadata": {},
   "outputs": [
    {
     "name": "stdout",
     "output_type": "stream",
     "text": [
      "['ADDED', 'Synchrony Financial', 'Financials', 'Consumer Finance']\n",
      "['DELETED', 'Genworth Financial', 'Financials', 'Multi-line Insurance']\n"
     ]
    }
   ],
   "source": [
    "table[2]\n",
    "for i in range(2, len(table)):\n",
    "    print(table[i])\n",
    "    change_type = table[i][0]\n",
    "    name = table[i][1].replace('\\n', '')\n",
    "    ticker = get_ticker_by_name(name)\n",
    "    row = [{'type': change_type, 'name': name, 'ticker': ticker}]\n",
    "    df = df.append(pd.DataFrame(row), ignore_index=True)"
   ]
  },
  {
   "cell_type": "code",
   "execution_count": 180,
   "metadata": {},
   "outputs": [
    {
     "data": {
      "text/html": [
       "<div>\n",
       "<style scoped>\n",
       "    .dataframe tbody tr th:only-of-type {\n",
       "        vertical-align: middle;\n",
       "    }\n",
       "\n",
       "    .dataframe tbody tr th {\n",
       "        vertical-align: top;\n",
       "    }\n",
       "\n",
       "    .dataframe thead th {\n",
       "        text-align: right;\n",
       "    }\n",
       "</style>\n",
       "<table border=\"1\" class=\"dataframe\">\n",
       "  <thead>\n",
       "    <tr style=\"text-align: right;\">\n",
       "      <th></th>\n",
       "      <th>type</th>\n",
       "      <th>name</th>\n",
       "      <th>ticker</th>\n",
       "      <th>announcement_date</th>\n",
       "      <th>implementation_date</th>\n",
       "    </tr>\n",
       "  </thead>\n",
       "  <tbody>\n",
       "    <tr>\n",
       "      <th>0</th>\n",
       "      <td>ADDED</td>\n",
       "      <td>Synchrony Financial</td>\n",
       "      <td>NaN</td>\n",
       "      <td>NaN</td>\n",
       "      <td>NaN</td>\n",
       "    </tr>\n",
       "    <tr>\n",
       "      <th>1</th>\n",
       "      <td>DELETED</td>\n",
       "      <td>Genworth Financial</td>\n",
       "      <td>NaN</td>\n",
       "      <td>NaN</td>\n",
       "      <td>NaN</td>\n",
       "    </tr>\n",
       "    <tr>\n",
       "      <th>2</th>\n",
       "      <td>ADDED</td>\n",
       "      <td>Synchrony Financial</td>\n",
       "      <td>NaN</td>\n",
       "      <td>NaN</td>\n",
       "      <td>NaN</td>\n",
       "    </tr>\n",
       "    <tr>\n",
       "      <th>3</th>\n",
       "      <td>DELETED</td>\n",
       "      <td>Genworth Financial</td>\n",
       "      <td>NaN</td>\n",
       "      <td>NaN</td>\n",
       "      <td>NaN</td>\n",
       "    </tr>\n",
       "    <tr>\n",
       "      <th>4</th>\n",
       "      <td>ADDED</td>\n",
       "      <td>Synchrony Financial</td>\n",
       "      <td>SYF</td>\n",
       "      <td>NaN</td>\n",
       "      <td>NaN</td>\n",
       "    </tr>\n",
       "    <tr>\n",
       "      <th>5</th>\n",
       "      <td>DELETED</td>\n",
       "      <td>Genworth Financial</td>\n",
       "      <td>GNW</td>\n",
       "      <td>NaN</td>\n",
       "      <td>NaN</td>\n",
       "    </tr>\n",
       "    <tr>\n",
       "      <th>6</th>\n",
       "      <td>ADDED</td>\n",
       "      <td>Synchrony Financial</td>\n",
       "      <td>SYF</td>\n",
       "      <td>NaN</td>\n",
       "      <td>NaN</td>\n",
       "    </tr>\n",
       "    <tr>\n",
       "      <th>7</th>\n",
       "      <td>DELETED</td>\n",
       "      <td>Genworth Financial</td>\n",
       "      <td>GNW</td>\n",
       "      <td>NaN</td>\n",
       "      <td>NaN</td>\n",
       "    </tr>\n",
       "  </tbody>\n",
       "</table>\n",
       "</div>"
      ],
      "text/plain": [
       "      type                 name ticker announcement_date implementation_date\n",
       "0    ADDED  Synchrony Financial    NaN               NaN                 NaN\n",
       "1  DELETED   Genworth Financial    NaN               NaN                 NaN\n",
       "2    ADDED  Synchrony Financial    NaN               NaN                 NaN\n",
       "3  DELETED   Genworth Financial    NaN               NaN                 NaN\n",
       "4    ADDED  Synchrony Financial    SYF               NaN                 NaN\n",
       "5  DELETED   Genworth Financial    GNW               NaN                 NaN\n",
       "6    ADDED  Synchrony Financial    SYF               NaN                 NaN\n",
       "7  DELETED   Genworth Financial    GNW               NaN                 NaN"
      ]
     },
     "execution_count": 180,
     "metadata": {},
     "output_type": "execute_result"
    }
   ],
   "source": [
    "df"
   ]
  },
  {
   "cell_type": "code",
   "execution_count": 195,
   "metadata": {},
   "outputs": [
    {
     "data": {
      "text/plain": [
       "'S&P DOW JONES INDICES  PRESS RELEASE \\nAdditions to and deletions from S&P  Dow Jones Indices do not in any way reflect an opinion on the investment merits of the \\ncompanies involved. \\n \\nFor more information about S&P Dow Jones Indices, please visit www.spdji.com \\n \\n \\n  About S&P Dow Jones Indices  \\nS&P Dow Jones Indices LLC, a part of McGraw Hill Financial, is the world’s largest, global resource for index-based \\nconcepts, data and research. Home to iconic financial market indicators, such as the S&P 500® and the Dow Jones Industrial \\nAverage®, S&P Dow Jones Indices LLC has over 115 years of experience constructing innovative and transparent solutions \\nthat fulfill the needs of investors. More assets are invested in products based upon our indices than any other provider in the \\nworld. With over 1,000,000 indices covering a wide range of asset classes across the globe, S&P Dow Jones Indices LLC \\ndefines the way investors measure and trade the markets. To learn more about our company, please visit www.spdji.com. \\n \\nS&P® is a registered trademark of Standard & Poor’s Financial Services LLC (“S&P”), a part of McGraw Hill Financial. Dow \\nJones® is a registered trademark of Dow Jones Trademark Holdings LLC (“Dow Jones”). These trademarks have been \\nlicensed to S&P Dow Jones Indices LLC. It is not possible to invest directly in an index. S&P Dow Jones Indices LLC, Dow \\nJones, S&P and their respective affiliates (collectively “S&P Dow Jones Indices”) do not sponsor, endorse, sell, or promote \\nany investment fund or other investment vehicle that is offered by third parties and that seeks to provide an investment return \\nbased on the performance of any index. This document does not constitute an offer of services in jurisdictions where S&P \\nDow Jones Indices does not have the necessary licenses. S&P Dow Jones Indices receives compensation in connection with \\nlicensing its indices to third parties. \\n \\nS&P DJI MEDIA CONTACTS: \\nDavid Blitzer \\nManaging Director and Chairman of Index Committee \\nNew York, USA \\n(+1) 212 438 3907 \\ndavid.blitzer@spdji.com \\n \\nDavid R. Guarino \\nHead of Communications \\nNew York, USA \\n(+1) 212 438 1471 \\ndave.guarino@spdji.com \\n \\n \\n  2 '"
      ]
     },
     "execution_count": 195,
     "metadata": {},
     "output_type": "execute_result"
    }
   ],
   "source": [
    "page.extract_text()"
   ]
  },
  {
   "cell_type": "code",
   "execution_count": 200,
   "metadata": {},
   "outputs": [],
   "source": [
    "first_page = pdf.pages[0].extract_text()\n",
    "# datetime.strptime(pdf.pages[0].extract_text(), '%B %d, %Y')"
   ]
  },
  {
   "cell_type": "code",
   "execution_count": 242,
   "metadata": {},
   "outputs": [],
   "source": [
    "# ann_date = re.search('A-z+ dd?, dddd', first_page)\n",
    "ann_date = re.search('[A-z]+ \\d\\d?, \\d{4}', first_page)"
   ]
  },
  {
   "cell_type": "code",
   "execution_count": 243,
   "metadata": {},
   "outputs": [
    {
     "data": {
      "text/plain": [
       "<re.Match object; span=(144, 160), match='November 9, 2015'>"
      ]
     },
     "execution_count": 243,
     "metadata": {},
     "output_type": "execute_result"
    }
   ],
   "source": [
    "ann_date"
   ]
  },
  {
   "cell_type": "code",
   "execution_count": 205,
   "metadata": {},
   "outputs": [
    {
     "data": {
      "text/plain": [
       "' \\n \\n \\nSynchrony Financial Set to Join the S&P 500; Genworth Financial to Join S&P \\nMidCap 400; Rovi to Join S&P SmallCap 600 \\n \\n \\nNew York, NY, November 9, 2015 – Synchrony Financial (NYSE:SYFwi) will replace Genworth Financial Inc. (NYSE:GNW) \\nin the S&P 500, Genworth Financial will replace Rovi Corp. (NASD:ROVI) in the S&P MidCap 400, and Rovi will replace \\nPenn Virginia Corp.(NYSE:PVA) in the S&P SmallCap 600 after the close of trading on Tuesday, November 17. S&P 100 & \\n500 constituent General Electric Co. (NYSE:GE) is splitting off its approximately 85% holding in Synchrony Financial in an \\nexchange offer expected to be completed soon, pending final conditions.  Post split-off, General Electric will remain in the \\nS&P 100 and 500 indices. Genworth Financial’s total market capitalization is more representative of the mid cap market \\nspace, and Rovi’s total market capitalization is more representative of the small cap market space. Penn Virginia is ranked \\nat the bottom of the S&P SmallCap 600. \\n \\nSynchrony Financial operates as a consumer financial services company. Headquartered in Stamford, CT, the company will \\nbe added to the S&P 500 GICS (Global Industry Classification Standard) Consumer Finance Sub-Industry index. \\n \\nGenworth Financial provides insurance, retirement, and homeownership solutions. Headquartered in Richmond, VA, the \\ncompany will be added to the S&P MidCap 400 GICS Multi-line Insurance Sub-Industry index. \\n \\nRovi provides integrated solutions for the discovery and personalization of digital entertainment. Headquartered in Santa \\nClara, CA, the company will be added to the S&P SmallCap 600 GICS Systems Software Sub-Industry index. \\n \\nFollowing is a summary of the changes: \\n \\n \\nS&P 500 INDEX – November 17, 2015 \\n  COMPANY  GICS ECONOMIC SECTOR  GICS SUB-INDUSTRY \\nADDED  Synchrony Financial  Financials  Consumer Finance \\nDELETED  Genworth Financial  Financials  Multi-line Insurance \\n \\nS&P MIDCAP 400 INDEX – November 17, 2015 \\n  COMPANY  GICS ECONOMIC SECTOR  GICS SUB-INDUSTRY \\nADDED  Genworth Financial  Financials  Multi-line Insurance \\nDELETED  Rovi  Information Technology  Systems Software \\n \\nS&P SMALLCAP 600 INDEX – November 17, 2015 \\n  COMPANY  GICS ECONOMIC SECTOR  GICS SUB-INDUSTRY \\nADDED  Rovi  Information Technology  Systems Software \\nDELETED  Penn Virginia  Energy  Oil & Gas Exploration & \\nProduction \\n \\n '"
      ]
     },
     "execution_count": 205,
     "metadata": {},
     "output_type": "execute_result"
    }
   ],
   "source": [
    "first_page"
   ]
  }
 ],
 "metadata": {
  "kernelspec": {
   "display_name": "Python 3",
   "language": "python",
   "name": "python3"
  },
  "language_info": {
   "codemirror_mode": {
    "name": "ipython",
    "version": 3
   },
   "file_extension": ".py",
   "mimetype": "text/x-python",
   "name": "python",
   "nbconvert_exporter": "python",
   "pygments_lexer": "ipython3",
   "version": "3.7.6"
  }
 },
 "nbformat": 4,
 "nbformat_minor": 4
}
